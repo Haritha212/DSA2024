{
 "cells": [
  {
   "cell_type": "code",
   "execution_count": 1,
   "id": "ee448f27-065c-4def-8c69-ebb2133d8dff",
   "metadata": {
    "id": "ee448f27-065c-4def-8c69-ebb2133d8dff"
   },
   "outputs": [],
   "source": [
    "import pandas as pd\n",
    "import matplotlib.pyplot as plt\n",
    "import seaborn as sns\n",
    "import numpy as np\n",
    "import warnings\n",
    "warnings.filterwarnings(\"ignore\")"
   ]
  },
  {
   "cell_type": "markdown",
   "id": "6db3dc60",
   "metadata": {},
   "source": [
    " ### Dataset Description (heart_disease.csv):\n",
    "\n",
    "\n",
    "- age: Age of the individual\n",
    "- sex: Gender of the individual (0 = female, 1 = male)\n",
    "- chest pain type: Type of chest pain (4 categories: 0-3)\n",
    "- resting blood pressure: Resting blood pressure (in mm Hg)\n",
    "- serum cholesterol: Cholesterol level (in mg/dl)\n",
    "- fasting blood sugar: Fasting blood sugar > 120 mg/dl (1 = true, 0 = false)\n",
    "- resting electrocardiographic results: ECG results (0 = normal, 1 = ST-T abnormality, 2 = probable/definite left ventricular hypertrophy)\n",
    "- maximum heart rate achieved\n",
    "- exercise induced angina: Exercise-induced chest pain (1 = yes, 0 = no)\n",
    "- oldpeak: ST depression induced by exercise relative to rest\n",
    "- slope: The slope of the peak exercise ST segment (0-2)\n",
    "- number of major vessels: Number of major vessels (0-3) colored by fluoroscopy\n",
    "- thal: Type of thalassemia (0 = normal, 1 = fixed defect, 2 = reversible defect)\n",
    "- target: Presence of heart disease (1 = Yes, 0 = No)"
   ]
  },
  {
   "cell_type": "markdown",
   "id": "2ba88cf6",
   "metadata": {},
   "source": [
    "# Load and Explore the Data"
   ]
  },
  {
   "cell_type": "code",
   "execution_count": 2,
   "id": "51849af8",
   "metadata": {},
   "outputs": [],
   "source": [
    "df = pd.read_csv(\"heart_disease.csv\")"
   ]
  },
  {
   "cell_type": "code",
   "execution_count": 3,
   "id": "4f915abf",
   "metadata": {},
   "outputs": [
    {
     "data": {
      "text/html": [
       "<div>\n",
       "<style scoped>\n",
       "    .dataframe tbody tr th:only-of-type {\n",
       "        vertical-align: middle;\n",
       "    }\n",
       "\n",
       "    .dataframe tbody tr th {\n",
       "        vertical-align: top;\n",
       "    }\n",
       "\n",
       "    .dataframe thead th {\n",
       "        text-align: right;\n",
       "    }\n",
       "</style>\n",
       "<table border=\"1\" class=\"dataframe\">\n",
       "  <thead>\n",
       "    <tr style=\"text-align: right;\">\n",
       "      <th></th>\n",
       "      <th>age</th>\n",
       "      <th>sex</th>\n",
       "      <th>cp</th>\n",
       "      <th>trestbps</th>\n",
       "      <th>chol</th>\n",
       "      <th>fbs</th>\n",
       "      <th>restecg</th>\n",
       "      <th>thalach</th>\n",
       "      <th>exang</th>\n",
       "      <th>oldpeak</th>\n",
       "      <th>slope</th>\n",
       "      <th>ca</th>\n",
       "      <th>thal</th>\n",
       "      <th>target</th>\n",
       "    </tr>\n",
       "  </thead>\n",
       "  <tbody>\n",
       "    <tr>\n",
       "      <th>0</th>\n",
       "      <td>52</td>\n",
       "      <td>1</td>\n",
       "      <td>0</td>\n",
       "      <td>125</td>\n",
       "      <td>212</td>\n",
       "      <td>0</td>\n",
       "      <td>1</td>\n",
       "      <td>168</td>\n",
       "      <td>0</td>\n",
       "      <td>1.0</td>\n",
       "      <td>2</td>\n",
       "      <td>2</td>\n",
       "      <td>3</td>\n",
       "      <td>0</td>\n",
       "    </tr>\n",
       "    <tr>\n",
       "      <th>1</th>\n",
       "      <td>53</td>\n",
       "      <td>1</td>\n",
       "      <td>0</td>\n",
       "      <td>140</td>\n",
       "      <td>203</td>\n",
       "      <td>1</td>\n",
       "      <td>0</td>\n",
       "      <td>155</td>\n",
       "      <td>1</td>\n",
       "      <td>3.1</td>\n",
       "      <td>0</td>\n",
       "      <td>0</td>\n",
       "      <td>3</td>\n",
       "      <td>0</td>\n",
       "    </tr>\n",
       "    <tr>\n",
       "      <th>2</th>\n",
       "      <td>70</td>\n",
       "      <td>1</td>\n",
       "      <td>0</td>\n",
       "      <td>145</td>\n",
       "      <td>174</td>\n",
       "      <td>0</td>\n",
       "      <td>1</td>\n",
       "      <td>125</td>\n",
       "      <td>1</td>\n",
       "      <td>2.6</td>\n",
       "      <td>0</td>\n",
       "      <td>0</td>\n",
       "      <td>3</td>\n",
       "      <td>0</td>\n",
       "    </tr>\n",
       "    <tr>\n",
       "      <th>3</th>\n",
       "      <td>61</td>\n",
       "      <td>1</td>\n",
       "      <td>0</td>\n",
       "      <td>148</td>\n",
       "      <td>203</td>\n",
       "      <td>0</td>\n",
       "      <td>1</td>\n",
       "      <td>161</td>\n",
       "      <td>0</td>\n",
       "      <td>0.0</td>\n",
       "      <td>2</td>\n",
       "      <td>1</td>\n",
       "      <td>3</td>\n",
       "      <td>0</td>\n",
       "    </tr>\n",
       "    <tr>\n",
       "      <th>4</th>\n",
       "      <td>62</td>\n",
       "      <td>0</td>\n",
       "      <td>0</td>\n",
       "      <td>138</td>\n",
       "      <td>294</td>\n",
       "      <td>1</td>\n",
       "      <td>1</td>\n",
       "      <td>106</td>\n",
       "      <td>0</td>\n",
       "      <td>1.9</td>\n",
       "      <td>1</td>\n",
       "      <td>3</td>\n",
       "      <td>2</td>\n",
       "      <td>0</td>\n",
       "    </tr>\n",
       "  </tbody>\n",
       "</table>\n",
       "</div>"
      ],
      "text/plain": [
       "   age  sex  cp  trestbps  chol  fbs  restecg  thalach  exang  oldpeak  slope  \\\n",
       "0   52    1   0       125   212    0        1      168      0      1.0      2   \n",
       "1   53    1   0       140   203    1        0      155      1      3.1      0   \n",
       "2   70    1   0       145   174    0        1      125      1      2.6      0   \n",
       "3   61    1   0       148   203    0        1      161      0      0.0      2   \n",
       "4   62    0   0       138   294    1        1      106      0      1.9      1   \n",
       "\n",
       "   ca  thal  target  \n",
       "0   2     3       0  \n",
       "1   0     3       0  \n",
       "2   0     3       0  \n",
       "3   1     3       0  \n",
       "4   3     2       0  "
      ]
     },
     "execution_count": 3,
     "metadata": {},
     "output_type": "execute_result"
    }
   ],
   "source": [
    "df.head()"
   ]
  },
  {
   "cell_type": "code",
   "execution_count": 4,
   "id": "af148037",
   "metadata": {},
   "outputs": [
    {
     "data": {
      "text/plain": [
       "(1025, 14)"
      ]
     },
     "execution_count": 4,
     "metadata": {},
     "output_type": "execute_result"
    }
   ],
   "source": [
    "df.shape"
   ]
  },
  {
   "cell_type": "code",
   "execution_count": 5,
   "id": "ac65f0a8",
   "metadata": {},
   "outputs": [
    {
     "data": {
      "text/plain": [
       "14350"
      ]
     },
     "execution_count": 5,
     "metadata": {},
     "output_type": "execute_result"
    }
   ],
   "source": [
    "df.size"
   ]
  },
  {
   "cell_type": "code",
   "execution_count": 6,
   "id": "989063dd-e042-433a-beb3-ba9de9ee2885",
   "metadata": {
    "colab": {
     "base_uri": "https://localhost:8080/",
     "height": 523
    },
    "id": "989063dd-e042-433a-beb3-ba9de9ee2885",
    "outputId": "e6cdd6d7-01bd-4202-8ccb-68eeed2e8d95"
   },
   "outputs": [
    {
     "data": {
      "text/plain": [
       "age           int64\n",
       "sex           int64\n",
       "cp            int64\n",
       "trestbps      int64\n",
       "chol          int64\n",
       "fbs           int64\n",
       "restecg       int64\n",
       "thalach       int64\n",
       "exang         int64\n",
       "oldpeak     float64\n",
       "slope         int64\n",
       "ca            int64\n",
       "thal          int64\n",
       "target        int64\n",
       "dtype: object"
      ]
     },
     "execution_count": 6,
     "metadata": {},
     "output_type": "execute_result"
    }
   ],
   "source": [
    "df.dtypes"
   ]
  },
  {
   "cell_type": "code",
   "execution_count": 7,
   "id": "ad4a4db1",
   "metadata": {},
   "outputs": [
    {
     "name": "stdout",
     "output_type": "stream",
     "text": [
      "<class 'pandas.core.frame.DataFrame'>\n",
      "RangeIndex: 1025 entries, 0 to 1024\n",
      "Data columns (total 14 columns):\n",
      " #   Column    Non-Null Count  Dtype  \n",
      "---  ------    --------------  -----  \n",
      " 0   age       1025 non-null   int64  \n",
      " 1   sex       1025 non-null   int64  \n",
      " 2   cp        1025 non-null   int64  \n",
      " 3   trestbps  1025 non-null   int64  \n",
      " 4   chol      1025 non-null   int64  \n",
      " 5   fbs       1025 non-null   int64  \n",
      " 6   restecg   1025 non-null   int64  \n",
      " 7   thalach   1025 non-null   int64  \n",
      " 8   exang     1025 non-null   int64  \n",
      " 9   oldpeak   1025 non-null   float64\n",
      " 10  slope     1025 non-null   int64  \n",
      " 11  ca        1025 non-null   int64  \n",
      " 12  thal      1025 non-null   int64  \n",
      " 13  target    1025 non-null   int64  \n",
      "dtypes: float64(1), int64(13)\n",
      "memory usage: 112.2 KB\n"
     ]
    }
   ],
   "source": [
    "df.info()"
   ]
  },
  {
   "cell_type": "markdown",
   "id": "e70a353b",
   "metadata": {},
   "source": [
    "- 'age', 'trestbps', 'chol', 'thalach', 'oldpeak', 'slope', 'ca' are considering as numerical variables\n",
    "\n",
    "\n",
    "- 'sex','cp','fbs','restecg','exang','thal','target' are considering as categorical variables."
   ]
  },
  {
   "cell_type": "code",
   "execution_count": 8,
   "id": "5a311832",
   "metadata": {},
   "outputs": [],
   "source": [
    "#df.nunique()"
   ]
  },
  {
   "cell_type": "code",
   "execution_count": 9,
   "id": "35d98239-0828-4d41-b5dd-3a12ea8271c2",
   "metadata": {
    "id": "35d98239-0828-4d41-b5dd-3a12ea8271c2"
   },
   "outputs": [
    {
     "data": {
      "text/html": [
       "<div>\n",
       "<style scoped>\n",
       "    .dataframe tbody tr th:only-of-type {\n",
       "        vertical-align: middle;\n",
       "    }\n",
       "\n",
       "    .dataframe tbody tr th {\n",
       "        vertical-align: top;\n",
       "    }\n",
       "\n",
       "    .dataframe thead th {\n",
       "        text-align: right;\n",
       "    }\n",
       "</style>\n",
       "<table border=\"1\" class=\"dataframe\">\n",
       "  <thead>\n",
       "    <tr style=\"text-align: right;\">\n",
       "      <th></th>\n",
       "      <th>age</th>\n",
       "      <th>sex</th>\n",
       "      <th>cp</th>\n",
       "      <th>trestbps</th>\n",
       "      <th>chol</th>\n",
       "      <th>fbs</th>\n",
       "      <th>restecg</th>\n",
       "      <th>thalach</th>\n",
       "      <th>exang</th>\n",
       "      <th>oldpeak</th>\n",
       "      <th>slope</th>\n",
       "      <th>ca</th>\n",
       "      <th>thal</th>\n",
       "      <th>target</th>\n",
       "    </tr>\n",
       "  </thead>\n",
       "  <tbody>\n",
       "    <tr>\n",
       "      <th>count</th>\n",
       "      <td>1025.000000</td>\n",
       "      <td>1025.000000</td>\n",
       "      <td>1025.000000</td>\n",
       "      <td>1025.000000</td>\n",
       "      <td>1025.00000</td>\n",
       "      <td>1025.000000</td>\n",
       "      <td>1025.000000</td>\n",
       "      <td>1025.000000</td>\n",
       "      <td>1025.000000</td>\n",
       "      <td>1025.000000</td>\n",
       "      <td>1025.000000</td>\n",
       "      <td>1025.000000</td>\n",
       "      <td>1025.000000</td>\n",
       "      <td>1025.000000</td>\n",
       "    </tr>\n",
       "    <tr>\n",
       "      <th>mean</th>\n",
       "      <td>54.434146</td>\n",
       "      <td>0.695610</td>\n",
       "      <td>0.942439</td>\n",
       "      <td>131.611707</td>\n",
       "      <td>246.00000</td>\n",
       "      <td>0.149268</td>\n",
       "      <td>0.529756</td>\n",
       "      <td>149.114146</td>\n",
       "      <td>0.336585</td>\n",
       "      <td>1.071512</td>\n",
       "      <td>1.385366</td>\n",
       "      <td>0.754146</td>\n",
       "      <td>2.323902</td>\n",
       "      <td>0.513171</td>\n",
       "    </tr>\n",
       "    <tr>\n",
       "      <th>std</th>\n",
       "      <td>9.072290</td>\n",
       "      <td>0.460373</td>\n",
       "      <td>1.029641</td>\n",
       "      <td>17.516718</td>\n",
       "      <td>51.59251</td>\n",
       "      <td>0.356527</td>\n",
       "      <td>0.527878</td>\n",
       "      <td>23.005724</td>\n",
       "      <td>0.472772</td>\n",
       "      <td>1.175053</td>\n",
       "      <td>0.617755</td>\n",
       "      <td>1.030798</td>\n",
       "      <td>0.620660</td>\n",
       "      <td>0.500070</td>\n",
       "    </tr>\n",
       "    <tr>\n",
       "      <th>min</th>\n",
       "      <td>29.000000</td>\n",
       "      <td>0.000000</td>\n",
       "      <td>0.000000</td>\n",
       "      <td>94.000000</td>\n",
       "      <td>126.00000</td>\n",
       "      <td>0.000000</td>\n",
       "      <td>0.000000</td>\n",
       "      <td>71.000000</td>\n",
       "      <td>0.000000</td>\n",
       "      <td>0.000000</td>\n",
       "      <td>0.000000</td>\n",
       "      <td>0.000000</td>\n",
       "      <td>0.000000</td>\n",
       "      <td>0.000000</td>\n",
       "    </tr>\n",
       "    <tr>\n",
       "      <th>25%</th>\n",
       "      <td>48.000000</td>\n",
       "      <td>0.000000</td>\n",
       "      <td>0.000000</td>\n",
       "      <td>120.000000</td>\n",
       "      <td>211.00000</td>\n",
       "      <td>0.000000</td>\n",
       "      <td>0.000000</td>\n",
       "      <td>132.000000</td>\n",
       "      <td>0.000000</td>\n",
       "      <td>0.000000</td>\n",
       "      <td>1.000000</td>\n",
       "      <td>0.000000</td>\n",
       "      <td>2.000000</td>\n",
       "      <td>0.000000</td>\n",
       "    </tr>\n",
       "    <tr>\n",
       "      <th>50%</th>\n",
       "      <td>56.000000</td>\n",
       "      <td>1.000000</td>\n",
       "      <td>1.000000</td>\n",
       "      <td>130.000000</td>\n",
       "      <td>240.00000</td>\n",
       "      <td>0.000000</td>\n",
       "      <td>1.000000</td>\n",
       "      <td>152.000000</td>\n",
       "      <td>0.000000</td>\n",
       "      <td>0.800000</td>\n",
       "      <td>1.000000</td>\n",
       "      <td>0.000000</td>\n",
       "      <td>2.000000</td>\n",
       "      <td>1.000000</td>\n",
       "    </tr>\n",
       "    <tr>\n",
       "      <th>75%</th>\n",
       "      <td>61.000000</td>\n",
       "      <td>1.000000</td>\n",
       "      <td>2.000000</td>\n",
       "      <td>140.000000</td>\n",
       "      <td>275.00000</td>\n",
       "      <td>0.000000</td>\n",
       "      <td>1.000000</td>\n",
       "      <td>166.000000</td>\n",
       "      <td>1.000000</td>\n",
       "      <td>1.800000</td>\n",
       "      <td>2.000000</td>\n",
       "      <td>1.000000</td>\n",
       "      <td>3.000000</td>\n",
       "      <td>1.000000</td>\n",
       "    </tr>\n",
       "    <tr>\n",
       "      <th>max</th>\n",
       "      <td>77.000000</td>\n",
       "      <td>1.000000</td>\n",
       "      <td>3.000000</td>\n",
       "      <td>200.000000</td>\n",
       "      <td>564.00000</td>\n",
       "      <td>1.000000</td>\n",
       "      <td>2.000000</td>\n",
       "      <td>202.000000</td>\n",
       "      <td>1.000000</td>\n",
       "      <td>6.200000</td>\n",
       "      <td>2.000000</td>\n",
       "      <td>4.000000</td>\n",
       "      <td>3.000000</td>\n",
       "      <td>1.000000</td>\n",
       "    </tr>\n",
       "  </tbody>\n",
       "</table>\n",
       "</div>"
      ],
      "text/plain": [
       "               age          sex           cp     trestbps        chol  \\\n",
       "count  1025.000000  1025.000000  1025.000000  1025.000000  1025.00000   \n",
       "mean     54.434146     0.695610     0.942439   131.611707   246.00000   \n",
       "std       9.072290     0.460373     1.029641    17.516718    51.59251   \n",
       "min      29.000000     0.000000     0.000000    94.000000   126.00000   \n",
       "25%      48.000000     0.000000     0.000000   120.000000   211.00000   \n",
       "50%      56.000000     1.000000     1.000000   130.000000   240.00000   \n",
       "75%      61.000000     1.000000     2.000000   140.000000   275.00000   \n",
       "max      77.000000     1.000000     3.000000   200.000000   564.00000   \n",
       "\n",
       "               fbs      restecg      thalach        exang      oldpeak  \\\n",
       "count  1025.000000  1025.000000  1025.000000  1025.000000  1025.000000   \n",
       "mean      0.149268     0.529756   149.114146     0.336585     1.071512   \n",
       "std       0.356527     0.527878    23.005724     0.472772     1.175053   \n",
       "min       0.000000     0.000000    71.000000     0.000000     0.000000   \n",
       "25%       0.000000     0.000000   132.000000     0.000000     0.000000   \n",
       "50%       0.000000     1.000000   152.000000     0.000000     0.800000   \n",
       "75%       0.000000     1.000000   166.000000     1.000000     1.800000   \n",
       "max       1.000000     2.000000   202.000000     1.000000     6.200000   \n",
       "\n",
       "             slope           ca         thal       target  \n",
       "count  1025.000000  1025.000000  1025.000000  1025.000000  \n",
       "mean      1.385366     0.754146     2.323902     0.513171  \n",
       "std       0.617755     1.030798     0.620660     0.500070  \n",
       "min       0.000000     0.000000     0.000000     0.000000  \n",
       "25%       1.000000     0.000000     2.000000     0.000000  \n",
       "50%       1.000000     0.000000     2.000000     1.000000  \n",
       "75%       2.000000     1.000000     3.000000     1.000000  \n",
       "max       2.000000     4.000000     3.000000     1.000000  "
      ]
     },
     "execution_count": 9,
     "metadata": {},
     "output_type": "execute_result"
    }
   ],
   "source": [
    "df.describe()"
   ]
  },
  {
   "cell_type": "markdown",
   "id": "46a33f54",
   "metadata": {},
   "source": [
    "- age: Age of the patient (29–77 years).\n",
    "- trestbps: Resting blood pressure (94–200 mmHg).\n",
    "- chol: Serum cholesterol (126–564 mg/dl).\n",
    "- thalach: Maximum heart rate achieved (71–202 bpm).\n",
    "- oldpeak: ST depression induced by exercise relative to rest (0.0–6.2).\n",
    "- slope: Slope of the peak exercise ST segment (0–2).\n",
    "- ca: Number of major vessels colored by fluoroscopy (0–4)."
   ]
  },
  {
   "cell_type": "code",
   "execution_count": 10,
   "id": "4a73a20a",
   "metadata": {},
   "outputs": [
    {
     "data": {
      "text/plain": [
       "0"
      ]
     },
     "execution_count": 10,
     "metadata": {},
     "output_type": "execute_result"
    }
   ],
   "source": [
    "df.columns.duplicated().sum()   #---->Columns"
   ]
  },
  {
   "cell_type": "code",
   "execution_count": 11,
   "id": "124f426a",
   "metadata": {},
   "outputs": [
    {
     "data": {
      "text/plain": [
       "723"
      ]
     },
     "execution_count": 11,
     "metadata": {},
     "output_type": "execute_result"
    }
   ],
   "source": [
    "df.duplicated().sum()    #----->Raws-In this data no need to remove."
   ]
  },
  {
   "cell_type": "code",
   "execution_count": 12,
   "id": "34088ebf-d836-44bd-925f-0da8afb03a36",
   "metadata": {
    "colab": {
     "base_uri": "https://localhost:8080/"
    },
    "id": "34088ebf-d836-44bd-925f-0da8afb03a36",
    "outputId": "9c455f21-bb78-43a3-f525-ba3d30d64313"
   },
   "outputs": [
    {
     "data": {
      "text/plain": [
       "age         0\n",
       "sex         0\n",
       "cp          0\n",
       "trestbps    0\n",
       "chol        0\n",
       "fbs         0\n",
       "restecg     0\n",
       "thalach     0\n",
       "exang       0\n",
       "oldpeak     0\n",
       "slope       0\n",
       "ca          0\n",
       "thal        0\n",
       "target      0\n",
       "dtype: int64"
      ]
     },
     "execution_count": 12,
     "metadata": {},
     "output_type": "execute_result"
    }
   ],
   "source": [
    "df.isna().sum()"
   ]
  },
  {
   "cell_type": "markdown",
   "id": "triwVuxZEUxq",
   "metadata": {
    "id": "triwVuxZEUxq"
   },
   "source": [
    "- There is no Missing values in the dataset"
   ]
  },
  {
   "cell_type": "markdown",
   "id": "7c0df0ea",
   "metadata": {},
   "source": [
    "# Data Pre-processing & Exploratory Data Analysis"
   ]
  },
  {
   "cell_type": "code",
   "execution_count": 13,
   "id": "ed468723-7ab5-40d2-ba42-0d076a47421f",
   "metadata": {
    "colab": {
     "base_uri": "https://localhost:8080/"
    },
    "id": "ed468723-7ab5-40d2-ba42-0d076a47421f",
    "outputId": "7c5f711d-b814-47ee-89c6-19b310e569e5"
   },
   "outputs": [
    {
     "name": "stdout",
     "output_type": "stream",
     "text": [
      "Value counts for sex:\n",
      "1    713\n",
      "0    312\n",
      "Name: sex, dtype: int64\n",
      "\n",
      "Value counts for cp:\n",
      "0    497\n",
      "2    284\n",
      "1    167\n",
      "3     77\n",
      "Name: cp, dtype: int64\n",
      "\n",
      "Value counts for restecg:\n",
      "1    513\n",
      "0    497\n",
      "2     15\n",
      "Name: restecg, dtype: int64\n",
      "\n",
      "Value counts for thal:\n",
      "2    544\n",
      "3    410\n",
      "1     64\n",
      "0      7\n",
      "Name: thal, dtype: int64\n",
      "\n",
      "Value counts for target:\n",
      "1    526\n",
      "0    499\n",
      "Name: target, dtype: int64\n",
      "\n"
     ]
    }
   ],
   "source": [
    "columns_to_check = ['sex', 'cp', 'restecg','thal','target']\n",
    "for col in columns_to_check:\n",
    "    print(f\"Value counts for {col}:\\n{df[col].value_counts()}\\n\")\n"
   ]
  },
  {
   "cell_type": "code",
   "execution_count": 14,
   "id": "XeLqwg8BVSVS",
   "metadata": {
    "colab": {
     "base_uri": "https://localhost:8080/",
     "height": 541
    },
    "id": "XeLqwg8BVSVS",
    "outputId": "6f8e4801-7e57-440c-8356-c249e4e4f6fb"
   },
   "outputs": [
    {
     "data": {
      "image/png": "[encoded data removed]",
      "text/plain": [
       "<Figure size 432x288 with 1 Axes>"
      ]
     },
     "metadata": {
      "needs_background": "light"
     },
     "output_type": "display_data"
    },
    {
     "name": "stdout",
     "output_type": "stream",
     "text": [
      "1    526\n",
      "0    499\n",
      "Name: target, dtype: int64\n"
     ]
    }
   ],
   "source": [
    "y= df[\"target\"]\n",
    "\n",
    "# Plotting the count plot to visualize the distribution of the target variable\n",
    "sns.countplot(x=y)\n",
    "plt.title(\"Distribution of Target Variable (Heart Disease)\")\n",
    "plt.xlabel(\"Target (0 = No Disease, 1 = Disease)\")\n",
    "plt.ylabel(\"Count\")\n",
    "plt.show()\n",
    "\n",
    "# Printing the count of each class in the target variable\n",
    "target_temp = df[\"target\"].value_counts()\n",
    "print(target_temp)\n"
   ]
  },
  {
   "cell_type": "code",
   "execution_count": 15,
   "id": "1KerYi3UVQF5",
   "metadata": {
    "colab": {
     "base_uri": "https://localhost:8080/"
    },
    "id": "1KerYi3UVQF5",
    "outputId": "3cb58f3a-d0c6-4d4c-a347-c84611dc8b97"
   },
   "outputs": [
    {
     "name": "stdout",
     "output_type": "stream",
     "text": [
      "Percentage of patience without heart problems:  48.68\n",
      "Percentage of patience with heart problems:  51.32\n"
     ]
    }
   ],
   "source": [
    "print(\"Percentage of patience without heart problems: \",(round(target_temp[0]*100/1025,2)))\n",
    "print(\"Percentage of patience with heart problems: \",(round(target_temp[1]*100/1025,2)))"
   ]
  },
  {
   "cell_type": "code",
   "execution_count": 16,
   "id": "6v8QsxqRYM-t",
   "metadata": {
    "colab": {
     "base_uri": "https://localhost:8080/"
    },
    "id": "6v8QsxqRYM-t",
    "outputId": "3be6eddc-677d-4a11-fd8f-65f3432c8888"
   },
   "outputs": [
    {
     "name": "stdout",
     "output_type": "stream",
     "text": [
      "1    713\n",
      "0    312\n",
      "Name: sex, dtype: int64\n",
      "target    0    1\n",
      "sex             \n",
      "0        86  226\n",
      "1       413  300\n"
     ]
    }
   ],
   "source": [
    "sex_disease_status = df.groupby(['sex', 'target']).size().unstack(fill_value=0)\n",
    "print(df['sex'].value_counts())\n",
    "print(sex_disease_status)\n"
   ]
  },
  {
   "cell_type": "markdown",
   "id": "EOcSH7k2bWYr",
   "metadata": {
    "id": "EOcSH7k2bWYr"
   },
   "source": [
    "- Count of females with heart disease : 226\n",
    "- Count of females without heart disease : 86\n",
    "- Count of males with heart disease : 300\n",
    "- Count of males without heart disease : 413"
   ]
  },
  {
   "cell_type": "code",
   "execution_count": 17,
   "id": "uhnNVXS6b4B5",
   "metadata": {
    "colab": {
     "base_uri": "https://localhost:8080/"
    },
    "id": "uhnNVXS6b4B5",
    "outputId": "b0d6709a-1906-4ee7-fb92-ab3064c9aff8"
   },
   "outputs": [
    {
     "name": "stdout",
     "output_type": "stream",
     "text": [
      "Percentage of female patience with heart problems:  72.44\n",
      "Percentage of female patience without heart problems:  27.56\n",
      "Percentage of male patience with heart problems:  42.08\n",
      "Percentage of male patience without heart problems:  57.92\n"
     ]
    }
   ],
   "source": [
    "print(\"Percentage of female patience with heart problems: \",(round(sex_disease_status[1][0]*100/312,2)))\n",
    "print(\"Percentage of female patience without heart problems: \",(round(sex_disease_status[0][0]*100/312,2)))\n",
    "print(\"Percentage of male patience with heart problems: \",(round(sex_disease_status[1][1]*100/713,2)))\n",
    "print(\"Percentage of male patience without heart problems: \",(round(sex_disease_status[0][1]*100/713,2)))"
   ]
  },
  {
   "cell_type": "markdown",
   "id": "2db04657-aa62-4eb5-bda6-fcc5d79b66e3",
   "metadata": {
    "id": "2db04657-aa62-4eb5-bda6-fcc5d79b66e3"
   },
   "source": [
    "## Outlier Handling"
   ]
  },
  {
   "cell_type": "code",
   "execution_count": 18,
   "id": "4d850e51-b44b-4fb6-a56f-3481dff34847",
   "metadata": {
    "colab": {
     "base_uri": "https://localhost:8080/",
     "height": 423
    },
    "id": "4d850e51-b44b-4fb6-a56f-3481dff34847",
    "outputId": "96547486-a9e3-46ab-9f15-ad793a9ae675"
   },
   "outputs": [
    {
     "data": {
      "text/html": [
       "<div>\n",
       "<style scoped>\n",
       "    .dataframe tbody tr th:only-of-type {\n",
       "        vertical-align: middle;\n",
       "    }\n",
       "\n",
       "    .dataframe tbody tr th {\n",
       "        vertical-align: top;\n",
       "    }\n",
       "\n",
       "    .dataframe thead th {\n",
       "        text-align: right;\n",
       "    }\n",
       "</style>\n",
       "<table border=\"1\" class=\"dataframe\">\n",
       "  <thead>\n",
       "    <tr style=\"text-align: right;\">\n",
       "      <th></th>\n",
       "      <th>age</th>\n",
       "      <th>trestbps</th>\n",
       "      <th>chol</th>\n",
       "      <th>thalach</th>\n",
       "      <th>oldpeak</th>\n",
       "      <th>slope</th>\n",
       "      <th>ca</th>\n",
       "    </tr>\n",
       "  </thead>\n",
       "  <tbody>\n",
       "    <tr>\n",
       "      <th>0</th>\n",
       "      <td>52</td>\n",
       "      <td>125</td>\n",
       "      <td>212</td>\n",
       "      <td>168</td>\n",
       "      <td>1.0</td>\n",
       "      <td>2</td>\n",
       "      <td>2</td>\n",
       "    </tr>\n",
       "    <tr>\n",
       "      <th>1</th>\n",
       "      <td>53</td>\n",
       "      <td>140</td>\n",
       "      <td>203</td>\n",
       "      <td>155</td>\n",
       "      <td>3.1</td>\n",
       "      <td>0</td>\n",
       "      <td>0</td>\n",
       "    </tr>\n",
       "    <tr>\n",
       "      <th>2</th>\n",
       "      <td>70</td>\n",
       "      <td>145</td>\n",
       "      <td>174</td>\n",
       "      <td>125</td>\n",
       "      <td>2.6</td>\n",
       "      <td>0</td>\n",
       "      <td>0</td>\n",
       "    </tr>\n",
       "    <tr>\n",
       "      <th>3</th>\n",
       "      <td>61</td>\n",
       "      <td>148</td>\n",
       "      <td>203</td>\n",
       "      <td>161</td>\n",
       "      <td>0.0</td>\n",
       "      <td>2</td>\n",
       "      <td>1</td>\n",
       "    </tr>\n",
       "    <tr>\n",
       "      <th>4</th>\n",
       "      <td>62</td>\n",
       "      <td>138</td>\n",
       "      <td>294</td>\n",
       "      <td>106</td>\n",
       "      <td>1.9</td>\n",
       "      <td>1</td>\n",
       "      <td>3</td>\n",
       "    </tr>\n",
       "    <tr>\n",
       "      <th>...</th>\n",
       "      <td>...</td>\n",
       "      <td>...</td>\n",
       "      <td>...</td>\n",
       "      <td>...</td>\n",
       "      <td>...</td>\n",
       "      <td>...</td>\n",
       "      <td>...</td>\n",
       "    </tr>\n",
       "    <tr>\n",
       "      <th>1020</th>\n",
       "      <td>59</td>\n",
       "      <td>140</td>\n",
       "      <td>221</td>\n",
       "      <td>164</td>\n",
       "      <td>0.0</td>\n",
       "      <td>2</td>\n",
       "      <td>0</td>\n",
       "    </tr>\n",
       "    <tr>\n",
       "      <th>1021</th>\n",
       "      <td>60</td>\n",
       "      <td>125</td>\n",
       "      <td>258</td>\n",
       "      <td>141</td>\n",
       "      <td>2.8</td>\n",
       "      <td>1</td>\n",
       "      <td>1</td>\n",
       "    </tr>\n",
       "    <tr>\n",
       "      <th>1022</th>\n",
       "      <td>47</td>\n",
       "      <td>110</td>\n",
       "      <td>275</td>\n",
       "      <td>118</td>\n",
       "      <td>1.0</td>\n",
       "      <td>1</td>\n",
       "      <td>1</td>\n",
       "    </tr>\n",
       "    <tr>\n",
       "      <th>1023</th>\n",
       "      <td>50</td>\n",
       "      <td>110</td>\n",
       "      <td>254</td>\n",
       "      <td>159</td>\n",
       "      <td>0.0</td>\n",
       "      <td>2</td>\n",
       "      <td>0</td>\n",
       "    </tr>\n",
       "    <tr>\n",
       "      <th>1024</th>\n",
       "      <td>54</td>\n",
       "      <td>120</td>\n",
       "      <td>188</td>\n",
       "      <td>113</td>\n",
       "      <td>1.4</td>\n",
       "      <td>1</td>\n",
       "      <td>1</td>\n",
       "    </tr>\n",
       "  </tbody>\n",
       "</table>\n",
       "<p>1025 rows × 7 columns</p>\n",
       "</div>"
      ],
      "text/plain": [
       "      age  trestbps  chol  thalach  oldpeak  slope  ca\n",
       "0      52       125   212      168      1.0      2   2\n",
       "1      53       140   203      155      3.1      0   0\n",
       "2      70       145   174      125      2.6      0   0\n",
       "3      61       148   203      161      0.0      2   1\n",
       "4      62       138   294      106      1.9      1   3\n",
       "...   ...       ...   ...      ...      ...    ...  ..\n",
       "1020   59       140   221      164      0.0      2   0\n",
       "1021   60       125   258      141      2.8      1   1\n",
       "1022   47       110   275      118      1.0      1   1\n",
       "1023   50       110   254      159      0.0      2   0\n",
       "1024   54       120   188      113      1.4      1   1\n",
       "\n",
       "[1025 rows x 7 columns]"
      ]
     },
     "execution_count": 18,
     "metadata": {},
     "output_type": "execute_result"
    }
   ],
   "source": [
    "num_df = df[[\"age\", \"trestbps\", \"chol\", \"thalach\", \"oldpeak\", \"slope\", \"ca\"]]\n",
    "num_df"
   ]
  },
  {
   "cell_type": "code",
   "execution_count": 19,
   "id": "N9iesvua1_Mq",
   "metadata": {
    "colab": {
     "base_uri": "https://localhost:8080/",
     "height": 423
    },
    "id": "N9iesvua1_Mq",
    "outputId": "2bdf788d-f780-4231-d415-acd64b0921a0"
   },
   "outputs": [
    {
     "data": {
      "text/html": [
       "<div>\n",
       "<style scoped>\n",
       "    .dataframe tbody tr th:only-of-type {\n",
       "        vertical-align: middle;\n",
       "    }\n",
       "\n",
       "    .dataframe tbody tr th {\n",
       "        vertical-align: top;\n",
       "    }\n",
       "\n",
       "    .dataframe thead th {\n",
       "        text-align: right;\n",
       "    }\n",
       "</style>\n",
       "<table border=\"1\" class=\"dataframe\">\n",
       "  <thead>\n",
       "    <tr style=\"text-align: right;\">\n",
       "      <th></th>\n",
       "      <th>sex</th>\n",
       "      <th>cp</th>\n",
       "      <th>fbs</th>\n",
       "      <th>restecg</th>\n",
       "      <th>exang</th>\n",
       "      <th>thal</th>\n",
       "      <th>target</th>\n",
       "    </tr>\n",
       "  </thead>\n",
       "  <tbody>\n",
       "    <tr>\n",
       "      <th>0</th>\n",
       "      <td>1</td>\n",
       "      <td>0</td>\n",
       "      <td>0</td>\n",
       "      <td>1</td>\n",
       "      <td>0</td>\n",
       "      <td>3</td>\n",
       "      <td>0</td>\n",
       "    </tr>\n",
       "    <tr>\n",
       "      <th>1</th>\n",
       "      <td>1</td>\n",
       "      <td>0</td>\n",
       "      <td>1</td>\n",
       "      <td>0</td>\n",
       "      <td>1</td>\n",
       "      <td>3</td>\n",
       "      <td>0</td>\n",
       "    </tr>\n",
       "    <tr>\n",
       "      <th>2</th>\n",
       "      <td>1</td>\n",
       "      <td>0</td>\n",
       "      <td>0</td>\n",
       "      <td>1</td>\n",
       "      <td>1</td>\n",
       "      <td>3</td>\n",
       "      <td>0</td>\n",
       "    </tr>\n",
       "    <tr>\n",
       "      <th>3</th>\n",
       "      <td>1</td>\n",
       "      <td>0</td>\n",
       "      <td>0</td>\n",
       "      <td>1</td>\n",
       "      <td>0</td>\n",
       "      <td>3</td>\n",
       "      <td>0</td>\n",
       "    </tr>\n",
       "    <tr>\n",
       "      <th>4</th>\n",
       "      <td>0</td>\n",
       "      <td>0</td>\n",
       "      <td>1</td>\n",
       "      <td>1</td>\n",
       "      <td>0</td>\n",
       "      <td>2</td>\n",
       "      <td>0</td>\n",
       "    </tr>\n",
       "    <tr>\n",
       "      <th>...</th>\n",
       "      <td>...</td>\n",
       "      <td>...</td>\n",
       "      <td>...</td>\n",
       "      <td>...</td>\n",
       "      <td>...</td>\n",
       "      <td>...</td>\n",
       "      <td>...</td>\n",
       "    </tr>\n",
       "    <tr>\n",
       "      <th>1020</th>\n",
       "      <td>1</td>\n",
       "      <td>1</td>\n",
       "      <td>0</td>\n",
       "      <td>1</td>\n",
       "      <td>1</td>\n",
       "      <td>2</td>\n",
       "      <td>1</td>\n",
       "    </tr>\n",
       "    <tr>\n",
       "      <th>1021</th>\n",
       "      <td>1</td>\n",
       "      <td>0</td>\n",
       "      <td>0</td>\n",
       "      <td>0</td>\n",
       "      <td>1</td>\n",
       "      <td>3</td>\n",
       "      <td>0</td>\n",
       "    </tr>\n",
       "    <tr>\n",
       "      <th>1022</th>\n",
       "      <td>1</td>\n",
       "      <td>0</td>\n",
       "      <td>0</td>\n",
       "      <td>0</td>\n",
       "      <td>1</td>\n",
       "      <td>2</td>\n",
       "      <td>0</td>\n",
       "    </tr>\n",
       "    <tr>\n",
       "      <th>1023</th>\n",
       "      <td>0</td>\n",
       "      <td>0</td>\n",
       "      <td>0</td>\n",
       "      <td>0</td>\n",
       "      <td>0</td>\n",
       "      <td>2</td>\n",
       "      <td>1</td>\n",
       "    </tr>\n",
       "    <tr>\n",
       "      <th>1024</th>\n",
       "      <td>1</td>\n",
       "      <td>0</td>\n",
       "      <td>0</td>\n",
       "      <td>1</td>\n",
       "      <td>0</td>\n",
       "      <td>3</td>\n",
       "      <td>0</td>\n",
       "    </tr>\n",
       "  </tbody>\n",
       "</table>\n",
       "<p>1025 rows × 7 columns</p>\n",
       "</div>"
      ],
      "text/plain": [
       "      sex  cp  fbs  restecg  exang  thal  target\n",
       "0       1   0    0        1      0     3       0\n",
       "1       1   0    1        0      1     3       0\n",
       "2       1   0    0        1      1     3       0\n",
       "3       1   0    0        1      0     3       0\n",
       "4       0   0    1        1      0     2       0\n",
       "...   ...  ..  ...      ...    ...   ...     ...\n",
       "1020    1   1    0        1      1     2       1\n",
       "1021    1   0    0        0      1     3       0\n",
       "1022    1   0    0        0      1     2       0\n",
       "1023    0   0    0        0      0     2       1\n",
       "1024    1   0    0        1      0     3       0\n",
       "\n",
       "[1025 rows x 7 columns]"
      ]
     },
     "execution_count": 19,
     "metadata": {},
     "output_type": "execute_result"
    }
   ],
   "source": [
    "cat_df = df[[\"sex\", \"cp\", \"fbs\", \"restecg\", \"exang\", \"thal\", \"target\"]]\n",
    "cat_df"
   ]
  },
  {
   "cell_type": "code",
   "execution_count": 20,
   "id": "ad63c460-8ef9-4a0f-8d3b-5bc67867047d",
   "metadata": {
    "colab": {
     "base_uri": "https://localhost:8080/"
    },
    "id": "ad63c460-8ef9-4a0f-8d3b-5bc67867047d",
    "outputId": "0ce5e2af-b61b-4b7e-8600-c5c02e24741d"
   },
   "outputs": [
    {
     "name": "stdout",
     "output_type": "stream",
     "text": [
      "Numerical columns are\n",
      "['age', 'trestbps', 'chol', 'thalach', 'oldpeak', 'slope', 'ca']\n"
     ]
    }
   ],
   "source": [
    "print('Numerical columns are')\n",
    "num_cols=num_df.columns.tolist()\n",
    "print(num_cols)"
   ]
  },
  {
   "cell_type": "code",
   "execution_count": 21,
   "id": "c4143007-b91c-4b19-a763-9d3a8f9440f7",
   "metadata": {
    "colab": {
     "base_uri": "https://localhost:8080/",
     "height": 466
    },
    "id": "c4143007-b91c-4b19-a763-9d3a8f9440f7",
    "outputId": "cf56ac62-4c9e-4586-fbed-75a8fce3e6d8"
   },
   "outputs": [
    {
     "data": {
      "image/png": "[encoded data removed]",
      "text/plain": [
       "<Figure size 432x288 with 1 Axes>"
      ]
     },
     "metadata": {
      "needs_background": "light"
     },
     "output_type": "display_data"
    }
   ],
   "source": [
    "num_df.boxplot()\n",
    "plt.xticks(rotation = 45)\n",
    "plt.show()"
   ]
  },
  {
   "cell_type": "code",
   "execution_count": 22,
   "id": "95620108-f7d3-48ed-a883-07b6bf7eca93",
   "metadata": {
    "id": "95620108-f7d3-48ed-a883-07b6bf7eca93"
   },
   "outputs": [],
   "source": [
    "def remove_outliers (df,column_name):\n",
    "    q1 = df[column_name].quantile(0.25)\n",
    "    q3 = df[column_name].quantile(0.75)\n",
    "    IQR = q3 - q1\n",
    "    upper_bound = q3 + 1.5 * IQR\n",
    "    lower_bound = q1 - 1.5 * IQR\n",
    "    df[column_name] =   df[column_name].clip(upper = upper_bound)\n",
    "    df[column_name] =   df[column_name].clip(lower = lower_bound)\n",
    "    return df[column_name]"
   ]
  },
  {
   "cell_type": "code",
   "execution_count": 23,
   "id": "15e3c40a-95d5-47bd-bf5f-bab842dacbd9",
   "metadata": {
    "colab": {
     "base_uri": "https://localhost:8080/"
    },
    "id": "15e3c40a-95d5-47bd-bf5f-bab842dacbd9",
    "outputId": "d372568b-1b45-42ae-8a35-e71e461c87ea"
   },
   "outputs": [],
   "source": [
    "for col in num_cols:\n",
    "    num_df[col] = remove_outliers(num_df,col)"
   ]
  },
  {
   "cell_type": "code",
   "execution_count": 24,
   "id": "5974bcac-e610-4970-a4b8-9be896fc866f",
   "metadata": {
    "colab": {
     "base_uri": "https://localhost:8080/",
     "height": 466
    },
    "id": "5974bcac-e610-4970-a4b8-9be896fc866f",
    "outputId": "bbca7d9c-c424-4eb0-fb04-94d77162b539"
   },
   "outputs": [
    {
     "data": {
      "image/png": "[encoded data removed]",
      "text/plain": [
       "<Figure size 432x288 with 1 Axes>"
      ]
     },
     "metadata": {
      "needs_background": "light"
     },
     "output_type": "display_data"
    }
   ],
   "source": [
    "num_df.boxplot()\n",
    "plt.xticks(rotation = 45)\n",
    "plt.show()"
   ]
  },
  {
   "cell_type": "code",
   "execution_count": 25,
   "id": "20af1221-31e4-44c5-833a-0eaefe04d820",
   "metadata": {
    "id": "20af1221-31e4-44c5-833a-0eaefe04d820"
   },
   "outputs": [],
   "source": [
    "df = pd.concat([num_df,cat_df], axis = 1)"
   ]
  },
  {
   "cell_type": "code",
   "execution_count": 26,
   "id": "URK27dEY1znK",
   "metadata": {
    "colab": {
     "base_uri": "https://localhost:8080/",
     "height": 423
    },
    "id": "URK27dEY1znK",
    "outputId": "6c6457b5-70d2-414e-8359-016094c505a5"
   },
   "outputs": [
    {
     "data": {
      "text/html": [
       "<div>\n",
       "<style scoped>\n",
       "    .dataframe tbody tr th:only-of-type {\n",
       "        vertical-align: middle;\n",
       "    }\n",
       "\n",
       "    .dataframe tbody tr th {\n",
       "        vertical-align: top;\n",
       "    }\n",
       "\n",
       "    .dataframe thead th {\n",
       "        text-align: right;\n",
       "    }\n",
       "</style>\n",
       "<table border=\"1\" class=\"dataframe\">\n",
       "  <thead>\n",
       "    <tr style=\"text-align: right;\">\n",
       "      <th></th>\n",
       "      <th>age</th>\n",
       "      <th>trestbps</th>\n",
       "      <th>chol</th>\n",
       "      <th>thalach</th>\n",
       "      <th>oldpeak</th>\n",
       "      <th>slope</th>\n",
       "      <th>ca</th>\n",
       "      <th>sex</th>\n",
       "      <th>cp</th>\n",
       "      <th>fbs</th>\n",
       "      <th>restecg</th>\n",
       "      <th>exang</th>\n",
       "      <th>thal</th>\n",
       "      <th>target</th>\n",
       "    </tr>\n",
       "  </thead>\n",
       "  <tbody>\n",
       "    <tr>\n",
       "      <th>0</th>\n",
       "      <td>52</td>\n",
       "      <td>125.0</td>\n",
       "      <td>212.0</td>\n",
       "      <td>168.0</td>\n",
       "      <td>1.0</td>\n",
       "      <td>2</td>\n",
       "      <td>2.0</td>\n",
       "      <td>1</td>\n",
       "      <td>0</td>\n",
       "      <td>0</td>\n",
       "      <td>1</td>\n",
       "      <td>0</td>\n",
       "      <td>3</td>\n",
       "      <td>0</td>\n",
       "    </tr>\n",
       "    <tr>\n",
       "      <th>1</th>\n",
       "      <td>53</td>\n",
       "      <td>140.0</td>\n",
       "      <td>203.0</td>\n",
       "      <td>155.0</td>\n",
       "      <td>3.1</td>\n",
       "      <td>0</td>\n",
       "      <td>0.0</td>\n",
       "      <td>1</td>\n",
       "      <td>0</td>\n",
       "      <td>1</td>\n",
       "      <td>0</td>\n",
       "      <td>1</td>\n",
       "      <td>3</td>\n",
       "      <td>0</td>\n",
       "    </tr>\n",
       "    <tr>\n",
       "      <th>2</th>\n",
       "      <td>70</td>\n",
       "      <td>145.0</td>\n",
       "      <td>174.0</td>\n",
       "      <td>125.0</td>\n",
       "      <td>2.6</td>\n",
       "      <td>0</td>\n",
       "      <td>0.0</td>\n",
       "      <td>1</td>\n",
       "      <td>0</td>\n",
       "      <td>0</td>\n",
       "      <td>1</td>\n",
       "      <td>1</td>\n",
       "      <td>3</td>\n",
       "      <td>0</td>\n",
       "    </tr>\n",
       "    <tr>\n",
       "      <th>3</th>\n",
       "      <td>61</td>\n",
       "      <td>148.0</td>\n",
       "      <td>203.0</td>\n",
       "      <td>161.0</td>\n",
       "      <td>0.0</td>\n",
       "      <td>2</td>\n",
       "      <td>1.0</td>\n",
       "      <td>1</td>\n",
       "      <td>0</td>\n",
       "      <td>0</td>\n",
       "      <td>1</td>\n",
       "      <td>0</td>\n",
       "      <td>3</td>\n",
       "      <td>0</td>\n",
       "    </tr>\n",
       "    <tr>\n",
       "      <th>4</th>\n",
       "      <td>62</td>\n",
       "      <td>138.0</td>\n",
       "      <td>294.0</td>\n",
       "      <td>106.0</td>\n",
       "      <td>1.9</td>\n",
       "      <td>1</td>\n",
       "      <td>2.5</td>\n",
       "      <td>0</td>\n",
       "      <td>0</td>\n",
       "      <td>1</td>\n",
       "      <td>1</td>\n",
       "      <td>0</td>\n",
       "      <td>2</td>\n",
       "      <td>0</td>\n",
       "    </tr>\n",
       "    <tr>\n",
       "      <th>...</th>\n",
       "      <td>...</td>\n",
       "      <td>...</td>\n",
       "      <td>...</td>\n",
       "      <td>...</td>\n",
       "      <td>...</td>\n",
       "      <td>...</td>\n",
       "      <td>...</td>\n",
       "      <td>...</td>\n",
       "      <td>...</td>\n",
       "      <td>...</td>\n",
       "      <td>...</td>\n",
       "      <td>...</td>\n",
       "      <td>...</td>\n",
       "      <td>...</td>\n",
       "    </tr>\n",
       "    <tr>\n",
       "      <th>1020</th>\n",
       "      <td>59</td>\n",
       "      <td>140.0</td>\n",
       "      <td>221.0</td>\n",
       "      <td>164.0</td>\n",
       "      <td>0.0</td>\n",
       "      <td>2</td>\n",
       "      <td>0.0</td>\n",
       "      <td>1</td>\n",
       "      <td>1</td>\n",
       "      <td>0</td>\n",
       "      <td>1</td>\n",
       "      <td>1</td>\n",
       "      <td>2</td>\n",
       "      <td>1</td>\n",
       "    </tr>\n",
       "    <tr>\n",
       "      <th>1021</th>\n",
       "      <td>60</td>\n",
       "      <td>125.0</td>\n",
       "      <td>258.0</td>\n",
       "      <td>141.0</td>\n",
       "      <td>2.8</td>\n",
       "      <td>1</td>\n",
       "      <td>1.0</td>\n",
       "      <td>1</td>\n",
       "      <td>0</td>\n",
       "      <td>0</td>\n",
       "      <td>0</td>\n",
       "      <td>1</td>\n",
       "      <td>3</td>\n",
       "      <td>0</td>\n",
       "    </tr>\n",
       "    <tr>\n",
       "      <th>1022</th>\n",
       "      <td>47</td>\n",
       "      <td>110.0</td>\n",
       "      <td>275.0</td>\n",
       "      <td>118.0</td>\n",
       "      <td>1.0</td>\n",
       "      <td>1</td>\n",
       "      <td>1.0</td>\n",
       "      <td>1</td>\n",
       "      <td>0</td>\n",
       "      <td>0</td>\n",
       "      <td>0</td>\n",
       "      <td>1</td>\n",
       "      <td>2</td>\n",
       "      <td>0</td>\n",
       "    </tr>\n",
       "    <tr>\n",
       "      <th>1023</th>\n",
       "      <td>50</td>\n",
       "      <td>110.0</td>\n",
       "      <td>254.0</td>\n",
       "      <td>159.0</td>\n",
       "      <td>0.0</td>\n",
       "      <td>2</td>\n",
       "      <td>0.0</td>\n",
       "      <td>0</td>\n",
       "      <td>0</td>\n",
       "      <td>0</td>\n",
       "      <td>0</td>\n",
       "      <td>0</td>\n",
       "      <td>2</td>\n",
       "      <td>1</td>\n",
       "    </tr>\n",
       "    <tr>\n",
       "      <th>1024</th>\n",
       "      <td>54</td>\n",
       "      <td>120.0</td>\n",
       "      <td>188.0</td>\n",
       "      <td>113.0</td>\n",
       "      <td>1.4</td>\n",
       "      <td>1</td>\n",
       "      <td>1.0</td>\n",
       "      <td>1</td>\n",
       "      <td>0</td>\n",
       "      <td>0</td>\n",
       "      <td>1</td>\n",
       "      <td>0</td>\n",
       "      <td>3</td>\n",
       "      <td>0</td>\n",
       "    </tr>\n",
       "  </tbody>\n",
       "</table>\n",
       "<p>1025 rows × 14 columns</p>\n",
       "</div>"
      ],
      "text/plain": [
       "      age  trestbps   chol  thalach  oldpeak  slope   ca  sex  cp  fbs  \\\n",
       "0      52     125.0  212.0    168.0      1.0      2  2.0    1   0    0   \n",
       "1      53     140.0  203.0    155.0      3.1      0  0.0    1   0    1   \n",
       "2      70     145.0  174.0    125.0      2.6      0  0.0    1   0    0   \n",
       "3      61     148.0  203.0    161.0      0.0      2  1.0    1   0    0   \n",
       "4      62     138.0  294.0    106.0      1.9      1  2.5    0   0    1   \n",
       "...   ...       ...    ...      ...      ...    ...  ...  ...  ..  ...   \n",
       "1020   59     140.0  221.0    164.0      0.0      2  0.0    1   1    0   \n",
       "1021   60     125.0  258.0    141.0      2.8      1  1.0    1   0    0   \n",
       "1022   47     110.0  275.0    118.0      1.0      1  1.0    1   0    0   \n",
       "1023   50     110.0  254.0    159.0      0.0      2  0.0    0   0    0   \n",
       "1024   54     120.0  188.0    113.0      1.4      1  1.0    1   0    0   \n",
       "\n",
       "      restecg  exang  thal  target  \n",
       "0           1      0     3       0  \n",
       "1           0      1     3       0  \n",
       "2           1      1     3       0  \n",
       "3           1      0     3       0  \n",
       "4           1      0     2       0  \n",
       "...       ...    ...   ...     ...  \n",
       "1020        1      1     2       1  \n",
       "1021        0      1     3       0  \n",
       "1022        0      1     2       0  \n",
       "1023        0      0     2       1  \n",
       "1024        1      0     3       0  \n",
       "\n",
       "[1025 rows x 14 columns]"
      ]
     },
     "execution_count": 26,
     "metadata": {},
     "output_type": "execute_result"
    }
   ],
   "source": [
    "df"
   ]
  },
  {
   "cell_type": "markdown",
   "id": "2cf4f23a-52d1-4dbb-b08a-7979e64364b4",
   "metadata": {
    "id": "2cf4f23a-52d1-4dbb-b08a-7979e64364b4"
   },
   "source": [
    "## Scaling"
   ]
  },
  {
   "cell_type": "code",
   "execution_count": 27,
   "id": "25adab51-3621-4dd5-aaf5-22693d140257",
   "metadata": {
    "id": "25adab51-3621-4dd5-aaf5-22693d140257"
   },
   "outputs": [],
   "source": [
    "from sklearn.preprocessing import StandardScaler, MinMaxScaler\n",
    "std_scaler= StandardScaler()\n",
    "min_max = MinMaxScaler()"
   ]
  },
  {
   "cell_type": "code",
   "execution_count": 28,
   "id": "9e2daa22-d0e9-48f2-8fae-381a49afbd63",
   "metadata": {
    "colab": {
     "base_uri": "https://localhost:8080/"
    },
    "id": "9e2daa22-d0e9-48f2-8fae-381a49afbd63",
    "outputId": "d15070e0-20b7-4908-9ad7-bae14e224823"
   },
   "outputs": [
    {
     "data": {
      "text/plain": [
       "Index(['age', 'trestbps', 'chol', 'thalach', 'oldpeak', 'slope', 'ca', 'sex',\n",
       "       'cp', 'fbs', 'restecg', 'exang', 'thal', 'target'],\n",
       "      dtype='object')"
      ]
     },
     "execution_count": 28,
     "metadata": {},
     "output_type": "execute_result"
    }
   ],
   "source": [
    "df.columns"
   ]
  },
  {
   "cell_type": "code",
   "execution_count": 29,
   "id": "8fa63316-b795-497f-a77c-f4e4911dd8ab",
   "metadata": {
    "id": "8fa63316-b795-497f-a77c-f4e4911dd8ab"
   },
   "outputs": [],
   "source": [
    "numerical_cols = ['trestbps','chol','thalach','oldpeak']"
   ]
  },
  {
   "cell_type": "code",
   "execution_count": 30,
   "id": "02ef920c-c033-4e69-a340-680f6d98ec99",
   "metadata": {
    "colab": {
     "base_uri": "https://localhost:8080/",
     "height": 1000
    },
    "id": "02ef920c-c033-4e69-a340-680f6d98ec99",
    "outputId": "cb1b81ff-95f1-4f21-e376-7e8eac591fec"
   },
   "outputs": [
    {
     "data": {
      "image/png": "[encoded data removed]",
      "text/plain": [
       "<Figure size 432x288 with 1 Axes>"
      ]
     },
     "metadata": {
      "needs_background": "light"
     },
     "output_type": "display_data"
    },
    {
     "data": {
      "image/png": "[encoded data removed]",
      "text/plain": [
       "<Figure size 432x288 with 1 Axes>"
      ]
     },
     "metadata": {
      "needs_background": "light"
     },
     "output_type": "display_data"
    },
    {
     "data": {
      "image/png": "[encoded data removed]",
      "text/plain": [
       "<Figure size 432x288 with 1 Axes>"
      ]
     },
     "metadata": {
      "needs_background": "light"
     },
     "output_type": "display_data"
    },
    {
     "data": {
      "image/png": "[encoded data removed]",
      "text/plain": [
       "<Figure size 432x288 with 1 Axes>"
      ]
     },
     "metadata": {
      "needs_background": "light"
     },
     "output_type": "display_data"
    }
   ],
   "source": [
    "for col in numerical_cols :\n",
    "    plt.hist(num_df[col])\n",
    "    plt.xlabel(col)\n",
    "    plt.ylabel('counts')\n",
    "    plt.show()"
   ]
  },
  {
   "cell_type": "markdown",
   "id": "eb3438a8",
   "metadata": {},
   "source": [
    "- Check the distribution using Histogram \n",
    " - trestbps ,chols are having Gaussian distribution(Symmetric distribution) - Standard scaling\n",
    " - thalach,oldpeak are Skewed distribution - Min-Max Scaling"
   ]
  },
  {
   "cell_type": "code",
   "execution_count": 31,
   "id": "02fc199e-e68b-4f08-9072-465ea7d85fa0",
   "metadata": {
    "id": "02fc199e-e68b-4f08-9072-465ea7d85fa0"
   },
   "outputs": [],
   "source": [
    "#Standard scaling\n",
    "\n",
    "std_cols = ['trestbps','chol']"
   ]
  },
  {
   "cell_type": "code",
   "execution_count": 32,
   "id": "c6c7c10e-2d3b-47aa-8893-424b44f2434a",
   "metadata": {
    "colab": {
     "base_uri": "https://localhost:8080/",
     "height": 206
    },
    "id": "c6c7c10e-2d3b-47aa-8893-424b44f2434a",
    "outputId": "f93bf62b-01d4-4b56-a8f3-95116069369d"
   },
   "outputs": [
    {
     "data": {
      "text/html": [
       "<div>\n",
       "<style scoped>\n",
       "    .dataframe tbody tr th:only-of-type {\n",
       "        vertical-align: middle;\n",
       "    }\n",
       "\n",
       "    .dataframe tbody tr th {\n",
       "        vertical-align: top;\n",
       "    }\n",
       "\n",
       "    .dataframe thead th {\n",
       "        text-align: right;\n",
       "    }\n",
       "</style>\n",
       "<table border=\"1\" class=\"dataframe\">\n",
       "  <thead>\n",
       "    <tr style=\"text-align: right;\">\n",
       "      <th></th>\n",
       "      <th>age</th>\n",
       "      <th>trestbps</th>\n",
       "      <th>chol</th>\n",
       "      <th>thalach</th>\n",
       "      <th>oldpeak</th>\n",
       "      <th>slope</th>\n",
       "      <th>ca</th>\n",
       "      <th>sex</th>\n",
       "      <th>cp</th>\n",
       "      <th>fbs</th>\n",
       "      <th>restecg</th>\n",
       "      <th>exang</th>\n",
       "      <th>thal</th>\n",
       "      <th>target</th>\n",
       "    </tr>\n",
       "  </thead>\n",
       "  <tbody>\n",
       "    <tr>\n",
       "      <th>0</th>\n",
       "      <td>52</td>\n",
       "      <td>-0.378869</td>\n",
       "      <td>-0.691104</td>\n",
       "      <td>168.0</td>\n",
       "      <td>1.0</td>\n",
       "      <td>2</td>\n",
       "      <td>2.0</td>\n",
       "      <td>1</td>\n",
       "      <td>0</td>\n",
       "      <td>0</td>\n",
       "      <td>1</td>\n",
       "      <td>0</td>\n",
       "      <td>3</td>\n",
       "      <td>0</td>\n",
       "    </tr>\n",
       "    <tr>\n",
       "      <th>1</th>\n",
       "      <td>53</td>\n",
       "      <td>0.528894</td>\n",
       "      <td>-0.879693</td>\n",
       "      <td>155.0</td>\n",
       "      <td>3.1</td>\n",
       "      <td>0</td>\n",
       "      <td>0.0</td>\n",
       "      <td>1</td>\n",
       "      <td>0</td>\n",
       "      <td>1</td>\n",
       "      <td>0</td>\n",
       "      <td>1</td>\n",
       "      <td>3</td>\n",
       "      <td>0</td>\n",
       "    </tr>\n",
       "    <tr>\n",
       "      <th>2</th>\n",
       "      <td>70</td>\n",
       "      <td>0.831481</td>\n",
       "      <td>-1.487368</td>\n",
       "      <td>125.0</td>\n",
       "      <td>2.6</td>\n",
       "      <td>0</td>\n",
       "      <td>0.0</td>\n",
       "      <td>1</td>\n",
       "      <td>0</td>\n",
       "      <td>0</td>\n",
       "      <td>1</td>\n",
       "      <td>1</td>\n",
       "      <td>3</td>\n",
       "      <td>0</td>\n",
       "    </tr>\n",
       "    <tr>\n",
       "      <th>3</th>\n",
       "      <td>61</td>\n",
       "      <td>1.013034</td>\n",
       "      <td>-0.879693</td>\n",
       "      <td>161.0</td>\n",
       "      <td>0.0</td>\n",
       "      <td>2</td>\n",
       "      <td>1.0</td>\n",
       "      <td>1</td>\n",
       "      <td>0</td>\n",
       "      <td>0</td>\n",
       "      <td>1</td>\n",
       "      <td>0</td>\n",
       "      <td>3</td>\n",
       "      <td>0</td>\n",
       "    </tr>\n",
       "    <tr>\n",
       "      <th>4</th>\n",
       "      <td>62</td>\n",
       "      <td>0.407859</td>\n",
       "      <td>1.027150</td>\n",
       "      <td>106.0</td>\n",
       "      <td>1.9</td>\n",
       "      <td>1</td>\n",
       "      <td>2.5</td>\n",
       "      <td>0</td>\n",
       "      <td>0</td>\n",
       "      <td>1</td>\n",
       "      <td>1</td>\n",
       "      <td>0</td>\n",
       "      <td>2</td>\n",
       "      <td>0</td>\n",
       "    </tr>\n",
       "  </tbody>\n",
       "</table>\n",
       "</div>"
      ],
      "text/plain": [
       "   age  trestbps      chol  thalach  oldpeak  slope   ca  sex  cp  fbs  \\\n",
       "0   52 -0.378869 -0.691104    168.0      1.0      2  2.0    1   0    0   \n",
       "1   53  0.528894 -0.879693    155.0      3.1      0  0.0    1   0    1   \n",
       "2   70  0.831481 -1.487368    125.0      2.6      0  0.0    1   0    0   \n",
       "3   61  1.013034 -0.879693    161.0      0.0      2  1.0    1   0    0   \n",
       "4   62  0.407859  1.027150    106.0      1.9      1  2.5    0   0    1   \n",
       "\n",
       "   restecg  exang  thal  target  \n",
       "0        1      0     3       0  \n",
       "1        0      1     3       0  \n",
       "2        1      1     3       0  \n",
       "3        1      0     3       0  \n",
       "4        1      0     2       0  "
      ]
     },
     "execution_count": 32,
     "metadata": {},
     "output_type": "execute_result"
    }
   ],
   "source": [
    "df[std_cols]= std_scaler.fit_transform(df[std_cols])\n",
    "df.head()"
   ]
  },
  {
   "cell_type": "code",
   "execution_count": 33,
   "id": "93ce3fd4-1dee-449b-9371-8ae041cb9d93",
   "metadata": {
    "colab": {
     "base_uri": "https://localhost:8080/",
     "height": 927
    },
    "id": "93ce3fd4-1dee-449b-9371-8ae041cb9d93",
    "outputId": "8c922486-44bd-451b-f011-f65f76f8a8a2"
   },
   "outputs": [
    {
     "data": {
      "image/png": "[encoded data removed]",
      "text/plain": [
       "<Figure size 432x288 with 1 Axes>"
      ]
     },
     "metadata": {
      "needs_background": "light"
     },
     "output_type": "display_data"
    },
    {
     "data": {
      "image/png": "[encoded data removed]",
      "text/plain": [
       "<Figure size 432x288 with 1 Axes>"
      ]
     },
     "metadata": {
      "needs_background": "light"
     },
     "output_type": "display_data"
    }
   ],
   "source": [
    "                           # Histogram After Standard Scaling\n",
    "\n",
    "for col in std_cols:\n",
    "    plt.hist(df[col], bins=30, color='blue', alpha=0.7)\n",
    "    plt.xlabel(col)\n",
    "    plt.ylabel('Counts')\n",
    "    plt.title(f\"Histogram for {col}\")\n",
    "    plt.show()"
   ]
  },
  {
   "cell_type": "code",
   "execution_count": 34,
   "id": "29c00bc7-75b3-4bea-8eb9-31314dd2c9f4",
   "metadata": {
    "id": "29c00bc7-75b3-4bea-8eb9-31314dd2c9f4"
   },
   "outputs": [],
   "source": [
    "# Min-Max Scaling"
   ]
  },
  {
   "cell_type": "code",
   "execution_count": 35,
   "id": "7a0110b4-91ce-4ba4-b20b-dd45caf01e13",
   "metadata": {
    "id": "7a0110b4-91ce-4ba4-b20b-dd45caf01e13"
   },
   "outputs": [],
   "source": [
    "min_cols = ['thalach','oldpeak']"
   ]
  },
  {
   "cell_type": "code",
   "execution_count": 36,
   "id": "13c92cf1-3d84-4b3f-baac-4415a7224e5d",
   "metadata": {
    "colab": {
     "base_uri": "https://localhost:8080/",
     "height": 206
    },
    "id": "13c92cf1-3d84-4b3f-baac-4415a7224e5d",
    "outputId": "46ac1179-8a50-4b2a-eaab-730ec6a3f0d2"
   },
   "outputs": [
    {
     "data": {
      "text/html": [
       "<div>\n",
       "<style scoped>\n",
       "    .dataframe tbody tr th:only-of-type {\n",
       "        vertical-align: middle;\n",
       "    }\n",
       "\n",
       "    .dataframe tbody tr th {\n",
       "        vertical-align: top;\n",
       "    }\n",
       "\n",
       "    .dataframe thead th {\n",
       "        text-align: right;\n",
       "    }\n",
       "</style>\n",
       "<table border=\"1\" class=\"dataframe\">\n",
       "  <thead>\n",
       "    <tr style=\"text-align: right;\">\n",
       "      <th></th>\n",
       "      <th>age</th>\n",
       "      <th>trestbps</th>\n",
       "      <th>chol</th>\n",
       "      <th>thalach</th>\n",
       "      <th>oldpeak</th>\n",
       "      <th>slope</th>\n",
       "      <th>ca</th>\n",
       "      <th>sex</th>\n",
       "      <th>cp</th>\n",
       "      <th>fbs</th>\n",
       "      <th>restecg</th>\n",
       "      <th>exang</th>\n",
       "      <th>thal</th>\n",
       "      <th>target</th>\n",
       "    </tr>\n",
       "  </thead>\n",
       "  <tbody>\n",
       "    <tr>\n",
       "      <th>0</th>\n",
       "      <td>52</td>\n",
       "      <td>-0.378869</td>\n",
       "      <td>-0.691104</td>\n",
       "      <td>0.719008</td>\n",
       "      <td>0.222222</td>\n",
       "      <td>2</td>\n",
       "      <td>2.0</td>\n",
       "      <td>1</td>\n",
       "      <td>0</td>\n",
       "      <td>0</td>\n",
       "      <td>1</td>\n",
       "      <td>0</td>\n",
       "      <td>3</td>\n",
       "      <td>0</td>\n",
       "    </tr>\n",
       "    <tr>\n",
       "      <th>1</th>\n",
       "      <td>53</td>\n",
       "      <td>0.528894</td>\n",
       "      <td>-0.879693</td>\n",
       "      <td>0.611570</td>\n",
       "      <td>0.688889</td>\n",
       "      <td>0</td>\n",
       "      <td>0.0</td>\n",
       "      <td>1</td>\n",
       "      <td>0</td>\n",
       "      <td>1</td>\n",
       "      <td>0</td>\n",
       "      <td>1</td>\n",
       "      <td>3</td>\n",
       "      <td>0</td>\n",
       "    </tr>\n",
       "    <tr>\n",
       "      <th>2</th>\n",
       "      <td>70</td>\n",
       "      <td>0.831481</td>\n",
       "      <td>-1.487368</td>\n",
       "      <td>0.363636</td>\n",
       "      <td>0.577778</td>\n",
       "      <td>0</td>\n",
       "      <td>0.0</td>\n",
       "      <td>1</td>\n",
       "      <td>0</td>\n",
       "      <td>0</td>\n",
       "      <td>1</td>\n",
       "      <td>1</td>\n",
       "      <td>3</td>\n",
       "      <td>0</td>\n",
       "    </tr>\n",
       "    <tr>\n",
       "      <th>3</th>\n",
       "      <td>61</td>\n",
       "      <td>1.013034</td>\n",
       "      <td>-0.879693</td>\n",
       "      <td>0.661157</td>\n",
       "      <td>0.000000</td>\n",
       "      <td>2</td>\n",
       "      <td>1.0</td>\n",
       "      <td>1</td>\n",
       "      <td>0</td>\n",
       "      <td>0</td>\n",
       "      <td>1</td>\n",
       "      <td>0</td>\n",
       "      <td>3</td>\n",
       "      <td>0</td>\n",
       "    </tr>\n",
       "    <tr>\n",
       "      <th>4</th>\n",
       "      <td>62</td>\n",
       "      <td>0.407859</td>\n",
       "      <td>1.027150</td>\n",
       "      <td>0.206612</td>\n",
       "      <td>0.422222</td>\n",
       "      <td>1</td>\n",
       "      <td>2.5</td>\n",
       "      <td>0</td>\n",
       "      <td>0</td>\n",
       "      <td>1</td>\n",
       "      <td>1</td>\n",
       "      <td>0</td>\n",
       "      <td>2</td>\n",
       "      <td>0</td>\n",
       "    </tr>\n",
       "  </tbody>\n",
       "</table>\n",
       "</div>"
      ],
      "text/plain": [
       "   age  trestbps      chol   thalach   oldpeak  slope   ca  sex  cp  fbs  \\\n",
       "0   52 -0.378869 -0.691104  0.719008  0.222222      2  2.0    1   0    0   \n",
       "1   53  0.528894 -0.879693  0.611570  0.688889      0  0.0    1   0    1   \n",
       "2   70  0.831481 -1.487368  0.363636  0.577778      0  0.0    1   0    0   \n",
       "3   61  1.013034 -0.879693  0.661157  0.000000      2  1.0    1   0    0   \n",
       "4   62  0.407859  1.027150  0.206612  0.422222      1  2.5    0   0    1   \n",
       "\n",
       "   restecg  exang  thal  target  \n",
       "0        1      0     3       0  \n",
       "1        0      1     3       0  \n",
       "2        1      1     3       0  \n",
       "3        1      0     3       0  \n",
       "4        1      0     2       0  "
      ]
     },
     "execution_count": 36,
     "metadata": {},
     "output_type": "execute_result"
    }
   ],
   "source": [
    "df[min_cols] = min_max.fit_transform(df[min_cols])\n",
    "df.head()"
   ]
  },
  {
   "cell_type": "code",
   "execution_count": 37,
   "id": "2a6394c4-7e5b-49dc-b3ec-8ca1d11b848b",
   "metadata": {
    "colab": {
     "base_uri": "https://localhost:8080/",
     "height": 927
    },
    "id": "2a6394c4-7e5b-49dc-b3ec-8ca1d11b848b",
    "outputId": "b003927c-a413-47ce-c68a-a07a73e8f531"
   },
   "outputs": [
    {
     "data": {
      "image/png": "[encoded data removed]",
      "text/plain": [
       "<Figure size 432x288 with 1 Axes>"
      ]
     },
     "metadata": {
      "needs_background": "light"
     },
     "output_type": "display_data"
    },
    {
     "data": {
      "image/png": "[encoded data removed]",
      "text/plain": [
       "<Figure size 432x288 with 1 Axes>"
      ]
     },
     "metadata": {
      "needs_background": "light"
     },
     "output_type": "display_data"
    }
   ],
   "source": [
    "                          # Histogram After Standard Scaling\n",
    "for col in min_cols:\n",
    "    plt.hist(df[col], bins=30, color='blue', alpha=0.7)  # Accessing the column from the DataFrame\n",
    "    plt.xlabel(col)\n",
    "    plt.ylabel('Counts')\n",
    "    plt.title(f\"Histogram for {col}\")\n",
    "    plt.show()"
   ]
  },
  {
   "cell_type": "code",
   "execution_count": 38,
   "id": "7a1bfc1a-05c3-4198-ad85-e20ea08a6e27",
   "metadata": {
    "colab": {
     "base_uri": "https://localhost:8080/",
     "height": 206
    },
    "id": "7a1bfc1a-05c3-4198-ad85-e20ea08a6e27",
    "outputId": "4f7735cb-c63a-46ad-c299-e7a4d99acd55"
   },
   "outputs": [
    {
     "data": {
      "text/html": [
       "<div>\n",
       "<style scoped>\n",
       "    .dataframe tbody tr th:only-of-type {\n",
       "        vertical-align: middle;\n",
       "    }\n",
       "\n",
       "    .dataframe tbody tr th {\n",
       "        vertical-align: top;\n",
       "    }\n",
       "\n",
       "    .dataframe thead th {\n",
       "        text-align: right;\n",
       "    }\n",
       "</style>\n",
       "<table border=\"1\" class=\"dataframe\">\n",
       "  <thead>\n",
       "    <tr style=\"text-align: right;\">\n",
       "      <th></th>\n",
       "      <th>age</th>\n",
       "      <th>trestbps</th>\n",
       "      <th>chol</th>\n",
       "      <th>thalach</th>\n",
       "      <th>oldpeak</th>\n",
       "      <th>slope</th>\n",
       "      <th>ca</th>\n",
       "      <th>sex</th>\n",
       "      <th>cp</th>\n",
       "      <th>fbs</th>\n",
       "      <th>restecg</th>\n",
       "      <th>exang</th>\n",
       "      <th>thal</th>\n",
       "      <th>target</th>\n",
       "    </tr>\n",
       "  </thead>\n",
       "  <tbody>\n",
       "    <tr>\n",
       "      <th>0</th>\n",
       "      <td>52</td>\n",
       "      <td>-0.378869</td>\n",
       "      <td>-0.691104</td>\n",
       "      <td>0.719008</td>\n",
       "      <td>0.222222</td>\n",
       "      <td>2</td>\n",
       "      <td>2.0</td>\n",
       "      <td>1</td>\n",
       "      <td>0</td>\n",
       "      <td>0</td>\n",
       "      <td>1</td>\n",
       "      <td>0</td>\n",
       "      <td>3</td>\n",
       "      <td>0</td>\n",
       "    </tr>\n",
       "    <tr>\n",
       "      <th>1</th>\n",
       "      <td>53</td>\n",
       "      <td>0.528894</td>\n",
       "      <td>-0.879693</td>\n",
       "      <td>0.611570</td>\n",
       "      <td>0.688889</td>\n",
       "      <td>0</td>\n",
       "      <td>0.0</td>\n",
       "      <td>1</td>\n",
       "      <td>0</td>\n",
       "      <td>1</td>\n",
       "      <td>0</td>\n",
       "      <td>1</td>\n",
       "      <td>3</td>\n",
       "      <td>0</td>\n",
       "    </tr>\n",
       "    <tr>\n",
       "      <th>2</th>\n",
       "      <td>70</td>\n",
       "      <td>0.831481</td>\n",
       "      <td>-1.487368</td>\n",
       "      <td>0.363636</td>\n",
       "      <td>0.577778</td>\n",
       "      <td>0</td>\n",
       "      <td>0.0</td>\n",
       "      <td>1</td>\n",
       "      <td>0</td>\n",
       "      <td>0</td>\n",
       "      <td>1</td>\n",
       "      <td>1</td>\n",
       "      <td>3</td>\n",
       "      <td>0</td>\n",
       "    </tr>\n",
       "    <tr>\n",
       "      <th>3</th>\n",
       "      <td>61</td>\n",
       "      <td>1.013034</td>\n",
       "      <td>-0.879693</td>\n",
       "      <td>0.661157</td>\n",
       "      <td>0.000000</td>\n",
       "      <td>2</td>\n",
       "      <td>1.0</td>\n",
       "      <td>1</td>\n",
       "      <td>0</td>\n",
       "      <td>0</td>\n",
       "      <td>1</td>\n",
       "      <td>0</td>\n",
       "      <td>3</td>\n",
       "      <td>0</td>\n",
       "    </tr>\n",
       "    <tr>\n",
       "      <th>4</th>\n",
       "      <td>62</td>\n",
       "      <td>0.407859</td>\n",
       "      <td>1.027150</td>\n",
       "      <td>0.206612</td>\n",
       "      <td>0.422222</td>\n",
       "      <td>1</td>\n",
       "      <td>2.5</td>\n",
       "      <td>0</td>\n",
       "      <td>0</td>\n",
       "      <td>1</td>\n",
       "      <td>1</td>\n",
       "      <td>0</td>\n",
       "      <td>2</td>\n",
       "      <td>0</td>\n",
       "    </tr>\n",
       "  </tbody>\n",
       "</table>\n",
       "</div>"
      ],
      "text/plain": [
       "   age  trestbps      chol   thalach   oldpeak  slope   ca  sex  cp  fbs  \\\n",
       "0   52 -0.378869 -0.691104  0.719008  0.222222      2  2.0    1   0    0   \n",
       "1   53  0.528894 -0.879693  0.611570  0.688889      0  0.0    1   0    1   \n",
       "2   70  0.831481 -1.487368  0.363636  0.577778      0  0.0    1   0    0   \n",
       "3   61  1.013034 -0.879693  0.661157  0.000000      2  1.0    1   0    0   \n",
       "4   62  0.407859  1.027150  0.206612  0.422222      1  2.5    0   0    1   \n",
       "\n",
       "   restecg  exang  thal  target  \n",
       "0        1      0     3       0  \n",
       "1        0      1     3       0  \n",
       "2        1      1     3       0  \n",
       "3        1      0     3       0  \n",
       "4        1      0     2       0  "
      ]
     },
     "execution_count": 38,
     "metadata": {},
     "output_type": "execute_result"
    }
   ],
   "source": [
    "df.head()"
   ]
  },
  {
   "cell_type": "code",
   "execution_count": 39,
   "id": "9JqYxfUJG7q2",
   "metadata": {
    "id": "9JqYxfUJG7q2"
   },
   "outputs": [
    {
     "data": {
      "image/png": "[encoded data removed]",
      "text/plain": [
       "<Figure size 864x576 with 2 Axes>"
      ]
     },
     "metadata": {
      "needs_background": "light"
     },
     "output_type": "display_data"
    }
   ],
   "source": [
    "plt.figure(figsize=(12, 8))\n",
    "sns.heatmap(df.corr(), annot =True, cmap = 'coolwarm')     #---->  Heatmap to check correlation\n",
    "plt.show()"
   ]
  },
  {
   "cell_type": "markdown",
   "id": "3b6b7b84-54ee-4937-ba6a-49ead050a2e3",
   "metadata": {},
   "source": [
    "## Positive Correlation\n",
    "- Older age is linked to higher CA levels.\n",
    "- Higher thalach (heart rate) is associated with a positive target outcome.\n",
    "- Chest pain (cp) increases the likelihood of a positive target outcome.\n",
    "- cp, thalach, and slope together are strong indicators of the target outcome."
   ]
  },
  {
   "cell_type": "markdown",
   "id": "b85629f8-5714-41e4-9502-ef98c9dc777c",
   "metadata": {},
   "source": [
    "## Negative Correlation\n",
    "- Older age is negatively correlated with thalach (heart rate).\n",
    "- Higher oldpeak is linked to a lower likelihood of a positive target outcome.\n",
    "- A steeper slope is associated with a lower oldpeak.\n",
    "- CA is negatively correlated with a positive target outcome.\n",
    "- Chest pain (cp) and exercise-induced angina (exang) are inversely related.\n",
    "- Exang and target, as well as cp, are negatively correlated.\n",
    "- Thalach, exang, sex, CA, and oldpeak are all negatively associated with a positive target outcome."
   ]
  },
  {
   "cell_type": "markdown",
   "id": "0dedf206-2808-4fd2-95c5-7f28d523280d",
   "metadata": {
    "id": "0dedf206-2808-4fd2-95c5-7f28d523280d"
   },
   "source": [
    "#  Train-Test Split"
   ]
  },
  {
   "cell_type": "code",
   "execution_count": 40,
   "id": "76G-KR0jBqhE",
   "metadata": {
    "id": "76G-KR0jBqhE"
   },
   "outputs": [],
   "source": [
    "from sklearn.model_selection import train_test_split"
   ]
  },
  {
   "cell_type": "code",
   "execution_count": 41,
   "id": "dc8e3345-6c61-4e48-a7c6-c945570f2f0d",
   "metadata": {
    "id": "dc8e3345-6c61-4e48-a7c6-c945570f2f0d"
   },
   "outputs": [],
   "source": [
    "y= df['chol']\n",
    "X = df.drop(\"chol\",axis = 1)"
   ]
  },
  {
   "cell_type": "code",
   "execution_count": 42,
   "id": "9888cf2d-b34c-4230-b3ff-fc2fbe128508",
   "metadata": {
    "id": "9888cf2d-b34c-4230-b3ff-fc2fbe128508"
   },
   "outputs": [],
   "source": [
    "X_train,X_test,y_train,y_test = train_test_split(X,y,test_size = 0.2, random_state = 2)"
   ]
  },
  {
   "cell_type": "markdown",
   "id": "38938a5e",
   "metadata": {},
   "source": [
    "# Build Machine Learning Models & Evaluation"
   ]
  },
  {
   "cell_type": "markdown",
   "id": "0d46212e-97e4-4a42-ae04-128a4869afe3",
   "metadata": {
    "id": "V4NTwN4hBnxv"
   },
   "source": [
    "## Regression"
   ]
  },
  {
   "cell_type": "code",
   "execution_count": 43,
   "id": "nKl-VRsnCYMJ",
   "metadata": {
    "id": "nKl-VRsnCYMJ"
   },
   "outputs": [],
   "source": [
    "from sklearn.linear_model import LinearRegression\n",
    "from sklearn.metrics import r2_score , mean_squared_error\n",
    "model = LinearRegression()"
   ]
  },
  {
   "cell_type": "code",
   "execution_count": 44,
   "id": "UmPSOhzyFyfL",
   "metadata": {
    "id": "UmPSOhzyFyfL"
   },
   "outputs": [],
   "source": [
    "model.fit(X_train, y_train)\n",
    "y_pred = model.predict(X_test)"
   ]
  },
  {
   "cell_type": "code",
   "execution_count": 45,
   "id": "nTCGlp0rF0Ss",
   "metadata": {
    "colab": {
     "base_uri": "https://localhost:8080/"
    },
    "id": "nTCGlp0rF0Ss",
    "outputId": "ba28e02c-0c91-43ba-b906-58fb555ec6dc"
   },
   "outputs": [
    {
     "name": "stdout",
     "output_type": "stream",
     "text": [
      "Mean Squared Error 0.8111598117028644\n",
      "R2 score : 0.15322134971896018\n"
     ]
    }
   ],
   "source": [
    "mse = mean_squared_error( y_test,y_pred)\n",
    "r2 = r2_score(y_test,y_pred)\n",
    "print(\"Mean Squared Error\" , mse)\n",
    "print(\"R2 score :\", r2)"
   ]
  },
  {
   "cell_type": "code",
   "execution_count": 46,
   "id": "33929556-c1fa-4f3a-b0fb-56fe044e261c",
   "metadata": {},
   "outputs": [
    {
     "data": {
      "text/plain": [
       "<matplotlib.collections.PathCollection at 0x2155bb16640>"
      ]
     },
     "execution_count": 46,
     "metadata": {},
     "output_type": "execute_result"
    },
    {
     "data": {
      "image/png": "[encoded data removed]",
      "text/plain": [
       "<Figure size 432x288 with 1 Axes>"
      ]
     },
     "metadata": {
      "needs_background": "light"
     },
     "output_type": "display_data"
    }
   ],
   "source": [
    "plt.scatter(y_test, y_pred)"
   ]
  },
  {
   "cell_type": "markdown",
   "id": "LoVZIFPALcX-",
   "metadata": {
    "id": "LoVZIFPALcX-"
   },
   "source": [
    "# Classification"
   ]
  },
  {
   "cell_type": "markdown",
   "id": "d08bc12b",
   "metadata": {},
   "source": [
    "## 1. Logistic regression"
   ]
  },
  {
   "cell_type": "code",
   "execution_count": 47,
   "id": "gOaAkLpVF6HX",
   "metadata": {
    "id": "gOaAkLpVF6HX"
   },
   "outputs": [],
   "source": [
    "from sklearn.linear_model import LogisticRegression\n",
    "from sklearn.neighbors import KNeighborsClassifier\n",
    "from sklearn.metrics import accuracy_score, classification_report,precision_score,recall_score,f1_score"
   ]
  },
  {
   "cell_type": "code",
   "execution_count": 48,
   "id": "29FdWsl5MbZR",
   "metadata": {
    "id": "29FdWsl5MbZR"
   },
   "outputs": [],
   "source": [
    "y= df['target']\n",
    "X = df.drop(\"target\",axis = 1)"
   ]
  },
  {
   "cell_type": "code",
   "execution_count": 49,
   "id": "y5m4bIuyNBCr",
   "metadata": {
    "id": "y5m4bIuyNBCr"
   },
   "outputs": [],
   "source": [
    "X_train, X_test, y_train, y_test = train_test_split(X, y, test_size=0.3, random_state=42)"
   ]
  },
  {
   "cell_type": "code",
   "execution_count": 50,
   "id": "r5tMmZ2EL8wI",
   "metadata": {
    "colab": {
     "base_uri": "https://localhost:8080/"
    },
    "id": "r5tMmZ2EL8wI",
    "outputId": "43dd189d-45d4-46a6-d369-c9e95a481ab1"
   },
   "outputs": [],
   "source": [
    "model = LogisticRegression()\n",
    "model.fit(X_train, y_train)\n",
    "y_pred = model.predict(X_test)"
   ]
  },
  {
   "cell_type": "code",
   "execution_count": 51,
   "id": "KKiWgXNiMEZM",
   "metadata": {
    "colab": {
     "base_uri": "https://localhost:8080/"
    },
    "id": "KKiWgXNiMEZM",
    "outputId": "a8ef2a53-3de6-4588-c098-86d19fe681ad"
   },
   "outputs": [
    {
     "name": "stdout",
     "output_type": "stream",
     "text": [
      "accuracy: 0.8214285714285714\n",
      "precision: 0.833677044326658\n",
      "recall: 0.8214285714285714\n",
      "f1_score: 0.8221361474354426\n"
     ]
    }
   ],
   "source": [
    "print('accuracy:',accuracy_score(y_pred,y_test))\n",
    "print('precision:',precision_score(y_pred,y_test,average='weighted'))\n",
    "print('recall:',recall_score(y_pred,y_test,average='weighted'))\n",
    "print('f1_score:',f1_score(y_pred,y_test,average='weighted'))"
   ]
  },
  {
   "cell_type": "markdown",
   "id": "96eaab20-a25a-4a29-802d-5c1238f1b841",
   "metadata": {
    "id": "s7oxQdNrNXKM"
   },
   "source": [
    "## 2. K-Nearest Neighbors (KNN)"
   ]
  },
  {
   "cell_type": "code",
   "execution_count": 52,
   "id": "J97TgQ29N7jD",
   "metadata": {
    "id": "J97TgQ29N7jD"
   },
   "outputs": [],
   "source": [
    "knn = KNeighborsClassifier(n_neighbors=5)\n",
    "knn.fit(X_train, y_train)\n",
    "y_pred_Knn = knn.predict(X_test)"
   ]
  },
  {
   "cell_type": "code",
   "execution_count": 53,
   "id": "sL41LCo5OLiN",
   "metadata": {
    "colab": {
     "base_uri": "https://localhost:8080/"
    },
    "id": "sL41LCo5OLiN",
    "outputId": "81aad5ca-bdcd-4896-9fe9-a10418c082e0"
   },
   "outputs": [
    {
     "name": "stdout",
     "output_type": "stream",
     "text": [
      "accuracy: 0.8668831168831169\n",
      "precision: 0.868113925667427\n",
      "recall: 0.8668831168831169\n",
      "f1_score: 0.8670506126176228\n"
     ]
    }
   ],
   "source": [
    "print('accuracy:',accuracy_score(y_pred_Knn,y_test))\n",
    "print('precision:',precision_score(y_pred_Knn,y_test,average='weighted'))\n",
    "print('recall:',recall_score(y_pred_Knn,y_test,average='weighted'))\n",
    "print('f1_score:',f1_score(y_pred_Knn,y_test,average='weighted'))"
   ]
  },
  {
   "cell_type": "markdown",
   "id": "c6d5a28f-1d57-434c-afb4-33bfc684765b",
   "metadata": {
    "id": "CnpCmAvMOQgw"
   },
   "source": [
    "## 3. Naive Bayes"
   ]
  },
  {
   "cell_type": "code",
   "execution_count": 54,
   "id": "JCsn7Jx8OYoa",
   "metadata": {
    "id": "JCsn7Jx8OYoa"
   },
   "outputs": [],
   "source": [
    "from sklearn.naive_bayes import GaussianNB"
   ]
  },
  {
   "cell_type": "code",
   "execution_count": 55,
   "id": "ZvTB0FXGPFf7",
   "metadata": {
    "id": "ZvTB0FXGPFf7"
   },
   "outputs": [],
   "source": [
    "nb_classifier = GaussianNB()"
   ]
  },
  {
   "cell_type": "code",
   "execution_count": 56,
   "id": "8P7YOLo3R_5e",
   "metadata": {
    "colab": {
     "base_uri": "https://localhost:8080/",
     "height": 80
    },
    "id": "8P7YOLo3R_5e",
    "outputId": "a7b8cfcc-1c5a-4c4a-a63c-9e39f1b2179a"
   },
   "outputs": [
    {
     "data": {
      "text/plain": [
       "GaussianNB()"
      ]
     },
     "execution_count": 56,
     "metadata": {},
     "output_type": "execute_result"
    }
   ],
   "source": [
    "nb_classifier.fit(X_train, y_train)"
   ]
  },
  {
   "cell_type": "code",
   "execution_count": 57,
   "id": "Rev3PJMXSFOX",
   "metadata": {
    "id": "Rev3PJMXSFOX"
   },
   "outputs": [],
   "source": [
    "y_pred_NB = nb_classifier.predict(X_test)"
   ]
  },
  {
   "cell_type": "code",
   "execution_count": 58,
   "id": "mCYSBckUSI3e",
   "metadata": {
    "colab": {
     "base_uri": "https://localhost:8080/"
    },
    "id": "mCYSBckUSI3e",
    "outputId": "a19e71ec-843c-468a-9591-e001783d36a8"
   },
   "outputs": [
    {
     "name": "stdout",
     "output_type": "stream",
     "text": [
      "accuracy: 0.827922077922078\n",
      "precision: 0.8402048122828166\n",
      "recall: 0.827922077922078\n",
      "f1_score: 0.8286039238923356\n"
     ]
    }
   ],
   "source": [
    "print('accuracy:',accuracy_score(y_pred_NB,y_test))\n",
    "print('precision:',precision_score(y_pred_NB,y_test,average='weighted'))\n",
    "print('recall:',recall_score(y_pred_NB,y_test,average='weighted'))\n",
    "print('f1_score:',f1_score(y_pred_NB,y_test,average='weighted'))"
   ]
  },
  {
   "cell_type": "markdown",
   "id": "cf5c82ef-fcbf-468f-a44e-9be0e3e76034",
   "metadata": {
    "id": "RPC2EzChSZCz"
   },
   "source": [
    "### Accuracy:\n",
    "\n",
    "- K-Nearest Neighbors (KNN) has the highest accuracy at 86.7%, followed by Naive Bayes (82.8%) and Logistic Regression (82.1%).\n",
    "- This suggests KNN performs better overall in correctly classifying instances.\n",
    " \n",
    "### Precision:\n",
    "- Precision measures how well the model avoids **false positives**.\n",
    "- KNN has the highest precision (86.8%), indicating it is the best at ensuring positive predictions are correct.\n",
    "- Naive Bayes and Logistic Regression follow closely at 84.0% and 83.3%, respectively.\n",
    "\n",
    "### Recall:\n",
    "- Recall measures how well the model identifies all **positive instances**.\n",
    "- KNN again leads at 86.7%, followed by Naive Bayes (82.8%) and Logistic Regression (82.1%).\n",
    "  \n",
    "### F1-Score:\n",
    "- The F1-score balances **precision and recall**.\n",
    "- KNN has the highest F1-score (86.7%), making it the most balanced model for this task.\n",
    "- Naive Bayes (82.9%) and Logistic Regression (82.2%) are close but slightly less balanced.\n"
   ]
  },
  {
   "cell_type": "markdown",
   "id": "bc2679d4",
   "metadata": {
    "id": "yHdph4pFTH0K"
   },
   "source": [
    "# Findings"
   ]
  },
  {
   "cell_type": "markdown",
   "id": "79e967f2",
   "metadata": {},
   "source": [
    "Insights from the Data:\n",
    "- 51.32% of patients have heart disease; 48.68% do not. Heart disease is slightly more common.\n",
    "- More males in the dataset (713 males vs. 312 females).\n",
    "- Females: 72.4% have heart disease, 27.6% do not.\n",
    "- Males: 42.1% have heart disease, 57.9% do not.\n",
    "- Females are more likely to have heart disease than males."
   ]
  },
  {
   "cell_type": "markdown",
   "id": "a32660f3",
   "metadata": {},
   "source": [
    "# Recommendations"
   ]
  },
  {
   "cell_type": "markdown",
   "id": "b65e7910",
   "metadata": {},
   "source": [
    "- Focus on targeted heart health programs, especially for women.\n",
    "- Promote lifestyle awareness for both genders.\n",
    "- Allocate resources for cardiovascular care and early diagnosis programs."
   ]
  }
 ],
 "metadata": {
  "colab": {
   "provenance": []
  },
  "kernelspec": {
   "display_name": "Python 3 (ipykernel)",
   "language": "python",
   "name": "python3"
  },
  "language_info": {
   "codemirror_mode": {
    "name": "ipython",
    "version": 3
   },
   "file_extension": ".py",
   "mimetype": "text/x-python",
   "name": "python",
   "nbconvert_exporter": "python",
   "pygments_lexer": "ipython3",
   "version": "3.9.12"
  }
 },
 "nbformat": 4,
 "nbformat_minor": 5
}
