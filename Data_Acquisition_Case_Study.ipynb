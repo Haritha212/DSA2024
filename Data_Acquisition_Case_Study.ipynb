{
 "cells": [
  {
   "cell_type": "markdown",
   "id": "a9ae1de7",
   "metadata": {},
   "source": [
    "# Data Acquisition Case Study"
   ]
  },
  {
   "cell_type": "markdown",
   "id": "a2d1e0ce",
   "metadata": {},
   "source": [
    "## Q1. Write Python code to create a new file named \"sample_data.txt\" in your documents folder and write the following content to it\n",
    "\n",
    "ICTAK\n",
    "\n",
    "Thejaswini,\n",
    "\n",
    "Technopark Rd,\n",
    "\n",
    "Technopark Campus,\n",
    "\n",
    "Thiruvananthapuram,\n",
    "\n",
    "Kerala 695581"
   ]
  },
  {
   "cell_type": "code",
   "execution_count": 1,
   "id": "6cf729a6",
   "metadata": {},
   "outputs": [],
   "source": [
    "file = open(\"C:\\\\Users\\\\Acer\\\\Documents\\\\sample_data.txt\",\"w\")\n",
    "file.write(\"ICTAK\\nThejaswini\\nTechnopark Rd\\nTechnopark Campus\\nThiruvananthapuram\\nKerala 695581\")\n",
    "file.close()"
   ]
  },
  {
   "cell_type": "code",
   "execution_count": 2,
   "id": "7c522ccd",
   "metadata": {},
   "outputs": [],
   "source": [
    "#OR\n",
    "\n",
    "with open(\"C:\\\\Users\\\\Acer\\\\Documents\\\\sample_data.txt\",\"w\") as file:   \n",
    "    file.write(\"ICTAK\\nThejaswini\\nTechnopark Rd\\nTechnopark Campus\\nThiruvananthapuram\\nKerala 695581\")\n",
    "    file.close()"
   ]
  },
  {
   "cell_type": "markdown",
   "id": "fcb51e0f",
   "metadata": {},
   "source": [
    "## Q2. Write Python code to read and print the contents in \"sample_data.txt\""
   ]
  },
  {
   "cell_type": "code",
   "execution_count": 3,
   "id": "553fbe75",
   "metadata": {},
   "outputs": [
    {
     "name": "stdout",
     "output_type": "stream",
     "text": [
      "ICTAK\n",
      "Thejaswini\n",
      "Technopark Rd\n",
      "Technopark Campus\n",
      "Thiruvananthapuram\n",
      "Kerala 695581\n"
     ]
    }
   ],
   "source": [
    "file = open(\"C:\\\\Users\\\\Acer\\\\Documents\\\\sample_data.txt\",\"r\")\n",
    "print(file.read())                          \n",
    "file.close()"
   ]
  },
  {
   "cell_type": "code",
   "execution_count": 4,
   "id": "29ecc7c7",
   "metadata": {},
   "outputs": [
    {
     "name": "stdout",
     "output_type": "stream",
     "text": [
      "ICTAK\n",
      "Thejaswini\n",
      "Technopark Rd\n",
      "Technopark Campus\n",
      "Thiruvananthapuram\n",
      "Kerala 695581\n"
     ]
    }
   ],
   "source": [
    "#OR\n",
    "\n",
    "with open(\"C:\\\\Users\\\\Acer\\\\Documents\\\\sample_data.txt\",\"r\") as file:\n",
    "    for line in file:                          # for loop is using for printing content in line by line.\n",
    "        print(line.strip())"
   ]
  },
  {
   "cell_type": "code",
   "execution_count": 5,
   "id": "fa9982e1",
   "metadata": {},
   "outputs": [
    {
     "name": "stdout",
     "output_type": "stream",
     "text": [
      "ICTAK\n",
      "Thejaswini\n",
      "Technopark Rd\n",
      "Technopark Campus\n",
      "Thiruvananthapuram\n",
      "Kerala 695581\n"
     ]
    }
   ],
   "source": [
    "#OR\n",
    "\n",
    "import os\n",
    "\n",
    "with open(os.path.join(\"C:/\",\"Users\",\"Acer\",\"Documents\",\"sample_data.txt\"),\"r\") as file:\n",
    "    content = file.read()\n",
    "    print(content)"
   ]
  },
  {
   "cell_type": "markdown",
   "id": "1499ac49",
   "metadata": {},
   "source": [
    "## Q3. Write Python code to check if \"sample_data.txt\" exists in documents folder"
   ]
  },
  {
   "cell_type": "code",
   "execution_count": 6,
   "id": "5e0d5ce6",
   "metadata": {},
   "outputs": [
    {
     "name": "stdout",
     "output_type": "stream",
     "text": [
      "File exists.\n"
     ]
    }
   ],
   "source": [
    "import os\n",
    "\n",
    "if os.path.exists(\"C:\\\\Users\\\\Acer\\\\Documents\\\\sample_data.txt\"):\n",
    "    print(\"File exists.\")\n",
    "else:\n",
    "    print(\"File does not exists\")"
   ]
  },
  {
   "cell_type": "markdown",
   "id": "107123b3",
   "metadata": {},
   "source": [
    "## Q4: Save the following dataframe content to a CSV file (data.csv) in your downloads folder"
   ]
  },
  {
   "cell_type": "code",
   "execution_count": 7,
   "id": "1b4a7dfd",
   "metadata": {},
   "outputs": [],
   "source": [
    "import pandas as pd\n",
    "\n",
    "data = {\"Id\": [1, 2, 3],\n",
    "        \"Name\": [\"Alice\", \"Bob\", \"Charlie\"],\n",
    "        \"Subject\": [\"Science\", \"Maths\", \"History\"]}\n",
    "df = pd.DataFrame(data)"
   ]
  },
  {
   "cell_type": "code",
   "execution_count": 8,
   "id": "1021aa09",
   "metadata": {},
   "outputs": [],
   "source": [
    "df.to_csv(\"C:\\\\Users\\\\Acer\\\\Downloads\\\\data.csv\", index=False)"
   ]
  },
  {
   "cell_type": "markdown",
   "id": "5c5835fd",
   "metadata": {},
   "source": [
    "## Q5: Save the above dataframe content to an Excel (data.xlsx, sheet name: Sheet1) file in your documents folder"
   ]
  },
  {
   "cell_type": "code",
   "execution_count": 9,
   "id": "d3dea823",
   "metadata": {},
   "outputs": [],
   "source": [
    "df.to_excel(\"C:\\\\Users\\\\Acer\\\\Documents\\\\data.xlsx\", index=False, sheet_name = \"Sheet1\")"
   ]
  },
  {
   "cell_type": "markdown",
   "id": "8c22837b",
   "metadata": {},
   "source": [
    "## Q6. Write code to get the list of files in your Downloads folder and save it to a CSV file name \"download_list.csv\""
   ]
  },
  {
   "cell_type": "code",
   "execution_count": 10,
   "id": "95e112b2",
   "metadata": {},
   "outputs": [
    {
     "name": "stdout",
     "output_type": "stream",
     "text": [
      "Files in Downloads directory: ['.ipynb_checkpoints', '2023 - Superstore.xls', '5yRAdHySSHGkQHR8kghxNw_51c2d16b401e4370b3b64067de4216f1_Course-1-Week-2-Glossary-_-DA-terms-and-definitions.docx', '5Yy5XRyERxOMuV0chAcTqQ_3709e68887e74939bd4f9649e5a6b7f1_Course-1-Week-1-Glossary-_-DA-terms-and-definitions (1).docx', '5Yy5XRyERxOMuV0chAcTqQ_3709e68887e74939bd4f9649e5a6b7f1_Course-1-Week-1-Glossary-_-DA-terms-and-definitions (2).docx', '5Yy5XRyERxOMuV0chAcTqQ_3709e68887e74939bd4f9649e5a6b7f1_Course-1-Week-1-Glossary-_-DA-terms-and-definitions.docx', 'Aadhar.pdf', 'academic.db', 'academic.db-journal', 'accident data.csv', 'accident data.xlsx', 'Adobe Scan 23-Nov-2023.pdf', 'Anaconda3-2022.05-Windows-x86_64.exe', 'Anaconda3-2024.10-1-Windows-x86_64.exe', 'aOk-I4lyQcGpPiOJcqHBqw_63a2e80233374af58a75ca11ff93c7f5_Learning-Log-Template_-Consider-how-data-analysts-approach-tasks.docx', 'applsci-12-01145-v2.pdf', 'Approval copy.pdf', 'Assigment.docx', 'Assignment python.ipynb', 'Assignment python.py', 'Assignment_2_NumPy Pandas.ipynb', 'Assignment_2_NumPy Pandas.pdf', 'auto-mpg.csv', 'Bank Account Information Form_Rev.04-08-2023.pdf', 'Bank details (1).pdf', 'Bank details (2).pdf', 'Bank details (3).pdf', 'Bank details.pdf', 'BB1XYm3oRiCdV2Jt6HYgXw_436a3e4729c8488ba0e9c4b818dda5f1_Course-1-Week-3-Glossary-_-DA-terms-and-definitions-1-.docx', 'beer-servings.csv', 'bike+sharing+dataset', 'bike+sharing+dataset.zip', 'bRFBueRvSTeRQbnkb1k3Qw_ac819fa396dd47e89701e527dfdd97e7_Learning-Log-Template_-Reflect-on-the-data-analysis-process.docx', 'byjus_reviews (1).csv', 'byjus_reviews.csv', 'Case Study on Statistics.pdf', 'Case_Study_on_Numpy_Pandas.pdf', 'Case_Study_SQL (1).ipynb', 'Case_Study_SQL.pdf', 'Case_Study_SQL_Questions(Sreya).ipynb', 'Certified Specialist in Data Science and Analytics-First Installment .pdf', 'Churn_Modelling.csv', 'content.txt', 'Copy_of_ML&Prediction_(1)_Hari.ipynb', 'CoverLetter_Haritha.pdf', 'CpQskcH8QoSULJHB_BKEeQ_14685a0da7b642149ebaac65c18bddf1_Example.Learning-Log_-Think-about-data-in-daily-life.pdf', 'CPR (1).pdf', 'CPR.pdf', 'CV Haritha.pdf', 'Data science certificate.pdf', 'Data-analysis-and-visualization-with-Power-BI.pdf', 'data.csv', 'Data_Acquisition_Case_Study (1).ipynb', 'Data_Acquisition_Case_Study.ipynb', 'day15.md', 'day15.zip', 'Day16.md', 'Day16.zip', 'day_13_python_practice_questions.pdf', 'dec.jpg', 'decl.jpg', 'declaration.jpg', 'degree original.pdf.pdf', 'Degree _grade card.pdf', 'desktop.ini', 'diabates.pdf', 'diabetes.csv', 'DNykxIj4TLicpMSI-Dy4Dg_678c43f1933349da98708aab5e6feb7f_Learning-Log-Template_-Think-about-data-in-daily-life (1).docx', 'DNykxIj4TLicpMSI-Dy4Dg_678c43f1933349da98708aab5e6feb7f_Learning-Log-Template_-Think-about-data-in-daily-life.docx', 'DOC-20221124-WA0009', 'download (1).xls', 'download.xls', 'download_list.csv', 'Employment Application Form_Rev.04-08-2023.pdf', 'Entri_ML_Final .ipynb', 'Entri_Preprocessing .ipynb', 'entri_reviews .csv', 'Entri_visualization&Analysis-Final.ipynb', 'experience certificate coet (1).pdf', 'experience certificate coet.pdf', 'Experience Certificate Dyan Contracting.pdf', 'eyzM7b21Tsi9iVxUhBpE_A_8c41592d82274a96a3a99709775405f1_Course-2-Week-1-Glossary-_-DA-terms-and-definitions-Glossary-_-DA-terms-and-definitions.docx', 'file (1).pdf', 'Final-Report.pdf', 'food image detection using deep learning.pdf', 'Git-2.47.1-64-bit.exe', 'gitignore.py', 'googleplaystore.csv.zip', 'haitha.jpg', 'haitha1.jpg', 'hari (1).jpg', 'hari (2).jpg', 'Hari.JPG', 'hari1.jpg', 'Haritha Passport.pdf', 'Haritha Project  Report .docx', 'Haritha.jpg', 'Haritha1.jpg', 'haritha_cv (1).pdf', 'Haritha_project.pptx', 'Haritha_Project_Final.pdf', 'higher secondary.pdf', 'House_Pricing.csv', 'IC7vqe5WT9mu76nuVs_ZlQ_2dc09cc744734e788d15f6759e375309_Learning-Log-Template_-Consider-what-data-means-to-you.docx', 'imdb.db', 'imdb.sql', 'IMG-20230111-WA0010.jpeg', 'IMG-20230111-WA0010.jpg', 'IMG_20210927_114615.jpg', 'IMG_20211203_134447.jpg', 'invite.ics', 'J03wxGq-QCGN8MRqvgAhkQ_45b30b42a4594805807733582706a4da_Learning-Log-Template_-Organize-your-data-in-a-table.docx', 'jgOcTMW9S-uDnEzFvfvrYQ_c46ee66727424d2298e2ff73090392f1_Course-Challenge-Dataset---Scenario-1---Scenario-1_-Pharmacy-Data---Part-1.csv', 'Learning-Log-Template_Consider-what-data-means-to-you.docx', 'Lec16 - Autoencoders (1).pptx', 'Linear Algebra (1).pdf', 'Linear algebra (2).pdf', 'Linear Algebra.pdf', 'ML&Prediction (1) (1).ipynb', 'ML&Prediction (1).ipynb', 'MSc certificate.pdf', 'mysql-installer-community-8.0.40.0.msi', 'new_byjus_reviews.csv', 'O & M Manual - BMU.doc', 'Passport copy - Haritha Kadala Veetil.pdf', 'Personal Contact Details Form_Rev.02-08-2023.pdf', 'pg original.pdf.pdf', 'PGDDS Consolidate.pdf', 'PGDDS Provisional.pdf', 'PGDDSA original application_Haritha.pdf', 'Plus two_1.pdf', 'power bi Tutorial.pdf', 'preprocessed_entri_reviews (1).csv', 'PROBLEM STATEMENT.docx', 'Project  Report latest.docx', 'pycharm-community-2024.2.4.exe', 'python-3.9.0-amd64 (1).exe', 'python-3.9.0-amd64.exe', 'python_practice_questions.txt', 'R-4.1.3-win.exe', 'random.txt', 'random_array.npy', 'random_array.npz', 'Rdbt3FakT7euWfslnN5MRA_ce8de543615743b5874056237dbd40f1_Course-1-Week-5-Glossary-_-DA-terms-and-definitions.docx', 'Reader_Install_Setup.exe', 'Reading_and_Writing_Data.ipynb', 'RECRUITMENT OF JUNIOR ASISTANTS, SENIOR ASSISTANTS AND JUNIOR EXECUTIVES IN VARIOUS DISCIPLINES.pdf', 'ResumeHaritha (1).docx', 'ResumeHaritha (1).pdf', 'ResumeHaritha (2).docx', 'ResumeHaritha (2).pdf', 'ResumeHaritha (New) (1).docx', 'ResumeHaritha (New) (1).pdf', 'ResumeHaritha (New) (2).docx', 'ResumeHaritha (New).docx', 'ResumeHaritha (New).pdf', 'ResumeHaritha.docx', 'ResumeHaritha.pdf', 'ResumeHaritha.pdf.docx', 'ResumeSreya.pdf', 'reviews_extracted.csv', 'rg2tLeyfQhONrS3sn4ITrQ_13e2dc63a75e4dedb6aa2320252ffe6e_Data-chart-template.xlsx', 'RStudio-2022.02.1-461.exe', 'RVw0taDrQo6_6Xq6T9QaKg_5e892fdb980a4f6694769b5ec296fcf1_Course-1-Week-4-Glossary-_-DA-terms-and-definitions (1).docx', 'RVw0taDrQo6_6Xq6T9QaKg_5e892fdb980a4f6694769b5ec296fcf1_Course-1-Week-4-Glossary-_-DA-terms-and-definitions (2).docx', 'RVw0taDrQo6_6Xq6T9QaKg_5e892fdb980a4f6694769b5ec296fcf1_Course-1-Week-4-Glossary-_-DA-terms-and-definitions (3).docx', 'RVw0taDrQo6_6Xq6T9QaKg_5e892fdb980a4f6694769b5ec296fcf1_Course-1-Week-4-Glossary-_-DA-terms-and-definitions (4).docx', 'RVw0taDrQo6_6Xq6T9QaKg_5e892fdb980a4f6694769b5ec296fcf1_Course-1-Week-4-Glossary-_-DA-terms-and-definitions.docx', 'Sample_projects', 'Screenshot_19-3-2024_225130_.jpeg', 'Screenshot_20231123_152650_Samsung Notes.jpg', 'Screenshot_20231123_162953_Samsung Notes.jpg', 'Screenshot_20231123_163006_Samsung Notes.jpg', 'Screenshot_20231123_163011_Samsung Notes.jpg', 'Screenshot_20231123_163016_Samsung Notes.jpg', 'Screenshot_20231123_163021_Samsung Notes.jpg', 'Screenshot_20231123_163026_Samsung Notes.jpg', 'Screenshot_20231123_163031_Samsung Notes.jpg', 'Screenshot_20231123_163036_Samsung Notes.jpg', 'Sentiment Analysis on Amazon Reviews.ipynb', 'Sentimental analsis of app review.pptx', 'session16_topic_outline (1).txt', 'session16_topic_outline.txt', 'session_14.txt', 'sign .jpg', 'sign1.jpg', 'SIGNATURE.docx', 'SIGNATURE.pdf', 'signed offer letter.pdf', 'sqlite_lesson (1).ipynb', 'sqlite_lesson.ipynb', 'Sreya resume_20231123_111201_0000.pdf', 'SsKixXCvRLOeCaOlpXp-Ag_93093b6d32b340c59a11ebfc9ed5baf1_Course-2-Week-2-Glossary-_-DA-terms-and-definitions.docx', 'sslc.pdf', 'sslc_1.pdf', 'student_marks.xlsx', 'Tableau 2.twb', 'TableauPublicDesktop-64bit-2024-3-0.exe', 'Task1.Fradulent transaction detection.ipynb', 'Tblaeu.twb', 'Tblaeu.twbx', 'twitter sentiment analysis.ipynb', 'UVdWSYRdQgeXVkmEXaIHXQ_c621f39757c840b6a484589670699cf1_Course-Challenge-Dataset---Scenario-2.csv', 'Visa Cancellation Certificate - Haritha KV.pdf', 'vlc-3.0.11-win64.exe', 'VSCodeUserSetup-x64-1.94.2 (1).exe', 'VSCodeUserSetup-x64-1.94.2.exe', 'W6e-F-TCS_ynvhfkwnv8dw_dd82e83aa8634b449e65431a2a390b5d_Learning-Log-Template_-Explore-data-from-your-daily-life.docx', 'WhatsApp Image 2024-03-19 at 10.37.55 PM.jpeg', 'WhatsApp Image 2024-03-19 at 10.37.55 PM.pdf', 'zE8WrYblTYmPFq2G5Z2J_w_0b2b2423cf224230b4ab32ce19e9eff1_DAC2-Designing-compelling-dashboards.pdf', '~WRL0003.tmp']\n"
     ]
    }
   ],
   "source": [
    "files = os.listdir(\"C:\\\\Users\\Acer\\\\Downloads\")\n",
    "print(\"Files in Downloads directory:\", files)"
   ]
  },
  {
   "cell_type": "code",
   "execution_count": 11,
   "id": "29732466",
   "metadata": {},
   "outputs": [
    {
     "data": {
      "text/html": [
       "<div>\n",
       "<style scoped>\n",
       "    .dataframe tbody tr th:only-of-type {\n",
       "        vertical-align: middle;\n",
       "    }\n",
       "\n",
       "    .dataframe tbody tr th {\n",
       "        vertical-align: top;\n",
       "    }\n",
       "\n",
       "    .dataframe thead th {\n",
       "        text-align: right;\n",
       "    }\n",
       "</style>\n",
       "<table border=\"1\" class=\"dataframe\">\n",
       "  <thead>\n",
       "    <tr style=\"text-align: right;\">\n",
       "      <th></th>\n",
       "      <th>0</th>\n",
       "    </tr>\n",
       "  </thead>\n",
       "  <tbody>\n",
       "    <tr>\n",
       "      <th>0</th>\n",
       "      <td>.ipynb_checkpoints</td>\n",
       "    </tr>\n",
       "    <tr>\n",
       "      <th>1</th>\n",
       "      <td>2023 - Superstore.xls</td>\n",
       "    </tr>\n",
       "    <tr>\n",
       "      <th>2</th>\n",
       "      <td>5yRAdHySSHGkQHR8kghxNw_51c2d16b401e4370b3b6406...</td>\n",
       "    </tr>\n",
       "    <tr>\n",
       "      <th>3</th>\n",
       "      <td>5Yy5XRyERxOMuV0chAcTqQ_3709e68887e74939bd4f964...</td>\n",
       "    </tr>\n",
       "    <tr>\n",
       "      <th>4</th>\n",
       "      <td>5Yy5XRyERxOMuV0chAcTqQ_3709e68887e74939bd4f964...</td>\n",
       "    </tr>\n",
       "  </tbody>\n",
       "</table>\n",
       "</div>"
      ],
      "text/plain": [
       "                                                   0\n",
       "0                                 .ipynb_checkpoints\n",
       "1                              2023 - Superstore.xls\n",
       "2  5yRAdHySSHGkQHR8kghxNw_51c2d16b401e4370b3b6406...\n",
       "3  5Yy5XRyERxOMuV0chAcTqQ_3709e68887e74939bd4f964...\n",
       "4  5Yy5XRyERxOMuV0chAcTqQ_3709e68887e74939bd4f964..."
      ]
     },
     "execution_count": 11,
     "metadata": {},
     "output_type": "execute_result"
    }
   ],
   "source": [
    "df = pd.DataFrame(files)\n",
    "df.head()"
   ]
  },
  {
   "cell_type": "code",
   "execution_count": 12,
   "id": "95d30a2c",
   "metadata": {},
   "outputs": [],
   "source": [
    "df.to_csv(\"C:\\\\Users\\Acer\\\\Downloads\\\\download_list.csv\", index = False)"
   ]
  },
  {
   "cell_type": "markdown",
   "id": "dde9a4fd",
   "metadata": {},
   "source": [
    "## Q7. Write Python code to save the contents of the given random_array variable as a numpy file"
   ]
  },
  {
   "cell_type": "code",
   "execution_count": 13,
   "id": "42e8f097",
   "metadata": {},
   "outputs": [],
   "source": [
    "import numpy as np\n",
    "random_array = np.random.rand(10, 10)"
   ]
  },
  {
   "cell_type": "code",
   "execution_count": 14,
   "id": "a873e555",
   "metadata": {},
   "outputs": [
    {
     "name": "stdout",
     "output_type": "stream",
     "text": [
      "array saved as'random_array.npy'\n"
     ]
    }
   ],
   "source": [
    "np.save(\"random_array.npy\", random_array)           # Saved as Binary npy format\n",
    "print(\"array saved as'random_array.npy'\")"
   ]
  },
  {
   "cell_type": "code",
   "execution_count": 15,
   "id": "d4a83eb5",
   "metadata": {},
   "outputs": [
    {
     "name": "stdout",
     "output_type": "stream",
     "text": [
      "Loaded array: [[0.87081707 0.35796351 0.2789535  0.20576809 0.18033522 0.77648027\n",
      "  0.75297115 0.2363679  0.99994804 0.11196418]\n",
      " [0.04309466 0.78366683 0.23286679 0.9515511  0.92478277 0.92124563\n",
      "  0.59556024 0.21786319 0.56248139 0.29280498]\n",
      " [0.3270105  0.08154163 0.55881977 0.09930651 0.829951   0.55836336\n",
      "  0.52900459 0.84118837 0.20166348 0.37173075]\n",
      " [0.45545037 0.88558195 0.23859977 0.28349966 0.94796199 0.16693436\n",
      "  0.65972877 0.46573185 0.1491361  0.91637081]\n",
      " [0.78737468 0.17410733 0.82970841 0.14819348 0.06583404 0.62421176\n",
      "  0.56463429 0.49619962 0.19399738 0.50351428]\n",
      " [0.80204179 0.10810845 0.86996212 0.24780902 0.19756581 0.19237126\n",
      "  0.59692746 0.13469187 0.13919417 0.72158895]\n",
      " [0.32541863 0.6890981  0.18161867 0.08012097 0.16367723 0.21622066\n",
      "  0.1414593  0.55011747 0.42712103 0.33931608]\n",
      " [0.77718451 0.55630233 0.96549303 0.22318242 0.99795803 0.05904245\n",
      "  0.09848988 0.85448134 0.63774801 0.44545558]\n",
      " [0.64909735 0.26573984 0.83208955 0.9165213  0.09063083 0.60770792\n",
      "  0.87486032 0.43566948 0.92985328 0.68480593]\n",
      " [0.55843076 0.43219276 0.78499278 0.1262227  0.3052263  0.57132438\n",
      "  0.4914445  0.25814504 0.02144641 0.22101815]]\n"
     ]
    }
   ],
   "source": [
    "loaded_array = np.load(\"random_array.npy\")         #For loading NumPy files.\n",
    "print(\"Loaded array:\",loaded_array)"
   ]
  },
  {
   "cell_type": "code",
   "execution_count": 16,
   "id": "0f292626",
   "metadata": {},
   "outputs": [
    {
     "name": "stdout",
     "output_type": "stream",
     "text": [
      "array saved as 'random_array.npz'\n"
     ]
    }
   ],
   "source": [
    "np.savez(\"random_array.npz\", random_array)         # Saved as Compressed npz format\n",
    "print(\"array saved as 'random_array.npz'\")"
   ]
  },
  {
   "cell_type": "code",
   "execution_count": 17,
   "id": "2fa075ff",
   "metadata": {},
   "outputs": [
    {
     "name": "stdout",
     "output_type": "stream",
     "text": [
      "Loaded array: <numpy.lib.npyio.NpzFile object at 0x000001F765D32820>\n"
     ]
    }
   ],
   "source": [
    "loaded_array2 = np.load(\"random_array.npz\")\n",
    "print(\"Loaded array:\",loaded_array2)"
   ]
  },
  {
   "cell_type": "markdown",
   "id": "c4ca59f4",
   "metadata": {},
   "source": [
    "## Q8. Write python code to save the contents of the above numpy file as text file named \"random.txt\" with a delimitter of \";\" to Documents folder"
   ]
  },
  {
   "cell_type": "code",
   "execution_count": 59,
   "id": "b168fcff",
   "metadata": {},
   "outputs": [
    {
     "name": "stdout",
     "output_type": "stream",
     "text": [
      "Array saved as 'random.txt'\n",
      "Loaded array from text file: [[0.87081707 0.35796351 0.2789535  0.20576809 0.18033522 0.77648027\n",
      "  0.75297115 0.2363679  0.99994804 0.11196418]\n",
      " [0.04309466 0.78366683 0.23286679 0.9515511  0.92478277 0.92124563\n",
      "  0.59556024 0.21786319 0.56248139 0.29280498]\n",
      " [0.3270105  0.08154163 0.55881977 0.09930651 0.829951   0.55836336\n",
      "  0.52900459 0.84118837 0.20166348 0.37173075]\n",
      " [0.45545037 0.88558195 0.23859977 0.28349966 0.94796199 0.16693436\n",
      "  0.65972877 0.46573185 0.1491361  0.91637081]\n",
      " [0.78737468 0.17410733 0.82970841 0.14819348 0.06583404 0.62421176\n",
      "  0.56463429 0.49619962 0.19399738 0.50351428]\n",
      " [0.80204179 0.10810845 0.86996212 0.24780902 0.19756581 0.19237126\n",
      "  0.59692746 0.13469187 0.13919417 0.72158895]\n",
      " [0.32541863 0.6890981  0.18161867 0.08012097 0.16367723 0.21622066\n",
      "  0.1414593  0.55011747 0.42712103 0.33931608]\n",
      " [0.77718451 0.55630233 0.96549303 0.22318242 0.99795803 0.05904245\n",
      "  0.09848988 0.85448134 0.63774801 0.44545558]\n",
      " [0.64909735 0.26573984 0.83208955 0.9165213  0.09063083 0.60770792\n",
      "  0.87486032 0.43566948 0.92985328 0.68480593]\n",
      " [0.55843076 0.43219276 0.78499278 0.1262227  0.3052263  0.57132438\n",
      "  0.4914445  0.25814504 0.02144641 0.22101815]]\n"
     ]
    }
   ],
   "source": [
    "np.savetxt(\"C:\\\\Users\\\\Acer\\\\Documents\\\\random.txt\", random_array , delimiter=\",\")\n",
    "print(\"Array saved as 'random.txt'\")\n",
    "\n",
    "loaded_array_txt = np.loadtxt(\"random.txt\", delimiter=\",\")\n",
    "print(\"Loaded array from text file:\", loaded_array_txt)"
   ]
  },
  {
   "cell_type": "markdown",
   "id": "47431297",
   "metadata": {},
   "source": [
    "## Download and analyze Bike Sharing Dataset (hour.csv) for UCI Irvin Repository (https://archive.ics.uci.edu/dataset/275/bike+sharing+dataset) and answer the following questions"
   ]
  },
  {
   "cell_type": "markdown",
   "id": "8376a9a9",
   "metadata": {},
   "source": [
    "## Q9. What is the size of the dataset? (Number of rows and columns)"
   ]
  },
  {
   "cell_type": "code",
   "execution_count": 19,
   "id": "b7e885a3",
   "metadata": {},
   "outputs": [
    {
     "data": {
      "text/plain": [
       "(17379, 17)"
      ]
     },
     "execution_count": 19,
     "metadata": {},
     "output_type": "execute_result"
    }
   ],
   "source": [
    "import pandas as pd\n",
    "hr = pd.read_csv(\"C:\\\\Users\\\\Acer\\\\Downloads\\\\bike+sharing+dataset\\\\hour.csv\")\n",
    "hr.shape"
   ]
  },
  {
   "cell_type": "markdown",
   "id": "67684eb9",
   "metadata": {},
   "source": [
    "## Q10. What are the data types of each column?"
   ]
  },
  {
   "cell_type": "code",
   "execution_count": 20,
   "id": "7dee1ee9",
   "metadata": {},
   "outputs": [
    {
     "data": {
      "text/plain": [
       "instant         int64\n",
       "dteday         object\n",
       "season          int64\n",
       "yr              int64\n",
       "mnth            int64\n",
       "hr              int64\n",
       "holiday         int64\n",
       "weekday         int64\n",
       "workingday      int64\n",
       "weathersit      int64\n",
       "temp          float64\n",
       "atemp         float64\n",
       "hum           float64\n",
       "windspeed     float64\n",
       "casual          int64\n",
       "registered      int64\n",
       "cnt             int64\n",
       "dtype: object"
      ]
     },
     "execution_count": 20,
     "metadata": {},
     "output_type": "execute_result"
    }
   ],
   "source": [
    "hr.dtypes"
   ]
  },
  {
   "cell_type": "markdown",
   "id": "65ee5183",
   "metadata": {},
   "source": [
    "## Q11. Are there any missing values in the dataset? If so, which columns have missing values and how many?"
   ]
  },
  {
   "cell_type": "code",
   "execution_count": 21,
   "id": "24f412f6",
   "metadata": {},
   "outputs": [
    {
     "data": {
      "text/plain": [
       "instant       0\n",
       "dteday        0\n",
       "season        0\n",
       "yr            0\n",
       "mnth          0\n",
       "hr            0\n",
       "holiday       0\n",
       "weekday       0\n",
       "workingday    0\n",
       "weathersit    0\n",
       "temp          0\n",
       "atemp         0\n",
       "hum           0\n",
       "windspeed     0\n",
       "casual        0\n",
       "registered    0\n",
       "cnt           0\n",
       "dtype: int64"
      ]
     },
     "execution_count": 21,
     "metadata": {},
     "output_type": "execute_result"
    }
   ],
   "source": [
    "hr.isna().sum()"
   ]
  },
  {
   "cell_type": "markdown",
   "id": "dac84e1d",
   "metadata": {},
   "source": [
    "## Q.12. For the windspeed column, calculate the mean, median, and standard deviation."
   ]
  },
  {
   "cell_type": "code",
   "execution_count": 22,
   "id": "89dbe727",
   "metadata": {},
   "outputs": [
    {
     "data": {
      "text/plain": [
       "0.1900976063064631"
      ]
     },
     "execution_count": 22,
     "metadata": {},
     "output_type": "execute_result"
    }
   ],
   "source": [
    "hr[\"windspeed\"].mean()"
   ]
  },
  {
   "cell_type": "code",
   "execution_count": 23,
   "id": "747ce4ab",
   "metadata": {},
   "outputs": [
    {
     "data": {
      "text/plain": [
       "0.194"
      ]
     },
     "execution_count": 23,
     "metadata": {},
     "output_type": "execute_result"
    }
   ],
   "source": [
    "hr[\"windspeed\"].median()"
   ]
  },
  {
   "cell_type": "code",
   "execution_count": 24,
   "id": "3d5cb34f",
   "metadata": {},
   "outputs": [
    {
     "data": {
      "text/plain": [
       "0.12234022857279413"
      ]
     },
     "execution_count": 24,
     "metadata": {},
     "output_type": "execute_result"
    }
   ],
   "source": [
    "hr[\"windspeed\"].std()"
   ]
  },
  {
   "cell_type": "markdown",
   "id": "b77f971d",
   "metadata": {},
   "source": [
    "## Q13. Identify any potential outliers in a numerical column of your choice. Explain your approach."
   ]
  },
  {
   "cell_type": "code",
   "execution_count": 25,
   "id": "3ec25650",
   "metadata": {},
   "outputs": [
    {
     "name": "stdout",
     "output_type": "stream",
     "text": [
      "       instant      dteday  season  yr  mnth  hr  holiday  weekday  \\\n",
      "175        176  2011-01-08       1   0     1  14        0        6   \n",
      "178        179  2011-01-08       1   0     1  17        0        6   \n",
      "194        195  2011-01-09       1   0     1   9        0        0   \n",
      "196        197  2011-01-09       1   0     1  11        0        0   \n",
      "265        266  2011-01-12       1   0     1  12        0        3   \n",
      "...        ...         ...     ...  ..   ...  ..      ...      ...   \n",
      "17327    17328  2012-12-29       1   1    12  20        0        6   \n",
      "17328    17329  2012-12-29       1   1    12  21        0        6   \n",
      "17341    17342  2012-12-30       1   1    12  10        0        0   \n",
      "17343    17344  2012-12-30       1   1    12  12        0        0   \n",
      "17344    17345  2012-12-30       1   1    12  13        0        0   \n",
      "\n",
      "       workingday  weathersit  temp   atemp   hum  windspeed  casual  \\\n",
      "175             0           1  0.20  0.1667  0.32     0.4925      12   \n",
      "178             0           1  0.16  0.1212  0.37     0.5522       5   \n",
      "194             0           1  0.12  0.0758  0.46     0.5224       0   \n",
      "196             0           1  0.16  0.1212  0.40     0.5224       2   \n",
      "265             1           1  0.20  0.1515  0.47     0.5821       3   \n",
      "...           ...         ...   ...     ...   ...        ...     ...   \n",
      "17327           0           2  0.30  0.2424  0.56     0.5522       2   \n",
      "17328           0           2  0.28  0.2424  0.56     0.4925       4   \n",
      "17341           0           1  0.26  0.2121  0.41     0.5821      31   \n",
      "17343           0           1  0.28  0.2273  0.36     0.5821      47   \n",
      "17344           0           1  0.30  0.2576  0.36     0.6567      49   \n",
      "\n",
      "       registered  cnt  \n",
      "175            83   95  \n",
      "178            64   69  \n",
      "194            19   19  \n",
      "196            47   49  \n",
      "265            52   55  \n",
      "...           ...  ...  \n",
      "17327          64   66  \n",
      "17328          56   60  \n",
      "17341          91  122  \n",
      "17343          97  144  \n",
      "17344         120  169  \n",
      "\n",
      "[342 rows x 17 columns]\n"
     ]
    }
   ],
   "source": [
    "#OR (USING QUANTILE)\n",
    "\n",
    "Q1 = hr[\"windspeed\"].quantile(0.25)\n",
    "Q3 = hr[\"windspeed\"].quantile(0.75)\n",
    "IQR = Q3-Q1\n",
    "Lower_bound = Q1-(1.5*IQR)\n",
    "Upper_bound = Q3+(1.5*IQR)\n",
    "Outliers = hr[(hr[\"windspeed\"]<Lower_bound) | (hr[\"windspeed\"]>Upper_bound)]\n",
    "print(Outliers)      "
   ]
  },
  {
   "cell_type": "code",
   "execution_count": 26,
   "id": "9414a7b0",
   "metadata": {},
   "outputs": [
    {
     "name": "stdout",
     "output_type": "stream",
     "text": [
      "       instant      dteday  season  yr  mnth  hr  holiday  weekday  \\\n",
      "175        176  2011-01-08       1   0     1  14        0        6   \n",
      "178        179  2011-01-08       1   0     1  17        0        6   \n",
      "194        195  2011-01-09       1   0     1   9        0        0   \n",
      "196        197  2011-01-09       1   0     1  11        0        0   \n",
      "265        266  2011-01-12       1   0     1  12        0        3   \n",
      "...        ...         ...     ...  ..   ...  ..      ...      ...   \n",
      "17327    17328  2012-12-29       1   1    12  20        0        6   \n",
      "17328    17329  2012-12-29       1   1    12  21        0        6   \n",
      "17341    17342  2012-12-30       1   1    12  10        0        0   \n",
      "17343    17344  2012-12-30       1   1    12  12        0        0   \n",
      "17344    17345  2012-12-30       1   1    12  13        0        0   \n",
      "\n",
      "       workingday  weathersit  temp   atemp   hum  windspeed  casual  \\\n",
      "175             0           1  0.20  0.1667  0.32     0.4925      12   \n",
      "178             0           1  0.16  0.1212  0.37     0.5522       5   \n",
      "194             0           1  0.12  0.0758  0.46     0.5224       0   \n",
      "196             0           1  0.16  0.1212  0.40     0.5224       2   \n",
      "265             1           1  0.20  0.1515  0.47     0.5821       3   \n",
      "...           ...         ...   ...     ...   ...        ...     ...   \n",
      "17327           0           2  0.30  0.2424  0.56     0.5522       2   \n",
      "17328           0           2  0.28  0.2424  0.56     0.4925       4   \n",
      "17341           0           1  0.26  0.2121  0.41     0.5821      31   \n",
      "17343           0           1  0.28  0.2273  0.36     0.5821      47   \n",
      "17344           0           1  0.30  0.2576  0.36     0.6567      49   \n",
      "\n",
      "       registered  cnt  \n",
      "175            83   95  \n",
      "178            64   69  \n",
      "194            19   19  \n",
      "196            47   49  \n",
      "265            52   55  \n",
      "...           ...  ...  \n",
      "17327          64   66  \n",
      "17328          56   60  \n",
      "17341          91  122  \n",
      "17343          97  144  \n",
      "17344         120  169  \n",
      "\n",
      "[342 rows x 17 columns]\n"
     ]
    }
   ],
   "source": [
    "#OR (USING PERCENTILE)\n",
    "\n",
    "Q1 = np.percentile(hr[\"windspeed\"],25)\n",
    "Q3 = np.percentile(hr[\"windspeed\"],75)\n",
    "IQR = Q3-Q1\n",
    "Lower_bound = Q1-(1.5*IQR)\n",
    "Upper_bound = Q3+(1.5*IQR)\n",
    "Outliers = hr[(hr[\"windspeed\"]<Lower_bound) | (hr[\"windspeed\"]>Upper_bound)]\n",
    "print(Outliers)  "
   ]
  },
  {
   "cell_type": "markdown",
   "id": "0b6b8049",
   "metadata": {},
   "source": [
    "## Q.14 Find the correlation between numerical columns and discuss any interesting relationships."
   ]
  },
  {
   "cell_type": "code",
   "execution_count": 27,
   "id": "eaabb810",
   "metadata": {},
   "outputs": [
    {
     "data": {
      "text/html": [
       "<div>\n",
       "<style scoped>\n",
       "    .dataframe tbody tr th:only-of-type {\n",
       "        vertical-align: middle;\n",
       "    }\n",
       "\n",
       "    .dataframe tbody tr th {\n",
       "        vertical-align: top;\n",
       "    }\n",
       "\n",
       "    .dataframe thead th {\n",
       "        text-align: right;\n",
       "    }\n",
       "</style>\n",
       "<table border=\"1\" class=\"dataframe\">\n",
       "  <thead>\n",
       "    <tr style=\"text-align: right;\">\n",
       "      <th></th>\n",
       "      <th>instant</th>\n",
       "      <th>dteday</th>\n",
       "      <th>season</th>\n",
       "      <th>yr</th>\n",
       "      <th>mnth</th>\n",
       "      <th>hr</th>\n",
       "      <th>holiday</th>\n",
       "      <th>weekday</th>\n",
       "      <th>workingday</th>\n",
       "      <th>weathersit</th>\n",
       "      <th>temp</th>\n",
       "      <th>atemp</th>\n",
       "      <th>hum</th>\n",
       "      <th>windspeed</th>\n",
       "      <th>casual</th>\n",
       "      <th>registered</th>\n",
       "      <th>cnt</th>\n",
       "    </tr>\n",
       "  </thead>\n",
       "  <tbody>\n",
       "    <tr>\n",
       "      <th>0</th>\n",
       "      <td>1</td>\n",
       "      <td>2011-01-01</td>\n",
       "      <td>1</td>\n",
       "      <td>0</td>\n",
       "      <td>1</td>\n",
       "      <td>0</td>\n",
       "      <td>0</td>\n",
       "      <td>6</td>\n",
       "      <td>0</td>\n",
       "      <td>1</td>\n",
       "      <td>0.24</td>\n",
       "      <td>0.2879</td>\n",
       "      <td>0.81</td>\n",
       "      <td>0.0</td>\n",
       "      <td>3</td>\n",
       "      <td>13</td>\n",
       "      <td>16</td>\n",
       "    </tr>\n",
       "    <tr>\n",
       "      <th>1</th>\n",
       "      <td>2</td>\n",
       "      <td>2011-01-01</td>\n",
       "      <td>1</td>\n",
       "      <td>0</td>\n",
       "      <td>1</td>\n",
       "      <td>1</td>\n",
       "      <td>0</td>\n",
       "      <td>6</td>\n",
       "      <td>0</td>\n",
       "      <td>1</td>\n",
       "      <td>0.22</td>\n",
       "      <td>0.2727</td>\n",
       "      <td>0.80</td>\n",
       "      <td>0.0</td>\n",
       "      <td>8</td>\n",
       "      <td>32</td>\n",
       "      <td>40</td>\n",
       "    </tr>\n",
       "    <tr>\n",
       "      <th>2</th>\n",
       "      <td>3</td>\n",
       "      <td>2011-01-01</td>\n",
       "      <td>1</td>\n",
       "      <td>0</td>\n",
       "      <td>1</td>\n",
       "      <td>2</td>\n",
       "      <td>0</td>\n",
       "      <td>6</td>\n",
       "      <td>0</td>\n",
       "      <td>1</td>\n",
       "      <td>0.22</td>\n",
       "      <td>0.2727</td>\n",
       "      <td>0.80</td>\n",
       "      <td>0.0</td>\n",
       "      <td>5</td>\n",
       "      <td>27</td>\n",
       "      <td>32</td>\n",
       "    </tr>\n",
       "    <tr>\n",
       "      <th>3</th>\n",
       "      <td>4</td>\n",
       "      <td>2011-01-01</td>\n",
       "      <td>1</td>\n",
       "      <td>0</td>\n",
       "      <td>1</td>\n",
       "      <td>3</td>\n",
       "      <td>0</td>\n",
       "      <td>6</td>\n",
       "      <td>0</td>\n",
       "      <td>1</td>\n",
       "      <td>0.24</td>\n",
       "      <td>0.2879</td>\n",
       "      <td>0.75</td>\n",
       "      <td>0.0</td>\n",
       "      <td>3</td>\n",
       "      <td>10</td>\n",
       "      <td>13</td>\n",
       "    </tr>\n",
       "    <tr>\n",
       "      <th>4</th>\n",
       "      <td>5</td>\n",
       "      <td>2011-01-01</td>\n",
       "      <td>1</td>\n",
       "      <td>0</td>\n",
       "      <td>1</td>\n",
       "      <td>4</td>\n",
       "      <td>0</td>\n",
       "      <td>6</td>\n",
       "      <td>0</td>\n",
       "      <td>1</td>\n",
       "      <td>0.24</td>\n",
       "      <td>0.2879</td>\n",
       "      <td>0.75</td>\n",
       "      <td>0.0</td>\n",
       "      <td>0</td>\n",
       "      <td>1</td>\n",
       "      <td>1</td>\n",
       "    </tr>\n",
       "  </tbody>\n",
       "</table>\n",
       "</div>"
      ],
      "text/plain": [
       "   instant      dteday  season  yr  mnth  hr  holiday  weekday  workingday  \\\n",
       "0        1  2011-01-01       1   0     1   0        0        6           0   \n",
       "1        2  2011-01-01       1   0     1   1        0        6           0   \n",
       "2        3  2011-01-01       1   0     1   2        0        6           0   \n",
       "3        4  2011-01-01       1   0     1   3        0        6           0   \n",
       "4        5  2011-01-01       1   0     1   4        0        6           0   \n",
       "\n",
       "   weathersit  temp   atemp   hum  windspeed  casual  registered  cnt  \n",
       "0           1  0.24  0.2879  0.81        0.0       3          13   16  \n",
       "1           1  0.22  0.2727  0.80        0.0       8          32   40  \n",
       "2           1  0.22  0.2727  0.80        0.0       5          27   32  \n",
       "3           1  0.24  0.2879  0.75        0.0       3          10   13  \n",
       "4           1  0.24  0.2879  0.75        0.0       0           1    1  "
      ]
     },
     "execution_count": 27,
     "metadata": {},
     "output_type": "execute_result"
    }
   ],
   "source": [
    "hr.head()"
   ]
  },
  {
   "cell_type": "code",
   "execution_count": 28,
   "id": "fcc1bec8",
   "metadata": {},
   "outputs": [
    {
     "name": "stdout",
     "output_type": "stream",
     "text": [
      "<class 'pandas.core.frame.DataFrame'>\n",
      "RangeIndex: 17379 entries, 0 to 17378\n",
      "Data columns (total 17 columns):\n",
      " #   Column      Non-Null Count  Dtype  \n",
      "---  ------      --------------  -----  \n",
      " 0   instant     17379 non-null  int64  \n",
      " 1   dteday      17379 non-null  object \n",
      " 2   season      17379 non-null  int64  \n",
      " 3   yr          17379 non-null  int64  \n",
      " 4   mnth        17379 non-null  int64  \n",
      " 5   hr          17379 non-null  int64  \n",
      " 6   holiday     17379 non-null  int64  \n",
      " 7   weekday     17379 non-null  int64  \n",
      " 8   workingday  17379 non-null  int64  \n",
      " 9   weathersit  17379 non-null  int64  \n",
      " 10  temp        17379 non-null  float64\n",
      " 11  atemp       17379 non-null  float64\n",
      " 12  hum         17379 non-null  float64\n",
      " 13  windspeed   17379 non-null  float64\n",
      " 14  casual      17379 non-null  int64  \n",
      " 15  registered  17379 non-null  int64  \n",
      " 16  cnt         17379 non-null  int64  \n",
      "dtypes: float64(4), int64(12), object(1)\n",
      "memory usage: 2.3+ MB\n"
     ]
    }
   ],
   "source": [
    "hr.info()"
   ]
  },
  {
   "cell_type": "code",
   "execution_count": 29,
   "id": "cd113f03",
   "metadata": {},
   "outputs": [
    {
     "data": {
      "text/html": [
       "<div>\n",
       "<style scoped>\n",
       "    .dataframe tbody tr th:only-of-type {\n",
       "        vertical-align: middle;\n",
       "    }\n",
       "\n",
       "    .dataframe tbody tr th {\n",
       "        vertical-align: top;\n",
       "    }\n",
       "\n",
       "    .dataframe thead th {\n",
       "        text-align: right;\n",
       "    }\n",
       "</style>\n",
       "<table border=\"1\" class=\"dataframe\">\n",
       "  <thead>\n",
       "    <tr style=\"text-align: right;\">\n",
       "      <th></th>\n",
       "      <th>temp</th>\n",
       "      <th>atemp</th>\n",
       "      <th>hum</th>\n",
       "      <th>windspeed</th>\n",
       "      <th>casual</th>\n",
       "      <th>registered</th>\n",
       "      <th>cnt</th>\n",
       "    </tr>\n",
       "  </thead>\n",
       "  <tbody>\n",
       "    <tr>\n",
       "      <th>temp</th>\n",
       "      <td>1.000000</td>\n",
       "      <td>0.987672</td>\n",
       "      <td>-0.069881</td>\n",
       "      <td>-0.023125</td>\n",
       "      <td>0.459616</td>\n",
       "      <td>0.335361</td>\n",
       "      <td>0.404772</td>\n",
       "    </tr>\n",
       "    <tr>\n",
       "      <th>atemp</th>\n",
       "      <td>0.987672</td>\n",
       "      <td>1.000000</td>\n",
       "      <td>-0.051918</td>\n",
       "      <td>-0.062336</td>\n",
       "      <td>0.454080</td>\n",
       "      <td>0.332559</td>\n",
       "      <td>0.400929</td>\n",
       "    </tr>\n",
       "    <tr>\n",
       "      <th>hum</th>\n",
       "      <td>-0.069881</td>\n",
       "      <td>-0.051918</td>\n",
       "      <td>1.000000</td>\n",
       "      <td>-0.290105</td>\n",
       "      <td>-0.347028</td>\n",
       "      <td>-0.273933</td>\n",
       "      <td>-0.322911</td>\n",
       "    </tr>\n",
       "    <tr>\n",
       "      <th>windspeed</th>\n",
       "      <td>-0.023125</td>\n",
       "      <td>-0.062336</td>\n",
       "      <td>-0.290105</td>\n",
       "      <td>1.000000</td>\n",
       "      <td>0.090287</td>\n",
       "      <td>0.082321</td>\n",
       "      <td>0.093234</td>\n",
       "    </tr>\n",
       "    <tr>\n",
       "      <th>casual</th>\n",
       "      <td>0.459616</td>\n",
       "      <td>0.454080</td>\n",
       "      <td>-0.347028</td>\n",
       "      <td>0.090287</td>\n",
       "      <td>1.000000</td>\n",
       "      <td>0.506618</td>\n",
       "      <td>0.694564</td>\n",
       "    </tr>\n",
       "    <tr>\n",
       "      <th>registered</th>\n",
       "      <td>0.335361</td>\n",
       "      <td>0.332559</td>\n",
       "      <td>-0.273933</td>\n",
       "      <td>0.082321</td>\n",
       "      <td>0.506618</td>\n",
       "      <td>1.000000</td>\n",
       "      <td>0.972151</td>\n",
       "    </tr>\n",
       "    <tr>\n",
       "      <th>cnt</th>\n",
       "      <td>0.404772</td>\n",
       "      <td>0.400929</td>\n",
       "      <td>-0.322911</td>\n",
       "      <td>0.093234</td>\n",
       "      <td>0.694564</td>\n",
       "      <td>0.972151</td>\n",
       "      <td>1.000000</td>\n",
       "    </tr>\n",
       "  </tbody>\n",
       "</table>\n",
       "</div>"
      ],
      "text/plain": [
       "                temp     atemp       hum  windspeed    casual  registered  \\\n",
       "temp        1.000000  0.987672 -0.069881  -0.023125  0.459616    0.335361   \n",
       "atemp       0.987672  1.000000 -0.051918  -0.062336  0.454080    0.332559   \n",
       "hum        -0.069881 -0.051918  1.000000  -0.290105 -0.347028   -0.273933   \n",
       "windspeed  -0.023125 -0.062336 -0.290105   1.000000  0.090287    0.082321   \n",
       "casual      0.459616  0.454080 -0.347028   0.090287  1.000000    0.506618   \n",
       "registered  0.335361  0.332559 -0.273933   0.082321  0.506618    1.000000   \n",
       "cnt         0.404772  0.400929 -0.322911   0.093234  0.694564    0.972151   \n",
       "\n",
       "                 cnt  \n",
       "temp        0.404772  \n",
       "atemp       0.400929  \n",
       "hum        -0.322911  \n",
       "windspeed   0.093234  \n",
       "casual      0.694564  \n",
       "registered  0.972151  \n",
       "cnt         1.000000  "
      ]
     },
     "execution_count": 29,
     "metadata": {},
     "output_type": "execute_result"
    }
   ],
   "source": [
    "corr_matrix= hr[[\"temp\",\"atemp\",\"hum\", \"windspeed\", \"casual\", \"registered\", \"cnt\"]].corr()\n",
    "corr_matrix"
   ]
  },
  {
   "cell_type": "code",
   "execution_count": 30,
   "id": "858afc10",
   "metadata": {},
   "outputs": [],
   "source": [
    "import matplotlib.pyplot as plt\n",
    "import seaborn as sns"
   ]
  },
  {
   "cell_type": "code",
   "execution_count": 31,
   "id": "aa8be4c4",
   "metadata": {},
   "outputs": [
    {
     "data": {
      "image/png": "[encoded data removed]",
      "text/plain": [
       "<Figure size 576x360 with 2 Axes>"
      ]
     },
     "metadata": {
      "needs_background": "light"
     },
     "output_type": "display_data"
    }
   ],
   "source": [
    "# Plot the heatmap\n",
    "plt.figure(figsize=(8, 5))\n",
    "sns.heatmap(corr_matrix, annot=True, cmap='coolwarm', fmt='.2f')\n",
    "plt.title('Correlation Heatmap')\n",
    "plt.show()"
   ]
  },
  {
   "cell_type": "markdown",
   "id": "7ee893f9",
   "metadata": {},
   "source": [
    "## Insights\n",
    "- There is a  strong positive correlation between temperature and count(count of total rental bikes including both casual and registered users). This      suggests    that higher temperatures lead to more bike rentals.\n",
    "- The variables \"temp\" and \"atemp\" are strongly correlated. Hence either we can use atemp(actual temperatutre) or temp.\n",
    "- Both casual and registered rentals have a positive correlation with temperature.\n",
    "- Both casual and registered rentals have a weak negative correlation with humidity.This indicates that higher humidity level leads decrease in bike rentals.\n",
    "- Windspeed has a negative correlation with count and a stronger negative correlation with registered, suggesting that higher wind speeds might slightly decrease bike rentals, particularly among registered users."
   ]
  },
  {
   "cell_type": "markdown",
   "id": "be128b9e",
   "metadata": {},
   "source": [
    "## Q.15 Based on your analysis, provide a brief summary of any insights or patterns you discovered in the dataset."
   ]
  },
  {
   "cell_type": "markdown",
   "id": "f5a0bcfc",
   "metadata": {},
   "source": [
    "1. Temperature and Count\n",
    "   - There is a  strong positive correlation between temperature and count(count of total rental bikes including both casual and registered users).As temperature increases, more people are likely to rent bikes.\n",
    "2. Humidity and Count\n",
    "   - Both casual and registered rentals have a weak negative correlation with humidity.This indicates that humid days (especially in the summer) could reduce rental.\n",
    "3. Windspeed and Count\n",
    "   - Windspeed has a negative correlation with count and a stronger negative correlation with registered, suggesting that higher wind speeds might slightly decrease bike rentals, particularly among registered users.High winds can make cycling less pleasant and potentially more dangerous, leading to a decrease in rentals."
   ]
  },
  {
   "cell_type": "markdown",
   "id": "2ea135bc",
   "metadata": {},
   "source": [
    "## Q.16 In which season (Spring, Summer, Fall, Winter) people rented bikes the most?"
   ]
  },
  {
   "cell_type": "code",
   "execution_count": 32,
   "id": "e165847c",
   "metadata": {},
   "outputs": [
    {
     "data": {
      "text/plain": [
       "array([1, 2, 3, 4], dtype=int64)"
      ]
     },
     "execution_count": 32,
     "metadata": {},
     "output_type": "execute_result"
    }
   ],
   "source": [
    "hr[\"season\"].unique() #Season of the year, coded as Winter=1, Spring=2, Summer=3, Fall=4."
   ]
  },
  {
   "cell_type": "code",
   "execution_count": 33,
   "id": "3e377653",
   "metadata": {},
   "outputs": [
    {
     "data": {
      "text/plain": [
       "season\n",
       "1     471348\n",
       "2     918589\n",
       "3    1061129\n",
       "4     841613\n",
       "Name: cnt, dtype: int64"
      ]
     },
     "execution_count": 33,
     "metadata": {},
     "output_type": "execute_result"
    }
   ],
   "source": [
    "season_rentals = hr.groupby('season')['cnt'].sum()\n",
    "season_rentals"
   ]
  },
  {
   "cell_type": "code",
   "execution_count": 34,
   "id": "f4b4a0fe",
   "metadata": {},
   "outputs": [
    {
     "data": {
      "image/png": "[encoded data removed]",
      "text/plain": [
       "<Figure size 576x360 with 1 Axes>"
      ]
     },
     "metadata": {
      "needs_background": "light"
     },
     "output_type": "display_data"
    }
   ],
   "source": [
    "x = hr[\"season\"]\n",
    "y = hr [\"cnt\"]\n",
    "plt.figure(figsize=(8,5))\n",
    "sns.barplot(x ='season', y ='cnt',data = hr)\n",
    "plt.title('Total Bike Rentals by Season')\n",
    "plt.xlabel(\"Season\")\n",
    "plt.ylabel(\"Total Bike Rentals\")\n",
    "plt.show()"
   ]
  },
  {
   "cell_type": "markdown",
   "id": "e6ca2a56",
   "metadata": {},
   "source": [
    "## Insights\n",
    "- Summer season has the highest total rentals, of 1061129 rentals, indicating that this is the peak season for bike rentals.\n",
    "- Winter season has the lowest total rentals , of 471348."
   ]
  },
  {
   "cell_type": "markdown",
   "id": "0dda0932",
   "metadata": {},
   "source": [
    "## Q.17 What is the peak hour in which bike rents the most?"
   ]
  },
  {
   "cell_type": "code",
   "execution_count": 35,
   "id": "86d26ef1",
   "metadata": {},
   "outputs": [
    {
     "data": {
      "text/plain": [
       "hr\n",
       "0      39130\n",
       "1      24164\n",
       "2      16352\n",
       "3       8174\n",
       "4       4428\n",
       "5      14261\n",
       "6      55132\n",
       "7     154171\n",
       "8     261001\n",
       "9     159438\n",
       "10    126257\n",
       "11    151320\n",
       "12    184414\n",
       "13    184919\n",
       "14    175652\n",
       "15    183149\n",
       "16    227748\n",
       "17    336860\n",
       "18    309772\n",
       "19    226789\n",
       "20    164550\n",
       "21    125445\n",
       "22     95612\n",
       "23     63941\n",
       "Name: cnt, dtype: int64"
      ]
     },
     "execution_count": 35,
     "metadata": {},
     "output_type": "execute_result"
    }
   ],
   "source": [
    "hr_rentals = hr.groupby('hr')['cnt'].sum()\n",
    "hr_rentals"
   ]
  },
  {
   "cell_type": "code",
   "execution_count": 36,
   "id": "e177b4a6",
   "metadata": {},
   "outputs": [
    {
     "name": "stdout",
     "output_type": "stream",
     "text": [
      "The peak hour is 17:00 with 336860 total rentals.\n"
     ]
    }
   ],
   "source": [
    "peak_hours = hr_rentals.idxmax()\n",
    "peak_hours_rentals = hr_rentals.max()\n",
    "print(f\"The peak hour is {peak_hours}:00 with {peak_hours_rentals} total rentals.\")"
   ]
  },
  {
   "cell_type": "markdown",
   "id": "72929233",
   "metadata": {},
   "source": [
    "## Q.18 In which day of a week bikes rents out most?"
   ]
  },
  {
   "cell_type": "code",
   "execution_count": 37,
   "id": "ddbd516f",
   "metadata": {},
   "outputs": [
    {
     "data": {
      "text/plain": [
       "array([6, 0, 1, 2, 3, 4, 5], dtype=int64)"
      ]
     },
     "execution_count": 37,
     "metadata": {},
     "output_type": "execute_result"
    }
   ],
   "source": [
    "hr[\"weekday\"].unique()   #---->Day of the week, coded from 0-6 where Sunday = 0,Monday =1,Tuesday = 2,Wednessday = 3, Thursday = 4,Friday =5 ,Saturday =6."
   ]
  },
  {
   "cell_type": "code",
   "execution_count": 38,
   "id": "562a5059",
   "metadata": {},
   "outputs": [
    {
     "name": "stdout",
     "output_type": "stream",
     "text": [
      "The day with the most bike rental is 5 with 487790 total rentals.\n"
     ]
    }
   ],
   "source": [
    "day_rentals = hr.groupby(\"weekday\")['cnt'].sum()\n",
    "peak_day = day_rentals.idxmax()\n",
    "peak_day_rentals = day_rentals.max()\n",
    "print(f\"The day with the most bike rental is {peak_day} with {peak_day_rentals} total rentals.\")"
   ]
  },
  {
   "cell_type": "markdown",
   "id": "99542065",
   "metadata": {},
   "source": [
    "## Q.19 In which hour Casual users rents bikes the most?"
   ]
  },
  {
   "cell_type": "code",
   "execution_count": 39,
   "id": "b56e034c",
   "metadata": {},
   "outputs": [
    {
     "data": {
      "text/plain": [
       "hr\n",
       "0      7375\n",
       "1      4709\n",
       "2      3412\n",
       "3      1893\n",
       "4       874\n",
       "5      1012\n",
       "6      3017\n",
       "7      8037\n",
       "8     15761\n",
       "9     22458\n",
       "10    33789\n",
       "11    43286\n",
       "12    49718\n",
       "13    52713\n",
       "14    55089\n",
       "15    54606\n",
       "16    53834\n",
       "17    54220\n",
       "18    44496\n",
       "19    35505\n",
       "20    26378\n",
       "21    20570\n",
       "22    16200\n",
       "23    11065\n",
       "Name: casual, dtype: int64"
      ]
     },
     "execution_count": 39,
     "metadata": {},
     "output_type": "execute_result"
    }
   ],
   "source": [
    "hr_rentals1 = hr.groupby('hr')['casual'].sum()\n",
    "hr_rentals1"
   ]
  },
  {
   "cell_type": "code",
   "execution_count": 40,
   "id": "f9a4bf0a",
   "metadata": {},
   "outputs": [
    {
     "name": "stdout",
     "output_type": "stream",
     "text": [
      "The peak hour of casual users is 14:00 with 55089 total rentals.\n"
     ]
    }
   ],
   "source": [
    "peak_hr_casual = hr_rentals1.idxmax()\n",
    "peak_hr_casual_rentals = hr_rentals1.max()\n",
    "print(f\"The peak hour of casual users is {peak_hr_casual}:00 with {peak_hr_casual_rentals} total rentals.\")"
   ]
  },
  {
   "cell_type": "markdown",
   "id": "6109a025",
   "metadata": {},
   "source": [
    "## Q.20 What is the maximum temperature observed in each of the seasons?"
   ]
  },
  {
   "cell_type": "code",
   "execution_count": 41,
   "id": "f6ca76e2",
   "metadata": {},
   "outputs": [
    {
     "data": {
      "text/plain": [
       "season\n",
       "1    1268.98\n",
       "2    2401.42\n",
       "3    3176.02\n",
       "4    1790.72\n",
       "Name: temp, dtype: float64"
      ]
     },
     "execution_count": 41,
     "metadata": {},
     "output_type": "execute_result"
    }
   ],
   "source": [
    "temp_rentals = hr.groupby('season')['temp'].sum()\n",
    "temp_rentals"
   ]
  },
  {
   "cell_type": "code",
   "execution_count": 42,
   "id": "cc64c3a5",
   "metadata": {},
   "outputs": [
    {
     "name": "stdout",
     "output_type": "stream",
     "text": [
      "The maximum temperature is 3176.02 corresponding to 3 .\n"
     ]
    }
   ],
   "source": [
    "temp_max = temp_rentals.idxmax()\n",
    "temp_max_season = temp_rentals.max()\n",
    "print(f\"The maximum temperature is {temp_max_season} corresponding to {temp_max} .\")"
   ]
  },
  {
   "cell_type": "markdown",
   "id": "a7c8a85b",
   "metadata": {},
   "source": [
    "- The maximum temperature observed is 3176.02 corresponding to summer season\n",
    "- The minimum temperature observed is 1268.98 corresponding to winter season"
   ]
  }
 ],
 "metadata": {
  "kernelspec": {
   "display_name": "Python 3 (ipykernel)",
   "language": "python",
   "name": "python3"
  },
  "language_info": {
   "codemirror_mode": {
    "name": "ipython",
    "version": 3
   },
   "file_extension": ".py",
   "mimetype": "text/x-python",
   "name": "python",
   "nbconvert_exporter": "python",
   "pygments_lexer": "ipython3",
   "version": "3.9.12"
  }
 },
 "nbformat": 4,
 "nbformat_minor": 5
}
