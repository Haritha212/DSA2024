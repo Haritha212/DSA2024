{
 "cells": [
  {
   "cell_type": "code",
   "execution_count": 1,
   "id": "3654861b-3c60-4096-89e1-cbe3e21a819e",
   "metadata": {},
   "outputs": [],
   "source": [
    "import numpy as np\n",
    "import pandas as pd\n",
    "import matplotlib.pyplot as plt\n",
    "import seaborn as sns\n",
    "import warnings\n",
    "warnings.filterwarnings(\"ignore\")\n",
    "from sklearn.preprocessing import LabelEncoder\n",
    "from sklearn.preprocessing import StandardScaler, MinMaxScaler\n",
    "from sklearn.model_selection import train_test_split\n",
    "from sklearn.linear_model import LogisticRegression\n",
    "from sklearn.neighbors import KNeighborsClassifier\n",
    "from sklearn.tree import DecisionTreeClassifier\n",
    "from sklearn.ensemble import RandomForestClassifier\n",
    "from sklearn import svm\n",
    "from sklearn.svm import SVC\n",
    "from sklearn.metrics import accuracy_score, precision_score,recall_score,f1_score,confusion_matrix,classification_report"
   ]
  },
  {
   "cell_type": "code",
   "execution_count": 2,
   "id": "3b7d34af-c3c3-40d5-a695-42051915bef1",
   "metadata": {},
   "outputs": [],
   "source": [
    "train_data = pd.read_csv(\"C:\\\\Users\\\\Acer\\\\Downloads\\\\train.csv\\\\train.csv\")"
   ]
  },
  {
   "cell_type": "code",
   "execution_count": 3,
   "id": "8eaeeb0d-c3f1-425b-b4e1-43d7e4ec4201",
   "metadata": {},
   "outputs": [],
   "source": [
    "test_data =  pd.read_csv(\"C:\\\\Users\\\\Acer\\\\Downloads\\\\test.csv\\\\test.csv\")"
   ]
  },
  {
   "cell_type": "markdown",
   "id": "1c84c536-a680-440b-bf1a-9a559cca49ed",
   "metadata": {},
   "source": [
    "## About the dataset"
   ]
  },
  {
   "cell_type": "markdown",
   "id": "3879cb5d-01ed-4b08-bb80-6c48a1238d8b",
   "metadata": {},
   "source": [
    "The dataset for this competition (both train and test) was generated from a deep learning model trained on the Predict Students' Dropout and Academic Success dataset\n",
    "**Variable Description**\n",
    "- **Target**: The problem is formulated as a three category classification task (dropout, enrolled, and graduate) at the end of the normal duration of the course (Categorical)\n",
    "- **Marital Status**: Categorical values representing different marital situations (1 – single,  2 – married, 3 – widower, 4 – divorced, 5 – facto union, 6  legally separated)\n",
    "- **Application mode**: Describes how the student applied to the institution(1 - 1st phase - general contingent , 2 - Ordinance No. 612/93 , 5 - 1st phase  special contingent (Azores Island) , 7 - Holders of other higher courses , 10 - Ordinance No. 854-B/99, 15 - International student (bachelor), 16 - 1st phase special contingent (Madeira Island), 17 - 2nd phase - general contingent, 18 - 3rd phase - general contingent, 26 - Ordinance No. 533-A/99, item b2) (Different Plan), 27 - Ordinance No. 533-A/99, item b3 (Other Institution), 39 - Over 23 years old, 42 - Transfer, 43 - Change of course, 44 - Technological specialization diploma holders, 51 - Change of institution/course 53 - Short cycle diploma holders, 57 - Change of institution/course (International)\n",
    "- **Application order**: Indicates the student's preference for the program they applied to. (between 0 - first choice; and 9 last choice)\n",
    "- **Course**: Represents the program or course the student applied to.\n",
    "   - 33 - Biofuel Production Technologies\n",
    "   - 171 - Animation and Multimedia Design\n",
    "   - 8014 - Social Service (evening attendance)\n",
    "   - 9003 - Agronomy 9070 - Communication Design\n",
    "   - 9085 - Veterinary Nursing\n",
    "   - 9119 - Informatics Engineering\n",
    "   - 9130 - Equinculture\n",
    "   - 9147 - Management\n",
    "   - 9238 - Social Service\n",
    "   - 9254 - Tourism\n",
    "   - 9500 - Nursing\n",
    "   - 9556 - Oral Hygiene\n",
    "   - 9670 - Advertising and Marketing Management\n",
    "   - 9773 - Journalism and Communication\n",
    "   - 9853 - Basic Education\n",
    "   - 9991 - Management (evening attendance)\n",
    "- **Daytime/evening attendance**: 1 – daytime,  0 - evening\n",
    "- **Admission grade**: Admission grade (between 0 and 200) (Continuous)\n",
    "- **Previous qualification**:\n",
    "  - 1 - Secondary education\n",
    "  - 2 - Higher education - bachelor's degree\n",
    "  - 3 - Higher education - degree\n",
    "  - 4 - Higher education - master's\n",
    "  - 5 - Higher education - doctorate\n",
    "  - 6 - Frequency of higher education\n",
    "  - 9 - 12th year of schooling - not completed\n",
    "  - 10 - 11th year of schooling - not completed 12 - Other\n",
    "  - 11th year of schooling\n",
    "  - 14 - 10th year of schooling\n",
    "  - 15 - 10th year of schooling - not completed\n",
    "  - 19 - Basic education 3rd cycle (9th/10th/11th year) or equiv.\n",
    "  - 38 - Basic education 2nd cycle (6th/7th/8th year) or equiv.\n",
    "  - 39 - Technological specialization course\n",
    "  - 40 - Higher education - degree (1st cycle)\n",
    "  - 42 - Professional higher technical course\n",
    "  - 43 - Higher education - master (2nd cycle)\n",
    "- **Previous qualification (grade)**: Grade of previous qualification (between 0 and 200) (continous variable)\n",
    "- **Displaced**: 1 – yes 0 – no\n",
    "- **Nacionality**: Nationality\n",
    "  - 1 - Portuguese\n",
    "  - 2 - German\n",
    "  - 6 - Spanish\n",
    "  - 11 - Italian\n",
    "  - 13 - Dutch\n",
    "  - 14 - English\n",
    "  - 17 - Lithuanian\n",
    "  - 21 - Angolan\n",
    "  - 22 - Cape Verdean\n",
    "  - 24 - Guinean\n",
    "  - 25 - Mozambican\n",
    "  - 26 - Santomean\n",
    "  - 32 - Turkish\n",
    "  - 41 - Brazilian\n",
    "  - 62 - Romanian\n",
    "  - 100 - Moldova (Republic of)\n",
    "  - 101 - Mexican\n",
    "  - 103 - Ukrainian\n",
    "  - 105 - Russian\n",
    "  - 108 - Cuban\n",
    "  - 109 - Colombian\n",
    "- **Educational special needs**: 1 – yes, 0 – no\t\t\n",
    "- **Debtor**: 1 – yes 0 – no\n",
    "- **Tuition fees up to date**: 1 – yes , 0 – no\n",
    "- **Gender**: Gender. (1 – male , 0 – female)\t\t\n",
    "- **Scholarship holder**: 1 – yes,  0 – no\t\n",
    "- **Age at enrollment**: Age of student at enrollment\n",
    "- **International**:1 – yes 0 – no\t\tno\n",
    "- **Curricular units 1st sem (credited)**: Number of curricular units credited in the 1st semester\t\t\n",
    "- **Curricular units 1st sem (enrolled)**: Number of curricular units enrolled in the 1st semester\t\t\n",
    "- **Curricular units 1st sem (evaluations)**: Number of evaluations to curricular units in the 1st semester\t\t\n",
    "- **Curricular units 1st sem (approved)**: Number of curricular units approved in the 1st semester\n",
    "- **Curricular units 1st sem (grade)**: Grade average in the 1st semester (between 0 and 20)\t\t\n",
    "- **Curricular units 1st sem (without evaluations)**: Number of curricular units without evalutions in the 1st semester\n",
    "- **Curricular units 2nd sem (credited)**: Number of curricular units credited in the 2nd semester\t\n",
    "- **Curricular units 2nd sem (enrolled)**: Number of curricular units enrolled in the 2nd semester\t\n",
    "- **Curricular units 2nd sem (evaluations)**: Number of evaluations to curricular units in the 2nd semester\n",
    "- **Curricular units 2nd sem (approved)**: Number of curricular units approved in the 2nd semester\t\t\n",
    "- **Curricular units 2nd sem (grade)**: Grade average in the 2nd semester (between 0 and 20)\t\t\n",
    "- **Curricular units 2nd sem (without evaluations)**: Number of curricular units without evalutions in the 1st semester\t\n",
    "- **Unemployment rate**: Unemployment rate (%) (Continuous)\n",
    "- **Inflation rate**: Inflation rate (%) (Continuous)\n",
    "- **GDP**: GDP\t(Continuous)\n",
    "- **Mother's qualification, Fathers qualification**:\n",
    "  - 1 - Secondary Education - 12th Year of Schooling or Eq.\n",
    "  - 2 - Higher Education - Bachelor's Degree\n",
    "  - 3 - Higher Education - Degree\n",
    "  - 4 - Higher Education - Master's\n",
    "  - 5 - Higher Education - Doctorate\n",
    "  - 6 - Frequency of Higher Education\n",
    "  - 9 - 12th Year of Schooling - Not Completed\n",
    "  - 10 - 11th Year of Schooling - Not Completed\n",
    "  - 11 - 7th Year (Old)\n",
    "  - 12 - Other - 11th Year of Schooling\n",
    "  - 14 - 10th Year of Schooling\n",
    "  - 18 - General commerce course\n",
    "  - 19 - Basic Education 3rd Cycle (9th/10th/11th Year) or Equiv.\n",
    "  - 20 - Complementary High School Course\n",
    "  - 22 - Technical-professional course\n",
    "  - 25 - Complementary High School Course - not concluded\n",
    "  - 26 - 7th year of schooling\n",
    "  - 27 - 2nd cycle of the general high school course\n",
    "  - 29 - 9th Year of Schooling - Not Completed\n",
    "  - 30 - 8th year of schooling\n",
    "  - 31 - General Course of Administration and Commerce\n",
    "  - 33 - Supplementary Accounting and Administration\n",
    "  - 34 - Unknown\n",
    "  - 35 - Can't read or write\n",
    "  - 36 - Can read without having a 4th year of schooling\n",
    "  - 37 - Basic education 1st cycle (4th/5th year) or equiv.\n",
    "  - 38 - Basic Education 2nd Cycle (6th/7th/8th Year) or Equiv.\n",
    "  - 39 - Technological specialization course\n",
    "  - 40 - Higher education - degree (1st cycle)\n",
    "  - 41 - Specialized higher studies course\n",
    "  - 42 - Professional higher technical course\n",
    "  - 43 - Higher Education - Master (2nd cycle)\n",
    "  - 44 - Higher Education - Doctorate (3rd cycle)\n",
    "- **Father's occupation, Mother's occupation**:\n",
    "  - 0 - Student\n",
    "  - 1 - Representatives of the Legislative Power and Executive Bodies, Directors, Directors and Executive Managers\n",
    "  - 2 - Specialists in Intellectual and Scientific Activities\n",
    "  - 3 - Intermediate Level Technicians and Professions\n",
    "  - 4 - Administrative staff\n",
    "  - 5 - Personal Services, Security and Safety Workers and Sellers\n",
    "  - 6 - Farmers and Skilled Workers in Agriculture, Fisheries and Forestry\n",
    "  - 7 - Skilled Workers in Industry, Construction and Craftsmen\n",
    "  - 8 - Installation and Machine Operators and Assembly Workers\n",
    "  - 9 - Unskilled Workers\n",
    "  - 10 - Armed Forces Professions\n",
    "  - 90 - Other Situation\n",
    "  - 99 - (blank)\n",
    "  - 101 - Armed Forces Officers\n",
    "  - 102 - Armed Forces Sergeants\n",
    "  - 103 - Other Armed Forces personnel\n",
    "  - 112 - Directors of administrative and commercial services\n",
    "  - 114 - Hotel, catering, trade and other services directors\n",
    "  - 121 - Specialists in the physical sciences, mathematics, engineering and related techniques\n",
    "  - 122 - Health professionals\n",
    "  - 123 - teachers\n",
    "  - 124 - Specialists in finance, accounting, administrative organization, public and commercial relations\n",
    "  - 125 - Specialists in Information and Communication Technologies (ICT)\n",
    "  - 131 - Intermediate level science and engineering technicians and professions\n",
    "  - 132 - Technicians and professionals, of intermediate level of health\n",
    "  - 134 - Intermediate level technicians from legal, social, sports, cultural and similar services\n",
    "  - 135 - Information and communication technology technicians\n",
    "  - 141 - Office workers, secretaries in general and data processing operators\n",
    "  - 143 - Data, accounting, statistical, financial services and registry-related operators\n",
    "  - 144 - Other administrative support staff\n",
    "  - 151 - personal service workers\n",
    "  - 152 - sellers\n",
    "  - 153 - Personal care workers and the like\n",
    "  - 154 - Protection and security services personnel\n",
    "  - 161 - Market-oriented farmers and skilled agricultural and animal production workers\n",
    "  - 163 - Farmers, livestock keepers, fishermen, hunters and gatherers, subsistence\n",
    "  - 171 - Skilled construction workers and the like, except electricians\n",
    "  - 172 - Skilled workers in metallurgy, metalworking and similar\n",
    "  - 173 - Skilled Workers in Printing, Precision Instrument Manufacturing, Jewelers, Artisans, etc.:\n",
    "  - 174 - Skilled workers in electricity and electronics\n",
    "  - 175 - Workers in food processing, woodworking, clothing and other industries and crafts\n",
    "  - 181 - Fixed plant and machine operators\n",
    "  - 182 - assembly workers\n",
    "  - 183 - Vehicle drivers and mobile equipment operators\n",
    "  - 191 - Cleaning Workers\n",
    "  - 192 - Unskilled workers in agriculture, animal production, fisheries and forestry\n",
    "  - 193 - Unskilled workers in extractive industry, construction, manufacturing and transport\n",
    "  - 194 - Meal preparation assistants\n",
    "  - 195 - Street vendors (except food) and street service providers\t\t"
   ]
  },
  {
   "cell_type": "markdown",
   "id": "039a702c-0c03-4716-9505-35dccdbb2069",
   "metadata": {},
   "source": [
    "# Problem Statement\n",
    "The goal of this competition is to predict student academic status using a variety of student-related features.\n",
    "The target variable in this dataset has three classes:\n",
    "- Graduate: Students who successfully completed their studies.\n",
    "- Dropout: Students who discontinued their studies before completion.\n",
    "- Enrolled: Students who are currently attending or have not yet graduated.\n",
    "   \n",
    "The goal is to classify students into one of three groups: Graduate, Dropout, and  Enrolled , based on their features."
   ]
  },
  {
   "cell_type": "markdown",
   "id": "abcdb487-ab1d-43ee-819d-8fcaf998cf84",
   "metadata": {},
   "source": [
    "# Exploratory data analysis (EDA)"
   ]
  },
  {
   "cell_type": "code",
   "execution_count": 4,
   "id": "7ac5067d-5968-459b-9356-8c4ef4f2b59b",
   "metadata": {},
   "outputs": [
    {
     "data": {
      "text/html": [
       "<div>\n",
       "<style scoped>\n",
       "    .dataframe tbody tr th:only-of-type {\n",
       "        vertical-align: middle;\n",
       "    }\n",
       "\n",
       "    .dataframe tbody tr th {\n",
       "        vertical-align: top;\n",
       "    }\n",
       "\n",
       "    .dataframe thead th {\n",
       "        text-align: right;\n",
       "    }\n",
       "</style>\n",
       "<table border=\"1\" class=\"dataframe\">\n",
       "  <thead>\n",
       "    <tr style=\"text-align: right;\">\n",
       "      <th></th>\n",
       "      <th>id</th>\n",
       "      <th>Marital status</th>\n",
       "      <th>Application mode</th>\n",
       "      <th>Application order</th>\n",
       "      <th>Course</th>\n",
       "      <th>Daytime/evening attendance</th>\n",
       "      <th>Previous qualification</th>\n",
       "      <th>Previous qualification (grade)</th>\n",
       "      <th>Nacionality</th>\n",
       "      <th>Mother's qualification</th>\n",
       "      <th>...</th>\n",
       "      <th>Curricular units 2nd sem (credited)</th>\n",
       "      <th>Curricular units 2nd sem (enrolled)</th>\n",
       "      <th>Curricular units 2nd sem (evaluations)</th>\n",
       "      <th>Curricular units 2nd sem (approved)</th>\n",
       "      <th>Curricular units 2nd sem (grade)</th>\n",
       "      <th>Curricular units 2nd sem (without evaluations)</th>\n",
       "      <th>Unemployment rate</th>\n",
       "      <th>Inflation rate</th>\n",
       "      <th>GDP</th>\n",
       "      <th>Target</th>\n",
       "    </tr>\n",
       "  </thead>\n",
       "  <tbody>\n",
       "    <tr>\n",
       "      <th>0</th>\n",
       "      <td>0</td>\n",
       "      <td>1</td>\n",
       "      <td>1</td>\n",
       "      <td>1</td>\n",
       "      <td>9238</td>\n",
       "      <td>1</td>\n",
       "      <td>1</td>\n",
       "      <td>126.0</td>\n",
       "      <td>1</td>\n",
       "      <td>1</td>\n",
       "      <td>...</td>\n",
       "      <td>0</td>\n",
       "      <td>6</td>\n",
       "      <td>7</td>\n",
       "      <td>6</td>\n",
       "      <td>12.428571</td>\n",
       "      <td>0</td>\n",
       "      <td>11.1</td>\n",
       "      <td>0.6</td>\n",
       "      <td>2.02</td>\n",
       "      <td>Graduate</td>\n",
       "    </tr>\n",
       "    <tr>\n",
       "      <th>1</th>\n",
       "      <td>1</td>\n",
       "      <td>1</td>\n",
       "      <td>17</td>\n",
       "      <td>1</td>\n",
       "      <td>9238</td>\n",
       "      <td>1</td>\n",
       "      <td>1</td>\n",
       "      <td>125.0</td>\n",
       "      <td>1</td>\n",
       "      <td>19</td>\n",
       "      <td>...</td>\n",
       "      <td>0</td>\n",
       "      <td>6</td>\n",
       "      <td>9</td>\n",
       "      <td>0</td>\n",
       "      <td>0.000000</td>\n",
       "      <td>0</td>\n",
       "      <td>11.1</td>\n",
       "      <td>0.6</td>\n",
       "      <td>2.02</td>\n",
       "      <td>Dropout</td>\n",
       "    </tr>\n",
       "    <tr>\n",
       "      <th>2</th>\n",
       "      <td>2</td>\n",
       "      <td>1</td>\n",
       "      <td>17</td>\n",
       "      <td>2</td>\n",
       "      <td>9254</td>\n",
       "      <td>1</td>\n",
       "      <td>1</td>\n",
       "      <td>137.0</td>\n",
       "      <td>1</td>\n",
       "      <td>3</td>\n",
       "      <td>...</td>\n",
       "      <td>0</td>\n",
       "      <td>6</td>\n",
       "      <td>0</td>\n",
       "      <td>0</td>\n",
       "      <td>0.000000</td>\n",
       "      <td>0</td>\n",
       "      <td>16.2</td>\n",
       "      <td>0.3</td>\n",
       "      <td>-0.92</td>\n",
       "      <td>Dropout</td>\n",
       "    </tr>\n",
       "    <tr>\n",
       "      <th>3</th>\n",
       "      <td>3</td>\n",
       "      <td>1</td>\n",
       "      <td>1</td>\n",
       "      <td>3</td>\n",
       "      <td>9500</td>\n",
       "      <td>1</td>\n",
       "      <td>1</td>\n",
       "      <td>131.0</td>\n",
       "      <td>1</td>\n",
       "      <td>19</td>\n",
       "      <td>...</td>\n",
       "      <td>0</td>\n",
       "      <td>8</td>\n",
       "      <td>11</td>\n",
       "      <td>7</td>\n",
       "      <td>12.820000</td>\n",
       "      <td>0</td>\n",
       "      <td>11.1</td>\n",
       "      <td>0.6</td>\n",
       "      <td>2.02</td>\n",
       "      <td>Enrolled</td>\n",
       "    </tr>\n",
       "    <tr>\n",
       "      <th>4</th>\n",
       "      <td>4</td>\n",
       "      <td>1</td>\n",
       "      <td>1</td>\n",
       "      <td>2</td>\n",
       "      <td>9500</td>\n",
       "      <td>1</td>\n",
       "      <td>1</td>\n",
       "      <td>132.0</td>\n",
       "      <td>1</td>\n",
       "      <td>19</td>\n",
       "      <td>...</td>\n",
       "      <td>0</td>\n",
       "      <td>7</td>\n",
       "      <td>12</td>\n",
       "      <td>6</td>\n",
       "      <td>12.933333</td>\n",
       "      <td>0</td>\n",
       "      <td>7.6</td>\n",
       "      <td>2.6</td>\n",
       "      <td>0.32</td>\n",
       "      <td>Graduate</td>\n",
       "    </tr>\n",
       "  </tbody>\n",
       "</table>\n",
       "<p>5 rows × 38 columns</p>\n",
       "</div>"
      ],
      "text/plain": [
       "   id  Marital status  Application mode  Application order  Course  \\\n",
       "0   0               1                 1                  1    9238   \n",
       "1   1               1                17                  1    9238   \n",
       "2   2               1                17                  2    9254   \n",
       "3   3               1                 1                  3    9500   \n",
       "4   4               1                 1                  2    9500   \n",
       "\n",
       "   Daytime/evening attendance  Previous qualification  \\\n",
       "0                           1                       1   \n",
       "1                           1                       1   \n",
       "2                           1                       1   \n",
       "3                           1                       1   \n",
       "4                           1                       1   \n",
       "\n",
       "   Previous qualification (grade)  Nacionality  Mother's qualification  ...  \\\n",
       "0                           126.0            1                       1  ...   \n",
       "1                           125.0            1                      19  ...   \n",
       "2                           137.0            1                       3  ...   \n",
       "3                           131.0            1                      19  ...   \n",
       "4                           132.0            1                      19  ...   \n",
       "\n",
       "   Curricular units 2nd sem (credited)  Curricular units 2nd sem (enrolled)  \\\n",
       "0                                    0                                    6   \n",
       "1                                    0                                    6   \n",
       "2                                    0                                    6   \n",
       "3                                    0                                    8   \n",
       "4                                    0                                    7   \n",
       "\n",
       "   Curricular units 2nd sem (evaluations)  \\\n",
       "0                                       7   \n",
       "1                                       9   \n",
       "2                                       0   \n",
       "3                                      11   \n",
       "4                                      12   \n",
       "\n",
       "   Curricular units 2nd sem (approved)  Curricular units 2nd sem (grade)  \\\n",
       "0                                    6                         12.428571   \n",
       "1                                    0                          0.000000   \n",
       "2                                    0                          0.000000   \n",
       "3                                    7                         12.820000   \n",
       "4                                    6                         12.933333   \n",
       "\n",
       "   Curricular units 2nd sem (without evaluations)  Unemployment rate  \\\n",
       "0                                               0               11.1   \n",
       "1                                               0               11.1   \n",
       "2                                               0               16.2   \n",
       "3                                               0               11.1   \n",
       "4                                               0                7.6   \n",
       "\n",
       "   Inflation rate   GDP    Target  \n",
       "0             0.6  2.02  Graduate  \n",
       "1             0.6  2.02   Dropout  \n",
       "2             0.3 -0.92   Dropout  \n",
       "3             0.6  2.02  Enrolled  \n",
       "4             2.6  0.32  Graduate  \n",
       "\n",
       "[5 rows x 38 columns]"
      ]
     },
     "execution_count": 4,
     "metadata": {},
     "output_type": "execute_result"
    }
   ],
   "source": [
    "train_data.head()"
   ]
  },
  {
   "cell_type": "code",
   "execution_count": 5,
   "id": "12e2b004-2a9b-4da1-9271-ecce1095f278",
   "metadata": {},
   "outputs": [
    {
     "data": {
      "text/html": [
       "<div>\n",
       "<style scoped>\n",
       "    .dataframe tbody tr th:only-of-type {\n",
       "        vertical-align: middle;\n",
       "    }\n",
       "\n",
       "    .dataframe tbody tr th {\n",
       "        vertical-align: top;\n",
       "    }\n",
       "\n",
       "    .dataframe thead th {\n",
       "        text-align: right;\n",
       "    }\n",
       "</style>\n",
       "<table border=\"1\" class=\"dataframe\">\n",
       "  <thead>\n",
       "    <tr style=\"text-align: right;\">\n",
       "      <th></th>\n",
       "      <th>id</th>\n",
       "      <th>Marital status</th>\n",
       "      <th>Application mode</th>\n",
       "      <th>Application order</th>\n",
       "      <th>Course</th>\n",
       "      <th>Daytime/evening attendance</th>\n",
       "      <th>Previous qualification</th>\n",
       "      <th>Previous qualification (grade)</th>\n",
       "      <th>Nacionality</th>\n",
       "      <th>Mother's qualification</th>\n",
       "      <th>...</th>\n",
       "      <th>Curricular units 1st sem (without evaluations)</th>\n",
       "      <th>Curricular units 2nd sem (credited)</th>\n",
       "      <th>Curricular units 2nd sem (enrolled)</th>\n",
       "      <th>Curricular units 2nd sem (evaluations)</th>\n",
       "      <th>Curricular units 2nd sem (approved)</th>\n",
       "      <th>Curricular units 2nd sem (grade)</th>\n",
       "      <th>Curricular units 2nd sem (without evaluations)</th>\n",
       "      <th>Unemployment rate</th>\n",
       "      <th>Inflation rate</th>\n",
       "      <th>GDP</th>\n",
       "    </tr>\n",
       "  </thead>\n",
       "  <tbody>\n",
       "    <tr>\n",
       "      <th>count</th>\n",
       "      <td>76518.000000</td>\n",
       "      <td>76518.000000</td>\n",
       "      <td>76518.000000</td>\n",
       "      <td>76518.000000</td>\n",
       "      <td>76518.000000</td>\n",
       "      <td>76518.000000</td>\n",
       "      <td>76518.000000</td>\n",
       "      <td>76518.000000</td>\n",
       "      <td>76518.000000</td>\n",
       "      <td>76518.000000</td>\n",
       "      <td>...</td>\n",
       "      <td>76518.00000</td>\n",
       "      <td>76518.000000</td>\n",
       "      <td>76518.000000</td>\n",
       "      <td>76518.000000</td>\n",
       "      <td>76518.000000</td>\n",
       "      <td>76518.000000</td>\n",
       "      <td>76518.000000</td>\n",
       "      <td>76518.000000</td>\n",
       "      <td>76518.000000</td>\n",
       "      <td>76518.000000</td>\n",
       "    </tr>\n",
       "    <tr>\n",
       "      <th>mean</th>\n",
       "      <td>38258.500000</td>\n",
       "      <td>1.111934</td>\n",
       "      <td>16.054419</td>\n",
       "      <td>1.644410</td>\n",
       "      <td>9001.286377</td>\n",
       "      <td>0.915314</td>\n",
       "      <td>3.658760</td>\n",
       "      <td>132.378766</td>\n",
       "      <td>1.226600</td>\n",
       "      <td>19.837633</td>\n",
       "      <td>...</td>\n",
       "      <td>0.05796</td>\n",
       "      <td>0.137053</td>\n",
       "      <td>5.933414</td>\n",
       "      <td>7.234468</td>\n",
       "      <td>4.007201</td>\n",
       "      <td>9.626085</td>\n",
       "      <td>0.062443</td>\n",
       "      <td>11.520340</td>\n",
       "      <td>1.228218</td>\n",
       "      <td>-0.080921</td>\n",
       "    </tr>\n",
       "    <tr>\n",
       "      <th>std</th>\n",
       "      <td>22088.988286</td>\n",
       "      <td>0.441669</td>\n",
       "      <td>16.682337</td>\n",
       "      <td>1.229645</td>\n",
       "      <td>1803.438531</td>\n",
       "      <td>0.278416</td>\n",
       "      <td>8.623774</td>\n",
       "      <td>10.995328</td>\n",
       "      <td>3.392183</td>\n",
       "      <td>15.399456</td>\n",
       "      <td>...</td>\n",
       "      <td>0.40849</td>\n",
       "      <td>0.933830</td>\n",
       "      <td>1.627182</td>\n",
       "      <td>3.503040</td>\n",
       "      <td>2.772956</td>\n",
       "      <td>5.546035</td>\n",
       "      <td>0.462107</td>\n",
       "      <td>2.653375</td>\n",
       "      <td>1.398816</td>\n",
       "      <td>2.251382</td>\n",
       "    </tr>\n",
       "    <tr>\n",
       "      <th>min</th>\n",
       "      <td>0.000000</td>\n",
       "      <td>1.000000</td>\n",
       "      <td>1.000000</td>\n",
       "      <td>0.000000</td>\n",
       "      <td>33.000000</td>\n",
       "      <td>0.000000</td>\n",
       "      <td>1.000000</td>\n",
       "      <td>95.000000</td>\n",
       "      <td>1.000000</td>\n",
       "      <td>1.000000</td>\n",
       "      <td>...</td>\n",
       "      <td>0.00000</td>\n",
       "      <td>0.000000</td>\n",
       "      <td>0.000000</td>\n",
       "      <td>0.000000</td>\n",
       "      <td>0.000000</td>\n",
       "      <td>0.000000</td>\n",
       "      <td>0.000000</td>\n",
       "      <td>7.600000</td>\n",
       "      <td>-0.800000</td>\n",
       "      <td>-4.060000</td>\n",
       "    </tr>\n",
       "    <tr>\n",
       "      <th>25%</th>\n",
       "      <td>19129.250000</td>\n",
       "      <td>1.000000</td>\n",
       "      <td>1.000000</td>\n",
       "      <td>1.000000</td>\n",
       "      <td>9119.000000</td>\n",
       "      <td>1.000000</td>\n",
       "      <td>1.000000</td>\n",
       "      <td>125.000000</td>\n",
       "      <td>1.000000</td>\n",
       "      <td>1.000000</td>\n",
       "      <td>...</td>\n",
       "      <td>0.00000</td>\n",
       "      <td>0.000000</td>\n",
       "      <td>5.000000</td>\n",
       "      <td>6.000000</td>\n",
       "      <td>1.000000</td>\n",
       "      <td>10.000000</td>\n",
       "      <td>0.000000</td>\n",
       "      <td>9.400000</td>\n",
       "      <td>0.300000</td>\n",
       "      <td>-1.700000</td>\n",
       "    </tr>\n",
       "    <tr>\n",
       "      <th>50%</th>\n",
       "      <td>38258.500000</td>\n",
       "      <td>1.000000</td>\n",
       "      <td>17.000000</td>\n",
       "      <td>1.000000</td>\n",
       "      <td>9254.000000</td>\n",
       "      <td>1.000000</td>\n",
       "      <td>1.000000</td>\n",
       "      <td>133.100000</td>\n",
       "      <td>1.000000</td>\n",
       "      <td>19.000000</td>\n",
       "      <td>...</td>\n",
       "      <td>0.00000</td>\n",
       "      <td>0.000000</td>\n",
       "      <td>6.000000</td>\n",
       "      <td>7.000000</td>\n",
       "      <td>5.000000</td>\n",
       "      <td>12.142857</td>\n",
       "      <td>0.000000</td>\n",
       "      <td>11.100000</td>\n",
       "      <td>1.400000</td>\n",
       "      <td>0.320000</td>\n",
       "    </tr>\n",
       "    <tr>\n",
       "      <th>75%</th>\n",
       "      <td>57387.750000</td>\n",
       "      <td>1.000000</td>\n",
       "      <td>39.000000</td>\n",
       "      <td>2.000000</td>\n",
       "      <td>9670.000000</td>\n",
       "      <td>1.000000</td>\n",
       "      <td>1.000000</td>\n",
       "      <td>140.000000</td>\n",
       "      <td>1.000000</td>\n",
       "      <td>37.000000</td>\n",
       "      <td>...</td>\n",
       "      <td>0.00000</td>\n",
       "      <td>0.000000</td>\n",
       "      <td>6.000000</td>\n",
       "      <td>9.000000</td>\n",
       "      <td>6.000000</td>\n",
       "      <td>13.244048</td>\n",
       "      <td>0.000000</td>\n",
       "      <td>12.700000</td>\n",
       "      <td>2.600000</td>\n",
       "      <td>1.790000</td>\n",
       "    </tr>\n",
       "    <tr>\n",
       "      <th>max</th>\n",
       "      <td>76517.000000</td>\n",
       "      <td>6.000000</td>\n",
       "      <td>53.000000</td>\n",
       "      <td>9.000000</td>\n",
       "      <td>9991.000000</td>\n",
       "      <td>1.000000</td>\n",
       "      <td>43.000000</td>\n",
       "      <td>190.000000</td>\n",
       "      <td>109.000000</td>\n",
       "      <td>44.000000</td>\n",
       "      <td>...</td>\n",
       "      <td>12.00000</td>\n",
       "      <td>19.000000</td>\n",
       "      <td>23.000000</td>\n",
       "      <td>33.000000</td>\n",
       "      <td>20.000000</td>\n",
       "      <td>18.000000</td>\n",
       "      <td>12.000000</td>\n",
       "      <td>16.200000</td>\n",
       "      <td>3.700000</td>\n",
       "      <td>3.510000</td>\n",
       "    </tr>\n",
       "  </tbody>\n",
       "</table>\n",
       "<p>8 rows × 37 columns</p>\n",
       "</div>"
      ],
      "text/plain": [
       "                 id  Marital status  Application mode  Application order  \\\n",
       "count  76518.000000    76518.000000      76518.000000       76518.000000   \n",
       "mean   38258.500000        1.111934         16.054419           1.644410   \n",
       "std    22088.988286        0.441669         16.682337           1.229645   \n",
       "min        0.000000        1.000000          1.000000           0.000000   \n",
       "25%    19129.250000        1.000000          1.000000           1.000000   \n",
       "50%    38258.500000        1.000000         17.000000           1.000000   \n",
       "75%    57387.750000        1.000000         39.000000           2.000000   \n",
       "max    76517.000000        6.000000         53.000000           9.000000   \n",
       "\n",
       "             Course  Daytime/evening attendance  Previous qualification  \\\n",
       "count  76518.000000                76518.000000            76518.000000   \n",
       "mean    9001.286377                    0.915314                3.658760   \n",
       "std     1803.438531                    0.278416                8.623774   \n",
       "min       33.000000                    0.000000                1.000000   \n",
       "25%     9119.000000                    1.000000                1.000000   \n",
       "50%     9254.000000                    1.000000                1.000000   \n",
       "75%     9670.000000                    1.000000                1.000000   \n",
       "max     9991.000000                    1.000000               43.000000   \n",
       "\n",
       "       Previous qualification (grade)   Nacionality  Mother's qualification  \\\n",
       "count                    76518.000000  76518.000000            76518.000000   \n",
       "mean                       132.378766      1.226600               19.837633   \n",
       "std                         10.995328      3.392183               15.399456   \n",
       "min                         95.000000      1.000000                1.000000   \n",
       "25%                        125.000000      1.000000                1.000000   \n",
       "50%                        133.100000      1.000000               19.000000   \n",
       "75%                        140.000000      1.000000               37.000000   \n",
       "max                        190.000000    109.000000               44.000000   \n",
       "\n",
       "       ...  Curricular units 1st sem (without evaluations)  \\\n",
       "count  ...                                     76518.00000   \n",
       "mean   ...                                         0.05796   \n",
       "std    ...                                         0.40849   \n",
       "min    ...                                         0.00000   \n",
       "25%    ...                                         0.00000   \n",
       "50%    ...                                         0.00000   \n",
       "75%    ...                                         0.00000   \n",
       "max    ...                                        12.00000   \n",
       "\n",
       "       Curricular units 2nd sem (credited)  \\\n",
       "count                         76518.000000   \n",
       "mean                              0.137053   \n",
       "std                               0.933830   \n",
       "min                               0.000000   \n",
       "25%                               0.000000   \n",
       "50%                               0.000000   \n",
       "75%                               0.000000   \n",
       "max                              19.000000   \n",
       "\n",
       "       Curricular units 2nd sem (enrolled)  \\\n",
       "count                         76518.000000   \n",
       "mean                              5.933414   \n",
       "std                               1.627182   \n",
       "min                               0.000000   \n",
       "25%                               5.000000   \n",
       "50%                               6.000000   \n",
       "75%                               6.000000   \n",
       "max                              23.000000   \n",
       "\n",
       "       Curricular units 2nd sem (evaluations)  \\\n",
       "count                            76518.000000   \n",
       "mean                                 7.234468   \n",
       "std                                  3.503040   \n",
       "min                                  0.000000   \n",
       "25%                                  6.000000   \n",
       "50%                                  7.000000   \n",
       "75%                                  9.000000   \n",
       "max                                 33.000000   \n",
       "\n",
       "       Curricular units 2nd sem (approved)  Curricular units 2nd sem (grade)  \\\n",
       "count                         76518.000000                      76518.000000   \n",
       "mean                              4.007201                          9.626085   \n",
       "std                               2.772956                          5.546035   \n",
       "min                               0.000000                          0.000000   \n",
       "25%                               1.000000                         10.000000   \n",
       "50%                               5.000000                         12.142857   \n",
       "75%                               6.000000                         13.244048   \n",
       "max                              20.000000                         18.000000   \n",
       "\n",
       "       Curricular units 2nd sem (without evaluations)  Unemployment rate  \\\n",
       "count                                    76518.000000       76518.000000   \n",
       "mean                                         0.062443          11.520340   \n",
       "std                                          0.462107           2.653375   \n",
       "min                                          0.000000           7.600000   \n",
       "25%                                          0.000000           9.400000   \n",
       "50%                                          0.000000          11.100000   \n",
       "75%                                          0.000000          12.700000   \n",
       "max                                         12.000000          16.200000   \n",
       "\n",
       "       Inflation rate           GDP  \n",
       "count    76518.000000  76518.000000  \n",
       "mean         1.228218     -0.080921  \n",
       "std          1.398816      2.251382  \n",
       "min         -0.800000     -4.060000  \n",
       "25%          0.300000     -1.700000  \n",
       "50%          1.400000      0.320000  \n",
       "75%          2.600000      1.790000  \n",
       "max          3.700000      3.510000  \n",
       "\n",
       "[8 rows x 37 columns]"
      ]
     },
     "execution_count": 5,
     "metadata": {},
     "output_type": "execute_result"
    }
   ],
   "source": [
    "train_data.describe() #summary statistics"
   ]
  },
  {
   "cell_type": "code",
   "execution_count": 6,
   "id": "0a1bceb0-495c-47d6-84bd-36815cfeea96",
   "metadata": {},
   "outputs": [
    {
     "data": {
      "text/plain": [
       "(76518, 38)"
      ]
     },
     "execution_count": 6,
     "metadata": {},
     "output_type": "execute_result"
    }
   ],
   "source": [
    "train_data.shape"
   ]
  },
  {
   "cell_type": "code",
   "execution_count": 7,
   "id": "78071afe-bce6-4e69-a913-fb6d8f319bd4",
   "metadata": {},
   "outputs": [
    {
     "name": "stdout",
     "output_type": "stream",
     "text": [
      "<class 'pandas.core.frame.DataFrame'>\n",
      "RangeIndex: 76518 entries, 0 to 76517\n",
      "Data columns (total 38 columns):\n",
      " #   Column                                          Non-Null Count  Dtype  \n",
      "---  ------                                          --------------  -----  \n",
      " 0   id                                              76518 non-null  int64  \n",
      " 1   Marital status                                  76518 non-null  int64  \n",
      " 2   Application mode                                76518 non-null  int64  \n",
      " 3   Application order                               76518 non-null  int64  \n",
      " 4   Course                                          76518 non-null  int64  \n",
      " 5   Daytime/evening attendance                      76518 non-null  int64  \n",
      " 6   Previous qualification                          76518 non-null  int64  \n",
      " 7   Previous qualification (grade)                  76518 non-null  float64\n",
      " 8   Nacionality                                     76518 non-null  int64  \n",
      " 9   Mother's qualification                          76518 non-null  int64  \n",
      " 10  Father's qualification                          76518 non-null  int64  \n",
      " 11  Mother's occupation                             76518 non-null  int64  \n",
      " 12  Father's occupation                             76518 non-null  int64  \n",
      " 13  Admission grade                                 76518 non-null  float64\n",
      " 14  Displaced                                       76518 non-null  int64  \n",
      " 15  Educational special needs                       76518 non-null  int64  \n",
      " 16  Debtor                                          76518 non-null  int64  \n",
      " 17  Tuition fees up to date                         76518 non-null  int64  \n",
      " 18  Gender                                          76518 non-null  int64  \n",
      " 19  Scholarship holder                              76518 non-null  int64  \n",
      " 20  Age at enrollment                               76518 non-null  int64  \n",
      " 21  International                                   76518 non-null  int64  \n",
      " 22  Curricular units 1st sem (credited)             76518 non-null  int64  \n",
      " 23  Curricular units 1st sem (enrolled)             76518 non-null  int64  \n",
      " 24  Curricular units 1st sem (evaluations)          76518 non-null  int64  \n",
      " 25  Curricular units 1st sem (approved)             76518 non-null  int64  \n",
      " 26  Curricular units 1st sem (grade)                76518 non-null  float64\n",
      " 27  Curricular units 1st sem (without evaluations)  76518 non-null  int64  \n",
      " 28  Curricular units 2nd sem (credited)             76518 non-null  int64  \n",
      " 29  Curricular units 2nd sem (enrolled)             76518 non-null  int64  \n",
      " 30  Curricular units 2nd sem (evaluations)          76518 non-null  int64  \n",
      " 31  Curricular units 2nd sem (approved)             76518 non-null  int64  \n",
      " 32  Curricular units 2nd sem (grade)                76518 non-null  float64\n",
      " 33  Curricular units 2nd sem (without evaluations)  76518 non-null  int64  \n",
      " 34  Unemployment rate                               76518 non-null  float64\n",
      " 35  Inflation rate                                  76518 non-null  float64\n",
      " 36  GDP                                             76518 non-null  float64\n",
      " 37  Target                                          76518 non-null  object \n",
      "dtypes: float64(7), int64(30), object(1)\n",
      "memory usage: 22.2+ MB\n"
     ]
    }
   ],
   "source": [
    "train_data.info()"
   ]
  },
  {
   "cell_type": "markdown",
   "id": "7dfff2cd-57ad-4719-a9fc-87d6872ca40e",
   "metadata": {},
   "source": [
    "- Numerical columns: 'Admission grade', 'Previous qualification (grade)', 'Curricular units 1st sem (credited)', 'Curricular units 1st sem (enrolled)', 'Curricular units 1st sem (evaluations)', 'Curricular units 1st sem (approved)', 'Curricular units 1st sem (grade)', 'Curricular units 1st sem (without evaluations)', 'Curricular units 2nd sem (credited)', 'Curricular units 2nd sem (enrolled)', 'Curricular units 2nd sem (evaluations)', 'Curricular units 2nd sem (approved)', 'Curricular units 2nd sem (grade)', 'Curricular units 2nd sem (without evaluations)', 'Unemployment rate', 'Inflation rate', 'GDP', 'Age at enrollment'\n",
    "- Categorical columns: 'Marital status', 'Application mode', 'Application order', 'Course', 'Daytime/evening attendance', 'Previous qualification', 'Nacionality', \"Mother's qualification\", \"Father's qualification\", \"Mother's occupation\", \"Father's occupation\", 'Displaced', 'Educational special needs', 'Debtor', 'Tuition fees up to date', 'Gender', 'Scholarship holder', 'International', 'Target'"
   ]
  },
  {
   "cell_type": "code",
   "execution_count": 8,
   "id": "c51e02d9-4c30-40e9-95bc-497f6d521dc6",
   "metadata": {},
   "outputs": [
    {
     "data": {
      "text/plain": [
       "array(['Graduate', 'Dropout', 'Enrolled'], dtype=object)"
      ]
     },
     "execution_count": 8,
     "metadata": {},
     "output_type": "execute_result"
    }
   ],
   "source": [
    "train_data[\"Target\"].unique()"
   ]
  },
  {
   "cell_type": "code",
   "execution_count": 9,
   "id": "330eccdb-d23a-4a3b-9355-9282230d9135",
   "metadata": {},
   "outputs": [
    {
     "data": {
      "text/plain": [
       "Graduate    36282\n",
       "Dropout     25296\n",
       "Enrolled    14940\n",
       "Name: Target, dtype: int64"
      ]
     },
     "execution_count": 9,
     "metadata": {},
     "output_type": "execute_result"
    }
   ],
   "source": [
    "train_data[\"Target\"].value_counts()"
   ]
  },
  {
   "cell_type": "code",
   "execution_count": 10,
   "id": "2023bb36-5131-447c-a8ed-fb246f4659fd",
   "metadata": {},
   "outputs": [
    {
     "data": {
      "image/png": "[encoded data removed]",
      "text/plain": [
       "<Figure size 360x360 with 1 Axes>"
      ]
     },
     "metadata": {},
     "output_type": "display_data"
    }
   ],
   "source": [
    "# Pie chart for Target distribution\n",
    "train_data['Target'].value_counts().plot.pie(autopct=\"%.0f%%\", labels=train_data['Target'].value_counts().index, figsize=(5, 5), startangle=90)\n",
    "plt.title('Academic Success Distribution')\n",
    "plt.axis('off')  \n",
    "plt.show()\n"
   ]
  },
  {
   "cell_type": "code",
   "execution_count": 11,
   "id": "e214bc11-e780-4eb7-a9a5-20d36cbe2f34",
   "metadata": {},
   "outputs": [],
   "source": [
    "### splitting Numerical and Categorical Columns\n",
    "train_num_df =train_data[[\"Admission grade\", \"Previous qualification (grade)\",\"Curricular units 1st sem (credited)\",\n",
    "                          \"Curricular units 1st sem (enrolled)\", \"Curricular units 1st sem (evaluations)\",\n",
    "                          \"Curricular units 1st sem (approved)\", \"Curricular units 1st sem (grade)\",\n",
    "                          \"Curricular units 1st sem (without evaluations)\", \"Curricular units 2nd sem (credited)\",\n",
    "                          \"Curricular units 2nd sem (enrolled)\", \"Curricular units 2nd sem (evaluations)\",\n",
    "                          \"Curricular units 2nd sem (approved)\", \"Curricular units 2nd sem (grade)\",\n",
    "                          \"Curricular units 2nd sem (without evaluations)\", \"Unemployment rate\", \n",
    "                          \"Inflation rate\", \"GDP\", \"Age at enrollment\"]]\n",
    "train_cat_df = train_data[[\"Marital status\", \"Application mode\", \"Application order\", \"Course\", \n",
    "                           \"Daytime/evening attendance\", \"Previous qualification\", \"Nacionality\", \n",
    "                           \"Mother's qualification\", \"Father's qualification\", \"Mother's occupation\", \n",
    "                           \"Father's occupation\", \"Displaced\",\"Educational special needs\", \"Debtor\", \n",
    "                           \"Tuition fees up to date\", \"Gender\", \"Scholarship holder\",\"International\",\"Target\"]]"
   ]
  },
  {
   "cell_type": "code",
   "execution_count": 12,
   "id": "ee449bdd-c307-42c7-b5e7-5b4c094c4098",
   "metadata": {},
   "outputs": [
    {
     "name": "stdout",
     "output_type": "stream",
     "text": [
      "Numerical columns are\n",
      "['Admission grade', 'Previous qualification (grade)', 'Curricular units 1st sem (credited)', 'Curricular units 1st sem (enrolled)', 'Curricular units 1st sem (evaluations)', 'Curricular units 1st sem (approved)', 'Curricular units 1st sem (grade)', 'Curricular units 1st sem (without evaluations)', 'Curricular units 2nd sem (credited)', 'Curricular units 2nd sem (enrolled)', 'Curricular units 2nd sem (evaluations)', 'Curricular units 2nd sem (approved)', 'Curricular units 2nd sem (grade)', 'Curricular units 2nd sem (without evaluations)', 'Unemployment rate', 'Inflation rate', 'GDP', 'Age at enrollment']\n"
     ]
    }
   ],
   "source": [
    "print (\"Numerical columns are\")\n",
    "num_cols = train_num_df.columns.tolist()\n",
    "print(num_cols)"
   ]
  },
  {
   "cell_type": "code",
   "execution_count": 13,
   "id": "dddcb524-9adc-4819-86c9-ecd2e8cff390",
   "metadata": {},
   "outputs": [
    {
     "name": "stdout",
     "output_type": "stream",
     "text": [
      "Categorical columns are\n",
      "['Marital status', 'Application mode', 'Application order', 'Course', 'Daytime/evening attendance', 'Previous qualification', 'Nacionality', \"Mother's qualification\", \"Father's qualification\", \"Mother's occupation\", \"Father's occupation\", 'Displaced', 'Educational special needs', 'Debtor', 'Tuition fees up to date', 'Gender', 'Scholarship holder', 'International', 'Target']\n"
     ]
    }
   ],
   "source": [
    "print (\"Categorical columns are\")\n",
    "cat_cols = train_cat_df.columns.tolist()\n",
    "print(cat_cols)"
   ]
  },
  {
   "cell_type": "code",
   "execution_count": 14,
   "id": "5c3d4caa-dbaf-47c7-b1ce-e30556e8ff1d",
   "metadata": {},
   "outputs": [
    {
     "data": {
      "image/png": "[encoded data removed]",
      "text/plain": [
       "<Figure size 1080x720 with 2 Axes>"
      ]
     },
     "metadata": {
      "needs_background": "light"
     },
     "output_type": "display_data"
    }
   ],
   "source": [
    "#plotting correlation matrix of numerical variables\n",
    "corr_matrix = train_num_df.corr()\n",
    "plt.figure(figsize=(15, 10))\n",
    "sns.heatmap(corr_matrix, annot=True, cmap='viridis', vmin=-1, vmax=1)\n",
    "plt.title('Correlation Matrix')\n",
    "plt.show()"
   ]
  },
  {
   "cell_type": "code",
   "execution_count": 15,
   "id": "695b3b26-aaab-4bc2-ba5c-3fe3a1b8ab03",
   "metadata": {},
   "outputs": [
    {
     "data": {
      "image/png": "[encoded data removed]",
      "text/plain": [
       "<Figure size 720x360 with 1 Axes>"
      ]
     },
     "metadata": {
      "needs_background": "light"
     },
     "output_type": "display_data"
    }
   ],
   "source": [
    "plt.figure(figsize=(10, 5))\n",
    "sns.countplot(data=train_data, x='Gender', hue='Target')\n",
    "plt.title('Gender Distribution by Target')\n",
    "plt.xticks(ticks=[0, 1], labels=['0 – Female', '1 – Male'])\n",
    "plt.show()"
   ]
  },
  {
   "cell_type": "code",
   "execution_count": 16,
   "id": "ff084697-448f-4768-9e6f-edc941e00a0a",
   "metadata": {},
   "outputs": [],
   "source": [
    "# Here(1 – male , 0 – female)"
   ]
  },
  {
   "cell_type": "markdown",
   "id": "afc9773a-9fa2-493a-bb4a-22b40508b025",
   "metadata": {},
   "source": [
    "# Data Pre-processing on Train data"
   ]
  },
  {
   "cell_type": "code",
   "execution_count": 17,
   "id": "a73a7f4a-9fd8-4546-a93c-1cad7c1aa191",
   "metadata": {},
   "outputs": [
    {
     "data": {
      "text/html": [
       "<div>\n",
       "<style scoped>\n",
       "    .dataframe tbody tr th:only-of-type {\n",
       "        vertical-align: middle;\n",
       "    }\n",
       "\n",
       "    .dataframe tbody tr th {\n",
       "        vertical-align: top;\n",
       "    }\n",
       "\n",
       "    .dataframe thead th {\n",
       "        text-align: right;\n",
       "    }\n",
       "</style>\n",
       "<table border=\"1\" class=\"dataframe\">\n",
       "  <thead>\n",
       "    <tr style=\"text-align: right;\">\n",
       "      <th></th>\n",
       "      <th>id</th>\n",
       "      <th>Marital status</th>\n",
       "      <th>Application mode</th>\n",
       "      <th>Application order</th>\n",
       "      <th>Course</th>\n",
       "      <th>Daytime/evening attendance</th>\n",
       "      <th>Previous qualification</th>\n",
       "      <th>Previous qualification (grade)</th>\n",
       "      <th>Nacionality</th>\n",
       "      <th>Mother's qualification</th>\n",
       "      <th>...</th>\n",
       "      <th>Curricular units 2nd sem (credited)</th>\n",
       "      <th>Curricular units 2nd sem (enrolled)</th>\n",
       "      <th>Curricular units 2nd sem (evaluations)</th>\n",
       "      <th>Curricular units 2nd sem (approved)</th>\n",
       "      <th>Curricular units 2nd sem (grade)</th>\n",
       "      <th>Curricular units 2nd sem (without evaluations)</th>\n",
       "      <th>Unemployment rate</th>\n",
       "      <th>Inflation rate</th>\n",
       "      <th>GDP</th>\n",
       "      <th>Target</th>\n",
       "    </tr>\n",
       "  </thead>\n",
       "  <tbody>\n",
       "    <tr>\n",
       "      <th>0</th>\n",
       "      <td>0</td>\n",
       "      <td>1</td>\n",
       "      <td>1</td>\n",
       "      <td>1</td>\n",
       "      <td>9238</td>\n",
       "      <td>1</td>\n",
       "      <td>1</td>\n",
       "      <td>126.0</td>\n",
       "      <td>1</td>\n",
       "      <td>1</td>\n",
       "      <td>...</td>\n",
       "      <td>0</td>\n",
       "      <td>6</td>\n",
       "      <td>7</td>\n",
       "      <td>6</td>\n",
       "      <td>12.428571</td>\n",
       "      <td>0</td>\n",
       "      <td>11.1</td>\n",
       "      <td>0.6</td>\n",
       "      <td>2.02</td>\n",
       "      <td>Graduate</td>\n",
       "    </tr>\n",
       "    <tr>\n",
       "      <th>1</th>\n",
       "      <td>1</td>\n",
       "      <td>1</td>\n",
       "      <td>17</td>\n",
       "      <td>1</td>\n",
       "      <td>9238</td>\n",
       "      <td>1</td>\n",
       "      <td>1</td>\n",
       "      <td>125.0</td>\n",
       "      <td>1</td>\n",
       "      <td>19</td>\n",
       "      <td>...</td>\n",
       "      <td>0</td>\n",
       "      <td>6</td>\n",
       "      <td>9</td>\n",
       "      <td>0</td>\n",
       "      <td>0.000000</td>\n",
       "      <td>0</td>\n",
       "      <td>11.1</td>\n",
       "      <td>0.6</td>\n",
       "      <td>2.02</td>\n",
       "      <td>Dropout</td>\n",
       "    </tr>\n",
       "    <tr>\n",
       "      <th>2</th>\n",
       "      <td>2</td>\n",
       "      <td>1</td>\n",
       "      <td>17</td>\n",
       "      <td>2</td>\n",
       "      <td>9254</td>\n",
       "      <td>1</td>\n",
       "      <td>1</td>\n",
       "      <td>137.0</td>\n",
       "      <td>1</td>\n",
       "      <td>3</td>\n",
       "      <td>...</td>\n",
       "      <td>0</td>\n",
       "      <td>6</td>\n",
       "      <td>0</td>\n",
       "      <td>0</td>\n",
       "      <td>0.000000</td>\n",
       "      <td>0</td>\n",
       "      <td>16.2</td>\n",
       "      <td>0.3</td>\n",
       "      <td>-0.92</td>\n",
       "      <td>Dropout</td>\n",
       "    </tr>\n",
       "    <tr>\n",
       "      <th>3</th>\n",
       "      <td>3</td>\n",
       "      <td>1</td>\n",
       "      <td>1</td>\n",
       "      <td>3</td>\n",
       "      <td>9500</td>\n",
       "      <td>1</td>\n",
       "      <td>1</td>\n",
       "      <td>131.0</td>\n",
       "      <td>1</td>\n",
       "      <td>19</td>\n",
       "      <td>...</td>\n",
       "      <td>0</td>\n",
       "      <td>8</td>\n",
       "      <td>11</td>\n",
       "      <td>7</td>\n",
       "      <td>12.820000</td>\n",
       "      <td>0</td>\n",
       "      <td>11.1</td>\n",
       "      <td>0.6</td>\n",
       "      <td>2.02</td>\n",
       "      <td>Enrolled</td>\n",
       "    </tr>\n",
       "    <tr>\n",
       "      <th>4</th>\n",
       "      <td>4</td>\n",
       "      <td>1</td>\n",
       "      <td>1</td>\n",
       "      <td>2</td>\n",
       "      <td>9500</td>\n",
       "      <td>1</td>\n",
       "      <td>1</td>\n",
       "      <td>132.0</td>\n",
       "      <td>1</td>\n",
       "      <td>19</td>\n",
       "      <td>...</td>\n",
       "      <td>0</td>\n",
       "      <td>7</td>\n",
       "      <td>12</td>\n",
       "      <td>6</td>\n",
       "      <td>12.933333</td>\n",
       "      <td>0</td>\n",
       "      <td>7.6</td>\n",
       "      <td>2.6</td>\n",
       "      <td>0.32</td>\n",
       "      <td>Graduate</td>\n",
       "    </tr>\n",
       "  </tbody>\n",
       "</table>\n",
       "<p>5 rows × 38 columns</p>\n",
       "</div>"
      ],
      "text/plain": [
       "   id  Marital status  Application mode  Application order  Course  \\\n",
       "0   0               1                 1                  1    9238   \n",
       "1   1               1                17                  1    9238   \n",
       "2   2               1                17                  2    9254   \n",
       "3   3               1                 1                  3    9500   \n",
       "4   4               1                 1                  2    9500   \n",
       "\n",
       "   Daytime/evening attendance  Previous qualification  \\\n",
       "0                           1                       1   \n",
       "1                           1                       1   \n",
       "2                           1                       1   \n",
       "3                           1                       1   \n",
       "4                           1                       1   \n",
       "\n",
       "   Previous qualification (grade)  Nacionality  Mother's qualification  ...  \\\n",
       "0                           126.0            1                       1  ...   \n",
       "1                           125.0            1                      19  ...   \n",
       "2                           137.0            1                       3  ...   \n",
       "3                           131.0            1                      19  ...   \n",
       "4                           132.0            1                      19  ...   \n",
       "\n",
       "   Curricular units 2nd sem (credited)  Curricular units 2nd sem (enrolled)  \\\n",
       "0                                    0                                    6   \n",
       "1                                    0                                    6   \n",
       "2                                    0                                    6   \n",
       "3                                    0                                    8   \n",
       "4                                    0                                    7   \n",
       "\n",
       "   Curricular units 2nd sem (evaluations)  \\\n",
       "0                                       7   \n",
       "1                                       9   \n",
       "2                                       0   \n",
       "3                                      11   \n",
       "4                                      12   \n",
       "\n",
       "   Curricular units 2nd sem (approved)  Curricular units 2nd sem (grade)  \\\n",
       "0                                    6                         12.428571   \n",
       "1                                    0                          0.000000   \n",
       "2                                    0                          0.000000   \n",
       "3                                    7                         12.820000   \n",
       "4                                    6                         12.933333   \n",
       "\n",
       "   Curricular units 2nd sem (without evaluations)  Unemployment rate  \\\n",
       "0                                               0               11.1   \n",
       "1                                               0               11.1   \n",
       "2                                               0               16.2   \n",
       "3                                               0               11.1   \n",
       "4                                               0                7.6   \n",
       "\n",
       "   Inflation rate   GDP    Target  \n",
       "0             0.6  2.02  Graduate  \n",
       "1             0.6  2.02   Dropout  \n",
       "2             0.3 -0.92   Dropout  \n",
       "3             0.6  2.02  Enrolled  \n",
       "4             2.6  0.32  Graduate  \n",
       "\n",
       "[5 rows x 38 columns]"
      ]
     },
     "execution_count": 17,
     "metadata": {},
     "output_type": "execute_result"
    }
   ],
   "source": [
    "train_data.head()"
   ]
  },
  {
   "cell_type": "markdown",
   "id": "5252529f-651a-44b2-9faf-86ada509afc9",
   "metadata": {},
   "source": [
    "#### Checking Duplicates"
   ]
  },
  {
   "cell_type": "code",
   "execution_count": 18,
   "id": "46e5f52c-7b6d-4dc6-8eea-663a7b0e65a7",
   "metadata": {},
   "outputs": [
    {
     "data": {
      "text/plain": [
       "0"
      ]
     },
     "execution_count": 18,
     "metadata": {},
     "output_type": "execute_result"
    }
   ],
   "source": [
    "train_data.duplicated().sum()          #checking duplicated rows"
   ]
  },
  {
   "cell_type": "code",
   "execution_count": 19,
   "id": "23589fb9-e69b-4ef5-a948-e5109ab21b62",
   "metadata": {},
   "outputs": [
    {
     "data": {
      "text/plain": [
       "0"
      ]
     },
     "execution_count": 19,
     "metadata": {},
     "output_type": "execute_result"
    }
   ],
   "source": [
    "train_data.columns.duplicated().sum()   #checking duplicated rows"
   ]
  },
  {
   "cell_type": "markdown",
   "id": "9b9da0c2-ae77-444c-850a-6e6b6b0df37e",
   "metadata": {},
   "source": [
    "#### Checking missing values"
   ]
  },
  {
   "cell_type": "code",
   "execution_count": 20,
   "id": "ec36b39b-40fb-4d7c-9d2b-dd7a4d0d9c31",
   "metadata": {},
   "outputs": [
    {
     "data": {
      "text/plain": [
       "id                                                0\n",
       "Marital status                                    0\n",
       "Application mode                                  0\n",
       "Application order                                 0\n",
       "Course                                            0\n",
       "Daytime/evening attendance                        0\n",
       "Previous qualification                            0\n",
       "Previous qualification (grade)                    0\n",
       "Nacionality                                       0\n",
       "Mother's qualification                            0\n",
       "Father's qualification                            0\n",
       "Mother's occupation                               0\n",
       "Father's occupation                               0\n",
       "Admission grade                                   0\n",
       "Displaced                                         0\n",
       "Educational special needs                         0\n",
       "Debtor                                            0\n",
       "Tuition fees up to date                           0\n",
       "Gender                                            0\n",
       "Scholarship holder                                0\n",
       "Age at enrollment                                 0\n",
       "International                                     0\n",
       "Curricular units 1st sem (credited)               0\n",
       "Curricular units 1st sem (enrolled)               0\n",
       "Curricular units 1st sem (evaluations)            0\n",
       "Curricular units 1st sem (approved)               0\n",
       "Curricular units 1st sem (grade)                  0\n",
       "Curricular units 1st sem (without evaluations)    0\n",
       "Curricular units 2nd sem (credited)               0\n",
       "Curricular units 2nd sem (enrolled)               0\n",
       "Curricular units 2nd sem (evaluations)            0\n",
       "Curricular units 2nd sem (approved)               0\n",
       "Curricular units 2nd sem (grade)                  0\n",
       "Curricular units 2nd sem (without evaluations)    0\n",
       "Unemployment rate                                 0\n",
       "Inflation rate                                    0\n",
       "GDP                                               0\n",
       "Target                                            0\n",
       "dtype: int64"
      ]
     },
     "execution_count": 20,
     "metadata": {},
     "output_type": "execute_result"
    }
   ],
   "source": [
    "train_data.isna().sum()"
   ]
  },
  {
   "cell_type": "markdown",
   "id": "cbdb51f4-cff1-4c09-9772-0d4fef226958",
   "metadata": {},
   "source": [
    "*No missing values in the dataset*"
   ]
  },
  {
   "cell_type": "markdown",
   "id": "74de0c43-12d2-4d41-8661-f49f9b4f9a79",
   "metadata": {},
   "source": [
    "#### Dropping unwanted columns"
   ]
  },
  {
   "cell_type": "code",
   "execution_count": 21,
   "id": "830e9c07-6476-441b-b959-1ae946f0db99",
   "metadata": {},
   "outputs": [],
   "source": [
    "train_data.drop(\"id\", axis = 1, inplace = True)"
   ]
  },
  {
   "cell_type": "markdown",
   "id": "a9d4dd65-40ae-47bc-8bf1-3e48bf45503b",
   "metadata": {},
   "source": [
    "#### Encoding Categorical Variables"
   ]
  },
  {
   "cell_type": "code",
   "execution_count": 22,
   "id": "bffdcbd2-8e6b-4029-b3dd-447e2260032b",
   "metadata": {},
   "outputs": [],
   "source": [
    "label_enc = LabelEncoder()"
   ]
  },
  {
   "cell_type": "code",
   "execution_count": 23,
   "id": "9db9432e-b846-4a89-ad94-d3cf727ba3e7",
   "metadata": {},
   "outputs": [],
   "source": [
    "\n",
    "train_data[\"Target\"] = label_enc.fit_transform(train_data[\"Target\"])"
   ]
  },
  {
   "cell_type": "code",
   "execution_count": 24,
   "id": "90cb1182-0298-4e47-844b-64345bc58794",
   "metadata": {},
   "outputs": [
    {
     "data": {
      "text/html": [
       "<div>\n",
       "<style scoped>\n",
       "    .dataframe tbody tr th:only-of-type {\n",
       "        vertical-align: middle;\n",
       "    }\n",
       "\n",
       "    .dataframe tbody tr th {\n",
       "        vertical-align: top;\n",
       "    }\n",
       "\n",
       "    .dataframe thead th {\n",
       "        text-align: right;\n",
       "    }\n",
       "</style>\n",
       "<table border=\"1\" class=\"dataframe\">\n",
       "  <thead>\n",
       "    <tr style=\"text-align: right;\">\n",
       "      <th></th>\n",
       "      <th>Marital status</th>\n",
       "      <th>Application mode</th>\n",
       "      <th>Application order</th>\n",
       "      <th>Course</th>\n",
       "      <th>Daytime/evening attendance</th>\n",
       "      <th>Previous qualification</th>\n",
       "      <th>Previous qualification (grade)</th>\n",
       "      <th>Nacionality</th>\n",
       "      <th>Mother's qualification</th>\n",
       "      <th>Father's qualification</th>\n",
       "      <th>...</th>\n",
       "      <th>Curricular units 2nd sem (credited)</th>\n",
       "      <th>Curricular units 2nd sem (enrolled)</th>\n",
       "      <th>Curricular units 2nd sem (evaluations)</th>\n",
       "      <th>Curricular units 2nd sem (approved)</th>\n",
       "      <th>Curricular units 2nd sem (grade)</th>\n",
       "      <th>Curricular units 2nd sem (without evaluations)</th>\n",
       "      <th>Unemployment rate</th>\n",
       "      <th>Inflation rate</th>\n",
       "      <th>GDP</th>\n",
       "      <th>Target</th>\n",
       "    </tr>\n",
       "  </thead>\n",
       "  <tbody>\n",
       "    <tr>\n",
       "      <th>0</th>\n",
       "      <td>1</td>\n",
       "      <td>1</td>\n",
       "      <td>1</td>\n",
       "      <td>9238</td>\n",
       "      <td>1</td>\n",
       "      <td>1</td>\n",
       "      <td>126.0</td>\n",
       "      <td>1</td>\n",
       "      <td>1</td>\n",
       "      <td>19</td>\n",
       "      <td>...</td>\n",
       "      <td>0</td>\n",
       "      <td>6</td>\n",
       "      <td>7</td>\n",
       "      <td>6</td>\n",
       "      <td>12.428571</td>\n",
       "      <td>0</td>\n",
       "      <td>11.1</td>\n",
       "      <td>0.6</td>\n",
       "      <td>2.02</td>\n",
       "      <td>2</td>\n",
       "    </tr>\n",
       "    <tr>\n",
       "      <th>1</th>\n",
       "      <td>1</td>\n",
       "      <td>17</td>\n",
       "      <td>1</td>\n",
       "      <td>9238</td>\n",
       "      <td>1</td>\n",
       "      <td>1</td>\n",
       "      <td>125.0</td>\n",
       "      <td>1</td>\n",
       "      <td>19</td>\n",
       "      <td>19</td>\n",
       "      <td>...</td>\n",
       "      <td>0</td>\n",
       "      <td>6</td>\n",
       "      <td>9</td>\n",
       "      <td>0</td>\n",
       "      <td>0.000000</td>\n",
       "      <td>0</td>\n",
       "      <td>11.1</td>\n",
       "      <td>0.6</td>\n",
       "      <td>2.02</td>\n",
       "      <td>0</td>\n",
       "    </tr>\n",
       "    <tr>\n",
       "      <th>2</th>\n",
       "      <td>1</td>\n",
       "      <td>17</td>\n",
       "      <td>2</td>\n",
       "      <td>9254</td>\n",
       "      <td>1</td>\n",
       "      <td>1</td>\n",
       "      <td>137.0</td>\n",
       "      <td>1</td>\n",
       "      <td>3</td>\n",
       "      <td>19</td>\n",
       "      <td>...</td>\n",
       "      <td>0</td>\n",
       "      <td>6</td>\n",
       "      <td>0</td>\n",
       "      <td>0</td>\n",
       "      <td>0.000000</td>\n",
       "      <td>0</td>\n",
       "      <td>16.2</td>\n",
       "      <td>0.3</td>\n",
       "      <td>-0.92</td>\n",
       "      <td>0</td>\n",
       "    </tr>\n",
       "  </tbody>\n",
       "</table>\n",
       "<p>3 rows × 37 columns</p>\n",
       "</div>"
      ],
      "text/plain": [
       "   Marital status  Application mode  Application order  Course  \\\n",
       "0               1                 1                  1    9238   \n",
       "1               1                17                  1    9238   \n",
       "2               1                17                  2    9254   \n",
       "\n",
       "   Daytime/evening attendance  Previous qualification  \\\n",
       "0                           1                       1   \n",
       "1                           1                       1   \n",
       "2                           1                       1   \n",
       "\n",
       "   Previous qualification (grade)  Nacionality  Mother's qualification  \\\n",
       "0                           126.0            1                       1   \n",
       "1                           125.0            1                      19   \n",
       "2                           137.0            1                       3   \n",
       "\n",
       "   Father's qualification  ...  Curricular units 2nd sem (credited)  \\\n",
       "0                      19  ...                                    0   \n",
       "1                      19  ...                                    0   \n",
       "2                      19  ...                                    0   \n",
       "\n",
       "   Curricular units 2nd sem (enrolled)  \\\n",
       "0                                    6   \n",
       "1                                    6   \n",
       "2                                    6   \n",
       "\n",
       "   Curricular units 2nd sem (evaluations)  \\\n",
       "0                                       7   \n",
       "1                                       9   \n",
       "2                                       0   \n",
       "\n",
       "   Curricular units 2nd sem (approved)  Curricular units 2nd sem (grade)  \\\n",
       "0                                    6                         12.428571   \n",
       "1                                    0                          0.000000   \n",
       "2                                    0                          0.000000   \n",
       "\n",
       "   Curricular units 2nd sem (without evaluations)  Unemployment rate  \\\n",
       "0                                               0               11.1   \n",
       "1                                               0               11.1   \n",
       "2                                               0               16.2   \n",
       "\n",
       "   Inflation rate   GDP  Target  \n",
       "0             0.6  2.02       2  \n",
       "1             0.6  2.02       0  \n",
       "2             0.3 -0.92       0  \n",
       "\n",
       "[3 rows x 37 columns]"
      ]
     },
     "execution_count": 24,
     "metadata": {},
     "output_type": "execute_result"
    }
   ],
   "source": [
    "train_data.head(3)"
   ]
  },
  {
   "cell_type": "code",
   "execution_count": 25,
   "id": "77d25e71-33f0-4b92-abf0-b1bbdf8c25f8",
   "metadata": {},
   "outputs": [
    {
     "name": "stdout",
     "output_type": "stream",
     "text": [
      "0 - Dropout\n",
      "1 - Enrolled\n",
      "2 - Graduate\n"
     ]
    }
   ],
   "source": [
    "#display the original values corresponding to the encoded labels\n",
    "for i, class_name in enumerate(label_enc.classes_):\n",
    "    print(f\"{i} - {class_name}\")"
   ]
  },
  {
   "cell_type": "markdown",
   "id": "5586b183-ff83-4e3a-bdf5-ab21c29dfa68",
   "metadata": {},
   "source": [
    "#### Outlier Handling"
   ]
  },
  {
   "cell_type": "code",
   "execution_count": 26,
   "id": "55d7a88c-a5fa-4d28-bf20-8af0b04a2486",
   "metadata": {},
   "outputs": [
    {
     "data": {
      "text/html": [
       "<div>\n",
       "<style scoped>\n",
       "    .dataframe tbody tr th:only-of-type {\n",
       "        vertical-align: middle;\n",
       "    }\n",
       "\n",
       "    .dataframe tbody tr th {\n",
       "        vertical-align: top;\n",
       "    }\n",
       "\n",
       "    .dataframe thead th {\n",
       "        text-align: right;\n",
       "    }\n",
       "</style>\n",
       "<table border=\"1\" class=\"dataframe\">\n",
       "  <thead>\n",
       "    <tr style=\"text-align: right;\">\n",
       "      <th></th>\n",
       "      <th>Admission grade</th>\n",
       "      <th>Previous qualification (grade)</th>\n",
       "      <th>Curricular units 1st sem (credited)</th>\n",
       "      <th>Curricular units 1st sem (enrolled)</th>\n",
       "      <th>Curricular units 1st sem (evaluations)</th>\n",
       "      <th>Curricular units 1st sem (approved)</th>\n",
       "      <th>Curricular units 1st sem (grade)</th>\n",
       "      <th>Curricular units 1st sem (without evaluations)</th>\n",
       "      <th>Curricular units 2nd sem (credited)</th>\n",
       "      <th>Curricular units 2nd sem (enrolled)</th>\n",
       "      <th>Curricular units 2nd sem (evaluations)</th>\n",
       "      <th>Curricular units 2nd sem (approved)</th>\n",
       "      <th>Curricular units 2nd sem (grade)</th>\n",
       "      <th>Curricular units 2nd sem (without evaluations)</th>\n",
       "      <th>Unemployment rate</th>\n",
       "      <th>Inflation rate</th>\n",
       "      <th>GDP</th>\n",
       "      <th>Age at enrollment</th>\n",
       "    </tr>\n",
       "  </thead>\n",
       "  <tbody>\n",
       "    <tr>\n",
       "      <th>0</th>\n",
       "      <td>122.6</td>\n",
       "      <td>126.0</td>\n",
       "      <td>0</td>\n",
       "      <td>6</td>\n",
       "      <td>6</td>\n",
       "      <td>6</td>\n",
       "      <td>14.5</td>\n",
       "      <td>0</td>\n",
       "      <td>0</td>\n",
       "      <td>6</td>\n",
       "      <td>7</td>\n",
       "      <td>6</td>\n",
       "      <td>12.428571</td>\n",
       "      <td>0</td>\n",
       "      <td>11.1</td>\n",
       "      <td>0.6</td>\n",
       "      <td>2.02</td>\n",
       "      <td>18</td>\n",
       "    </tr>\n",
       "    <tr>\n",
       "      <th>1</th>\n",
       "      <td>119.8</td>\n",
       "      <td>125.0</td>\n",
       "      <td>0</td>\n",
       "      <td>6</td>\n",
       "      <td>8</td>\n",
       "      <td>4</td>\n",
       "      <td>11.6</td>\n",
       "      <td>0</td>\n",
       "      <td>0</td>\n",
       "      <td>6</td>\n",
       "      <td>9</td>\n",
       "      <td>0</td>\n",
       "      <td>0.000000</td>\n",
       "      <td>0</td>\n",
       "      <td>11.1</td>\n",
       "      <td>0.6</td>\n",
       "      <td>2.02</td>\n",
       "      <td>18</td>\n",
       "    </tr>\n",
       "    <tr>\n",
       "      <th>2</th>\n",
       "      <td>144.7</td>\n",
       "      <td>137.0</td>\n",
       "      <td>0</td>\n",
       "      <td>6</td>\n",
       "      <td>0</td>\n",
       "      <td>0</td>\n",
       "      <td>0.0</td>\n",
       "      <td>0</td>\n",
       "      <td>0</td>\n",
       "      <td>6</td>\n",
       "      <td>0</td>\n",
       "      <td>0</td>\n",
       "      <td>0.000000</td>\n",
       "      <td>0</td>\n",
       "      <td>16.2</td>\n",
       "      <td>0.3</td>\n",
       "      <td>-0.92</td>\n",
       "      <td>18</td>\n",
       "    </tr>\n",
       "  </tbody>\n",
       "</table>\n",
       "</div>"
      ],
      "text/plain": [
       "   Admission grade  Previous qualification (grade)  \\\n",
       "0            122.6                           126.0   \n",
       "1            119.8                           125.0   \n",
       "2            144.7                           137.0   \n",
       "\n",
       "   Curricular units 1st sem (credited)  Curricular units 1st sem (enrolled)  \\\n",
       "0                                    0                                    6   \n",
       "1                                    0                                    6   \n",
       "2                                    0                                    6   \n",
       "\n",
       "   Curricular units 1st sem (evaluations)  \\\n",
       "0                                       6   \n",
       "1                                       8   \n",
       "2                                       0   \n",
       "\n",
       "   Curricular units 1st sem (approved)  Curricular units 1st sem (grade)  \\\n",
       "0                                    6                              14.5   \n",
       "1                                    4                              11.6   \n",
       "2                                    0                               0.0   \n",
       "\n",
       "   Curricular units 1st sem (without evaluations)  \\\n",
       "0                                               0   \n",
       "1                                               0   \n",
       "2                                               0   \n",
       "\n",
       "   Curricular units 2nd sem (credited)  Curricular units 2nd sem (enrolled)  \\\n",
       "0                                    0                                    6   \n",
       "1                                    0                                    6   \n",
       "2                                    0                                    6   \n",
       "\n",
       "   Curricular units 2nd sem (evaluations)  \\\n",
       "0                                       7   \n",
       "1                                       9   \n",
       "2                                       0   \n",
       "\n",
       "   Curricular units 2nd sem (approved)  Curricular units 2nd sem (grade)  \\\n",
       "0                                    6                         12.428571   \n",
       "1                                    0                          0.000000   \n",
       "2                                    0                          0.000000   \n",
       "\n",
       "   Curricular units 2nd sem (without evaluations)  Unemployment rate  \\\n",
       "0                                               0               11.1   \n",
       "1                                               0               11.1   \n",
       "2                                               0               16.2   \n",
       "\n",
       "   Inflation rate   GDP  Age at enrollment  \n",
       "0             0.6  2.02                 18  \n",
       "1             0.6  2.02                 18  \n",
       "2             0.3 -0.92                 18  "
      ]
     },
     "execution_count": 26,
     "metadata": {},
     "output_type": "execute_result"
    }
   ],
   "source": [
    "train_num_df.head(3)"
   ]
  },
  {
   "cell_type": "code",
   "execution_count": 27,
   "id": "ea02fa6b-79a9-4903-8da9-9be473509524",
   "metadata": {},
   "outputs": [
    {
     "data": {
      "image/png": "[encoded data removed]",
      "text/plain": [
       "<Figure size 720x720 with 1 Axes>"
      ]
     },
     "metadata": {
      "needs_background": "light"
     },
     "output_type": "display_data"
    }
   ],
   "source": [
    "train_num_df.boxplot(figsize=(10,10))\n",
    "#plt.xlim(-5, 250)\n",
    "plt.xticks(rotation = 90)\n",
    "plt.show()"
   ]
  },
  {
   "cell_type": "code",
   "execution_count": 28,
   "id": "71e2fc22-70e2-4a52-99a8-547242652275",
   "metadata": {},
   "outputs": [],
   "source": [
    "def remove_outliers(train_num_df, column_name):\n",
    "    q1 = train_num_df[column_name].quantile(0.25)\n",
    "    q3 = train_num_df[column_name].quantile(0.75)\n",
    "    iqr = q3- q1\n",
    "    upper_bound =q3+1.5*iqr\n",
    "    lower_bound =q1-1.5*iqr\n",
    "    train_num_df[column_name] = train_num_df [column_name].clip(upper = upper_bound)\n",
    "    train_num_df[column_name] = train_num_df [column_name].clip(lower = lower_bound)\n",
    "    return train_num_df[column_name]\n",
    "for col in num_cols:\n",
    "    train_num_df[col] = remove_outliers(train_num_df, col)"
   ]
  },
  {
   "cell_type": "code",
   "execution_count": 29,
   "id": "e411dd28-5fce-43a0-956c-a79d79726383",
   "metadata": {},
   "outputs": [
    {
     "data": {
      "image/png": "[encoded data removed]",
      "text/plain": [
       "<Figure size 720x576 with 1 Axes>"
      ]
     },
     "metadata": {
      "needs_background": "light"
     },
     "output_type": "display_data"
    }
   ],
   "source": [
    "train_num_df.boxplot(figsize=(10,8))\n",
    "plt.xticks(rotation = 90)\n",
    "plt.show()"
   ]
  },
  {
   "cell_type": "markdown",
   "id": "2d146cba-1835-4f79-a0ce-659c6a18d077",
   "metadata": {},
   "source": [
    "### Scaling Numerical Variables"
   ]
  },
  {
   "cell_type": "code",
   "execution_count": 30,
   "id": "dc65d20a-a213-44c5-8688-f2f0cfb40344",
   "metadata": {},
   "outputs": [
    {
     "data": {
      "image/png": "[encoded data removed]",
      "text/plain": [
       "<Figure size 1080x1080 with 20 Axes>"
      ]
     },
     "metadata": {
      "needs_background": "light"
     },
     "output_type": "display_data"
    }
   ],
   "source": [
    "train_num_df.hist(bins=20, figsize= (15,15))\n",
    "plt.show()"
   ]
  },
  {
   "cell_type": "code",
   "execution_count": 31,
   "id": "cefef0ce-3e7d-4ab3-9a0d-26b492a5f440",
   "metadata": {},
   "outputs": [
    {
     "name": "stdout",
     "output_type": "stream",
     "text": [
      "Scaling complete. Scaled data:\n"
     ]
    },
    {
     "data": {
      "text/html": [
       "<div>\n",
       "<style scoped>\n",
       "    .dataframe tbody tr th:only-of-type {\n",
       "        vertical-align: middle;\n",
       "    }\n",
       "\n",
       "    .dataframe tbody tr th {\n",
       "        vertical-align: top;\n",
       "    }\n",
       "\n",
       "    .dataframe thead th {\n",
       "        text-align: right;\n",
       "    }\n",
       "</style>\n",
       "<table border=\"1\" class=\"dataframe\">\n",
       "  <thead>\n",
       "    <tr style=\"text-align: right;\">\n",
       "      <th></th>\n",
       "      <th>Admission grade</th>\n",
       "      <th>Previous qualification (grade)</th>\n",
       "      <th>Curricular units 1st sem (credited)</th>\n",
       "      <th>Curricular units 1st sem (enrolled)</th>\n",
       "      <th>Curricular units 1st sem (evaluations)</th>\n",
       "      <th>Curricular units 1st sem (approved)</th>\n",
       "      <th>Curricular units 1st sem (grade)</th>\n",
       "      <th>Curricular units 1st sem (without evaluations)</th>\n",
       "      <th>Curricular units 2nd sem (credited)</th>\n",
       "      <th>Curricular units 2nd sem (enrolled)</th>\n",
       "      <th>Curricular units 2nd sem (evaluations)</th>\n",
       "      <th>Curricular units 2nd sem (approved)</th>\n",
       "      <th>Curricular units 2nd sem (grade)</th>\n",
       "      <th>Curricular units 2nd sem (without evaluations)</th>\n",
       "      <th>Unemployment rate</th>\n",
       "      <th>Inflation rate</th>\n",
       "      <th>GDP</th>\n",
       "      <th>Age at enrollment</th>\n",
       "    </tr>\n",
       "  </thead>\n",
       "  <tbody>\n",
       "    <tr>\n",
       "      <th>0</th>\n",
       "      <td>-0.215738</td>\n",
       "      <td>-0.590806</td>\n",
       "      <td>0.0</td>\n",
       "      <td>0.694718</td>\n",
       "      <td>0.585724</td>\n",
       "      <td>0.758654</td>\n",
       "      <td>1.165058</td>\n",
       "      <td>0.0</td>\n",
       "      <td>0.0</td>\n",
       "      <td>0.694718</td>\n",
       "      <td>0.661686</td>\n",
       "      <td>0.727675</td>\n",
       "      <td>0.456524</td>\n",
       "      <td>0.0</td>\n",
       "      <td>11.1</td>\n",
       "      <td>0.6</td>\n",
       "      <td>2.02</td>\n",
       "      <td>0.096615</td>\n",
       "    </tr>\n",
       "    <tr>\n",
       "      <th>1</th>\n",
       "      <td>-0.448160</td>\n",
       "      <td>-0.683827</td>\n",
       "      <td>0.0</td>\n",
       "      <td>0.694718</td>\n",
       "      <td>0.728690</td>\n",
       "      <td>0.627474</td>\n",
       "      <td>0.075607</td>\n",
       "      <td>0.0</td>\n",
       "      <td>0.0</td>\n",
       "      <td>0.694718</td>\n",
       "      <td>0.788627</td>\n",
       "      <td>0.000000</td>\n",
       "      <td>-1.674804</td>\n",
       "      <td>0.0</td>\n",
       "      <td>11.1</td>\n",
       "      <td>0.6</td>\n",
       "      <td>2.02</td>\n",
       "      <td>0.096615</td>\n",
       "    </tr>\n",
       "    <tr>\n",
       "      <th>2</th>\n",
       "      <td>1.618737</td>\n",
       "      <td>0.432424</td>\n",
       "      <td>0.0</td>\n",
       "      <td>0.694718</td>\n",
       "      <td>0.000000</td>\n",
       "      <td>0.000000</td>\n",
       "      <td>-1.766978</td>\n",
       "      <td>0.0</td>\n",
       "      <td>0.0</td>\n",
       "      <td>0.694718</td>\n",
       "      <td>0.000000</td>\n",
       "      <td>0.000000</td>\n",
       "      <td>-1.674804</td>\n",
       "      <td>0.0</td>\n",
       "      <td>16.2</td>\n",
       "      <td>0.3</td>\n",
       "      <td>-0.92</td>\n",
       "      <td>0.096615</td>\n",
       "    </tr>\n",
       "  </tbody>\n",
       "</table>\n",
       "</div>"
      ],
      "text/plain": [
       "   Admission grade  Previous qualification (grade)  \\\n",
       "0        -0.215738                       -0.590806   \n",
       "1        -0.448160                       -0.683827   \n",
       "2         1.618737                        0.432424   \n",
       "\n",
       "   Curricular units 1st sem (credited)  Curricular units 1st sem (enrolled)  \\\n",
       "0                                  0.0                             0.694718   \n",
       "1                                  0.0                             0.694718   \n",
       "2                                  0.0                             0.694718   \n",
       "\n",
       "   Curricular units 1st sem (evaluations)  \\\n",
       "0                                0.585724   \n",
       "1                                0.728690   \n",
       "2                                0.000000   \n",
       "\n",
       "   Curricular units 1st sem (approved)  Curricular units 1st sem (grade)  \\\n",
       "0                             0.758654                          1.165058   \n",
       "1                             0.627474                          0.075607   \n",
       "2                             0.000000                         -1.766978   \n",
       "\n",
       "   Curricular units 1st sem (without evaluations)  \\\n",
       "0                                             0.0   \n",
       "1                                             0.0   \n",
       "2                                             0.0   \n",
       "\n",
       "   Curricular units 2nd sem (credited)  Curricular units 2nd sem (enrolled)  \\\n",
       "0                                  0.0                             0.694718   \n",
       "1                                  0.0                             0.694718   \n",
       "2                                  0.0                             0.694718   \n",
       "\n",
       "   Curricular units 2nd sem (evaluations)  \\\n",
       "0                                0.661686   \n",
       "1                                0.788627   \n",
       "2                                0.000000   \n",
       "\n",
       "   Curricular units 2nd sem (approved)  Curricular units 2nd sem (grade)  \\\n",
       "0                             0.727675                          0.456524   \n",
       "1                             0.000000                         -1.674804   \n",
       "2                             0.000000                         -1.674804   \n",
       "\n",
       "   Curricular units 2nd sem (without evaluations)  Unemployment rate  \\\n",
       "0                                             0.0               11.1   \n",
       "1                                             0.0               11.1   \n",
       "2                                             0.0               16.2   \n",
       "\n",
       "   Inflation rate   GDP  Age at enrollment  \n",
       "0             0.6  2.02           0.096615  \n",
       "1             0.6  2.02           0.096615  \n",
       "2             0.3 -0.92           0.096615  "
      ]
     },
     "execution_count": 31,
     "metadata": {},
     "output_type": "execute_result"
    }
   ],
   "source": [
    "# Identify columns to scale\n",
    "right_skewed_cols = ['Curricular units 1st sem (enrolled)', 'Curricular units 1st sem (evaluations)','Curricular units 1st sem (approved)',\n",
    "                     'Curricular units 2nd sem (enrolled)', 'Curricular units 2nd sem (evaluations)', 'Curricular units 2nd sem (approved)',\n",
    "                    'Age at enrollment',]\n",
    "symmetric_cols = ['Admission grade', 'Previous qualification (grade)','Curricular units 1st sem (grade)','Curricular units 2nd sem (grade)']\n",
    "\n",
    "min_max_scaler = MinMaxScaler()\n",
    "standard_scaler = StandardScaler()\n",
    "\n",
    "# Apply log transformation for skewed columns to reduce skewness\n",
    "for col in right_skewed_cols:\n",
    "    train_num_df[col] = np.log1p(train_num_df[col])\n",
    "\n",
    "# Apply MinMaxScaler for skewed columns\n",
    "train_num_df[right_skewed_cols] = min_max_scaler.fit_transform(train_num_df[right_skewed_cols])\n",
    "\n",
    "# Apply StandardScaler for symmetric columns\n",
    "train_num_df[symmetric_cols] = standard_scaler.fit_transform(train_num_df[symmetric_cols])\n",
    "\n",
    "print(\"Scaling complete. Scaled data:\")\n",
    "train_num_df.head(3)\n",
    "\n"
   ]
  },
  {
   "cell_type": "code",
   "execution_count": 32,
   "id": "452b9d7d-86f7-45cc-9ec7-15457d153539",
   "metadata": {},
   "outputs": [],
   "source": [
    "train_cleaned = pd.concat([train_cat_df, train_num_df], axis=1) # combining scaled and encoded data frames"
   ]
  },
  {
   "cell_type": "code",
   "execution_count": 33,
   "id": "1c7bcc13-8f42-4ccd-ae22-c42e9eec383e",
   "metadata": {},
   "outputs": [
    {
     "data": {
      "text/html": [
       "<div>\n",
       "<style scoped>\n",
       "    .dataframe tbody tr th:only-of-type {\n",
       "        vertical-align: middle;\n",
       "    }\n",
       "\n",
       "    .dataframe tbody tr th {\n",
       "        vertical-align: top;\n",
       "    }\n",
       "\n",
       "    .dataframe thead th {\n",
       "        text-align: right;\n",
       "    }\n",
       "</style>\n",
       "<table border=\"1\" class=\"dataframe\">\n",
       "  <thead>\n",
       "    <tr style=\"text-align: right;\">\n",
       "      <th></th>\n",
       "      <th>Marital status</th>\n",
       "      <th>Application mode</th>\n",
       "      <th>Application order</th>\n",
       "      <th>Course</th>\n",
       "      <th>Daytime/evening attendance</th>\n",
       "      <th>Previous qualification</th>\n",
       "      <th>Nacionality</th>\n",
       "      <th>Mother's qualification</th>\n",
       "      <th>Father's qualification</th>\n",
       "      <th>Mother's occupation</th>\n",
       "      <th>...</th>\n",
       "      <th>Curricular units 2nd sem (credited)</th>\n",
       "      <th>Curricular units 2nd sem (enrolled)</th>\n",
       "      <th>Curricular units 2nd sem (evaluations)</th>\n",
       "      <th>Curricular units 2nd sem (approved)</th>\n",
       "      <th>Curricular units 2nd sem (grade)</th>\n",
       "      <th>Curricular units 2nd sem (without evaluations)</th>\n",
       "      <th>Unemployment rate</th>\n",
       "      <th>Inflation rate</th>\n",
       "      <th>GDP</th>\n",
       "      <th>Age at enrollment</th>\n",
       "    </tr>\n",
       "  </thead>\n",
       "  <tbody>\n",
       "    <tr>\n",
       "      <th>0</th>\n",
       "      <td>1</td>\n",
       "      <td>1</td>\n",
       "      <td>1</td>\n",
       "      <td>9238</td>\n",
       "      <td>1</td>\n",
       "      <td>1</td>\n",
       "      <td>1</td>\n",
       "      <td>1</td>\n",
       "      <td>19</td>\n",
       "      <td>5</td>\n",
       "      <td>...</td>\n",
       "      <td>0.0</td>\n",
       "      <td>0.694718</td>\n",
       "      <td>0.661686</td>\n",
       "      <td>0.727675</td>\n",
       "      <td>0.456524</td>\n",
       "      <td>0.0</td>\n",
       "      <td>11.1</td>\n",
       "      <td>0.6</td>\n",
       "      <td>2.02</td>\n",
       "      <td>0.096615</td>\n",
       "    </tr>\n",
       "    <tr>\n",
       "      <th>1</th>\n",
       "      <td>1</td>\n",
       "      <td>17</td>\n",
       "      <td>1</td>\n",
       "      <td>9238</td>\n",
       "      <td>1</td>\n",
       "      <td>1</td>\n",
       "      <td>1</td>\n",
       "      <td>19</td>\n",
       "      <td>19</td>\n",
       "      <td>9</td>\n",
       "      <td>...</td>\n",
       "      <td>0.0</td>\n",
       "      <td>0.694718</td>\n",
       "      <td>0.788627</td>\n",
       "      <td>0.000000</td>\n",
       "      <td>-1.674804</td>\n",
       "      <td>0.0</td>\n",
       "      <td>11.1</td>\n",
       "      <td>0.6</td>\n",
       "      <td>2.02</td>\n",
       "      <td>0.096615</td>\n",
       "    </tr>\n",
       "    <tr>\n",
       "      <th>2</th>\n",
       "      <td>1</td>\n",
       "      <td>17</td>\n",
       "      <td>2</td>\n",
       "      <td>9254</td>\n",
       "      <td>1</td>\n",
       "      <td>1</td>\n",
       "      <td>1</td>\n",
       "      <td>3</td>\n",
       "      <td>19</td>\n",
       "      <td>2</td>\n",
       "      <td>...</td>\n",
       "      <td>0.0</td>\n",
       "      <td>0.694718</td>\n",
       "      <td>0.000000</td>\n",
       "      <td>0.000000</td>\n",
       "      <td>-1.674804</td>\n",
       "      <td>0.0</td>\n",
       "      <td>16.2</td>\n",
       "      <td>0.3</td>\n",
       "      <td>-0.92</td>\n",
       "      <td>0.096615</td>\n",
       "    </tr>\n",
       "  </tbody>\n",
       "</table>\n",
       "<p>3 rows × 37 columns</p>\n",
       "</div>"
      ],
      "text/plain": [
       "   Marital status  Application mode  Application order  Course  \\\n",
       "0               1                 1                  1    9238   \n",
       "1               1                17                  1    9238   \n",
       "2               1                17                  2    9254   \n",
       "\n",
       "   Daytime/evening attendance  Previous qualification  Nacionality  \\\n",
       "0                           1                       1            1   \n",
       "1                           1                       1            1   \n",
       "2                           1                       1            1   \n",
       "\n",
       "   Mother's qualification  Father's qualification  Mother's occupation  ...  \\\n",
       "0                       1                      19                    5  ...   \n",
       "1                      19                      19                    9  ...   \n",
       "2                       3                      19                    2  ...   \n",
       "\n",
       "   Curricular units 2nd sem (credited)  Curricular units 2nd sem (enrolled)  \\\n",
       "0                                  0.0                             0.694718   \n",
       "1                                  0.0                             0.694718   \n",
       "2                                  0.0                             0.694718   \n",
       "\n",
       "   Curricular units 2nd sem (evaluations)  \\\n",
       "0                                0.661686   \n",
       "1                                0.788627   \n",
       "2                                0.000000   \n",
       "\n",
       "   Curricular units 2nd sem (approved)  Curricular units 2nd sem (grade)  \\\n",
       "0                             0.727675                          0.456524   \n",
       "1                             0.000000                         -1.674804   \n",
       "2                             0.000000                         -1.674804   \n",
       "\n",
       "   Curricular units 2nd sem (without evaluations)  Unemployment rate  \\\n",
       "0                                             0.0               11.1   \n",
       "1                                             0.0               11.1   \n",
       "2                                             0.0               16.2   \n",
       "\n",
       "   Inflation rate   GDP  Age at enrollment  \n",
       "0             0.6  2.02           0.096615  \n",
       "1             0.6  2.02           0.096615  \n",
       "2             0.3 -0.92           0.096615  \n",
       "\n",
       "[3 rows x 37 columns]"
      ]
     },
     "execution_count": 33,
     "metadata": {},
     "output_type": "execute_result"
    }
   ],
   "source": [
    "train_cleaned.head(3)"
   ]
  },
  {
   "cell_type": "markdown",
   "id": "42974b05-322a-473f-9d77-6dd7a5b89502",
   "metadata": {},
   "source": [
    "#### Checking Class Imbalance"
   ]
  },
  {
   "cell_type": "code",
   "execution_count": 34,
   "id": "8a4b3427-9d9f-43ac-8df7-5f8e5a19475d",
   "metadata": {},
   "outputs": [
    {
     "data": {
      "image/png": "[encoded data removed]",
      "text/plain": [
       "<Figure size 360x360 with 1 Axes>"
      ]
     },
     "metadata": {
      "needs_background": "light"
     },
     "output_type": "display_data"
    }
   ],
   "source": [
    "plt.figure(figsize=(5,5))\n",
    "sns.countplot(data= train_cleaned, x='Target', order =train_cleaned.Target.value_counts().index, palette='Set1')\n",
    "plt.show()"
   ]
  },
  {
   "cell_type": "markdown",
   "id": "6483bc87-0b05-4315-afa9-2d6daa2153f0",
   "metadata": {},
   "source": [
    " # Model  Building  & Evaluation"
   ]
  },
  {
   "cell_type": "code",
   "execution_count": 35,
   "id": "84a316ee-167c-49a1-acfa-2dd4334674bc",
   "metadata": {},
   "outputs": [],
   "source": [
    "#### Test-Train Split "
   ]
  },
  {
   "cell_type": "code",
   "execution_count": 36,
   "id": "a3bc7297-2555-4633-9295-e4d540afd490",
   "metadata": {},
   "outputs": [],
   "source": [
    "y = train_cleaned[\"Target\"]\n",
    "X = train_cleaned.drop(\"Target\",axis = 1)"
   ]
  },
  {
   "cell_type": "code",
   "execution_count": 37,
   "id": "3d10ed69-0f8c-4c36-9ab4-8a85a4752cea",
   "metadata": {},
   "outputs": [],
   "source": [
    "X_train,X_test,y_train,y_test = train_test_split(X,y,test_size = 0.2, random_state = 35)"
   ]
  },
  {
   "cell_type": "markdown",
   "id": "a958b9f7-9a37-4c87-8eb0-ef61b1492d15",
   "metadata": {},
   "source": [
    "## 1. Logistic Regression"
   ]
  },
  {
   "cell_type": "code",
   "execution_count": 38,
   "id": "be10092f-a70e-48c4-85e0-551b7a3bd1c8",
   "metadata": {},
   "outputs": [
    {
     "data": {
      "text/plain": [
       "LogisticRegression()"
      ]
     },
     "execution_count": 38,
     "metadata": {},
     "output_type": "execute_result"
    }
   ],
   "source": [
    "lr_model = LogisticRegression()\n",
    "lr_model.fit(X,y)"
   ]
  },
  {
   "cell_type": "code",
   "execution_count": 39,
   "id": "448b06cd-ebf9-41d8-af74-ff5cd06113ed",
   "metadata": {},
   "outputs": [],
   "source": [
    "lr_pred = lr_model.predict(X_test)"
   ]
  },
  {
   "cell_type": "code",
   "execution_count": 40,
   "id": "46c90984-a818-4d3b-a989-103ff8621eb5",
   "metadata": {},
   "outputs": [
    {
     "name": "stdout",
     "output_type": "stream",
     "text": [
      "Accuracy: 0.6199686356508103\n",
      "Precision: 0.564869688161315\n",
      "Recall: 0.6199686356508103\n",
      "F1 Score: 0.5572236495054828\n"
     ]
    }
   ],
   "source": [
    "print('Accuracy:', accuracy_score(y_test, lr_pred))\n",
    "print('Precision:', precision_score(y_test, lr_pred, average='weighted'))\n",
    "print('Recall:', recall_score(y_test, lr_pred, average='weighted'))\n",
    "print('F1 Score:', f1_score(y_test, lr_pred, average='weighted'))"
   ]
  },
  {
   "cell_type": "code",
   "execution_count": 41,
   "id": "bea16475-b456-441a-8a9e-8570b543eeaf",
   "metadata": {},
   "outputs": [
    {
     "name": "stdout",
     "output_type": "stream",
     "text": [
      "              precision    recall  f1-score   support\n",
      "\n",
      "     Dropout       0.67      0.60      0.63      5076\n",
      "    Enrolled       0.29      0.02      0.04      2978\n",
      "    Graduate       0.61      0.88      0.72      7250\n",
      "\n",
      "    accuracy                           0.62     15304\n",
      "   macro avg       0.52      0.50      0.46     15304\n",
      "weighted avg       0.56      0.62      0.56     15304\n",
      "\n"
     ]
    }
   ],
   "source": [
    "print(classification_report(y_test, lr_pred))"
   ]
  },
  {
   "cell_type": "code",
   "execution_count": 42,
   "id": "3c4811fe-a670-4d45-a5b0-8add3cc21ddb",
   "metadata": {},
   "outputs": [
    {
     "data": {
      "image/png": "[encoded data removed]",
      "text/plain": [
       "<Figure size 432x288 with 2 Axes>"
      ]
     },
     "metadata": {
      "needs_background": "light"
     },
     "output_type": "display_data"
    }
   ],
   "source": [
    "cm1= confusion_matrix(y_test,lr_pred)\n",
    "ax = sns.heatmap(cm1, annot=True, cmap='Blues',fmt=\".1f\")\n",
    "\n",
    "ax.set_title('Confusion Matrix of Logistic Regression')\n",
    "ax.set_xlabel('Predicted Values')\n",
    "ax.set_ylabel('Actual Values')\n",
    "plt.show()"
   ]
  },
  {
   "cell_type": "markdown",
   "id": "995b34ab-147c-4f89-b33e-699858c73182",
   "metadata": {},
   "source": [
    "## 2. KNN"
   ]
  },
  {
   "cell_type": "code",
   "execution_count": 43,
   "id": "406035d9-c8ce-4062-8d11-dae1f7f53b0b",
   "metadata": {},
   "outputs": [],
   "source": [
    "knn = KNeighborsClassifier(n_neighbors=10)\n",
    "knn.fit(X_train, y_train)\n",
    "knn_pred = knn.predict(X_test)"
   ]
  },
  {
   "cell_type": "code",
   "execution_count": 44,
   "id": "afc9982e-31d4-435a-9440-4f0269bf0560",
   "metadata": {},
   "outputs": [
    {
     "name": "stdout",
     "output_type": "stream",
     "text": [
      "accuracy: 0.6767511761630947\n",
      "precision: 0.6673660752163268\n",
      "recall: 0.6767511761630947\n",
      "f1_score: 0.6700411687361723\n"
     ]
    }
   ],
   "source": [
    "print('accuracy:',accuracy_score(y_test,knn_pred,))\n",
    "print('precision:',precision_score(y_test,knn_pred,average='weighted'))\n",
    "print('recall:',recall_score(y_test,knn_pred,average='weighted'))\n",
    "print('f1_score:',f1_score(y_test,knn_pred,average='weighted'))"
   ]
  },
  {
   "cell_type": "code",
   "execution_count": 45,
   "id": "808908e9-b28a-408b-8fd0-37c467a7d7f2",
   "metadata": {},
   "outputs": [
    {
     "name": "stdout",
     "output_type": "stream",
     "text": [
      "              precision    recall  f1-score   support\n",
      "\n",
      "     Dropout       0.73      0.69      0.71      5076\n",
      "    Enrolled       0.44      0.36      0.39      2978\n",
      "    Graduate       0.72      0.80      0.76      7250\n",
      "\n",
      "    accuracy                           0.68     15304\n",
      "   macro avg       0.63      0.62      0.62     15304\n",
      "weighted avg       0.67      0.68      0.67     15304\n",
      "\n"
     ]
    }
   ],
   "source": [
    "print(classification_report(y_test, knn_pred))"
   ]
  },
  {
   "cell_type": "code",
   "execution_count": 46,
   "id": "4496c20a-faa9-4fcf-8567-d182deca851f",
   "metadata": {},
   "outputs": [
    {
     "data": {
      "image/png": "[encoded data removed]",
      "text/plain": [
       "<Figure size 432x288 with 2 Axes>"
      ]
     },
     "metadata": {
      "needs_background": "light"
     },
     "output_type": "display_data"
    }
   ],
   "source": [
    "cm2 = confusion_matrix(y_test,knn_pred)\n",
    "ax = sns.heatmap(cm2, annot=True, cmap='Blues',fmt=\".1f\")\n",
    "\n",
    "ax.set_title('Confusion Matrix of KNN')\n",
    "ax.set_xlabel('Predicted Values')\n",
    "ax.set_ylabel('Actual Values')\n",
    "plt.show()"
   ]
  },
  {
   "cell_type": "markdown",
   "id": "46c8263e-dfbc-458a-af0c-f92bf2bf9789",
   "metadata": {},
   "source": [
    "## 3. Decision Tree"
   ]
  },
  {
   "cell_type": "code",
   "execution_count": 47,
   "id": "e3ac0e47-2591-4c5f-a2d7-b70d62084de5",
   "metadata": {},
   "outputs": [],
   "source": [
    "dt = DecisionTreeClassifier(random_state = 60)\n",
    "dt.fit(X_train, y_train)\n",
    "dt_pred = dt.predict(X_test)"
   ]
  },
  {
   "cell_type": "code",
   "execution_count": 48,
   "id": "2f0ef125-a1d6-43b1-9d82-4a8642481fab",
   "metadata": {},
   "outputs": [
    {
     "name": "stdout",
     "output_type": "stream",
     "text": [
      "accuracy: 0.7411787767903816\n",
      "precision: 0.7431169781588189\n",
      "recall: 0.7411787767903816\n",
      "f1_score: 0.7420815628470063\n"
     ]
    }
   ],
   "source": [
    "print('accuracy:',accuracy_score(y_test,dt_pred,))\n",
    "print('precision:',precision_score (y_test, dt_pred,average='weighted'))\n",
    "print('recall:',recall_score(y_test, dt_pred,average='weighted'))\n",
    "print('f1_score:',f1_score(y_test, dt_pred,average='weighted'))"
   ]
  },
  {
   "cell_type": "code",
   "execution_count": 49,
   "id": "a513f668-fbb1-4044-bfad-1f36bbaa3df7",
   "metadata": {},
   "outputs": [
    {
     "data": {
      "image/png": "[encoded data removed]",
      "text/plain": [
       "<Figure size 432x288 with 2 Axes>"
      ]
     },
     "metadata": {
      "needs_background": "light"
     },
     "output_type": "display_data"
    }
   ],
   "source": [
    "cm3 = confusion_matrix(y_test, dt_pred)\n",
    "ax = sns.heatmap(cm3, annot=True, cmap='Blues',fmt=\".1f\")\n",
    "\n",
    "ax.set_title('Confusion Matrix of Decision Tree')\n",
    "ax.set_xlabel('Predicted Values')\n",
    "ax.set_ylabel('Actual Values ')\n",
    "plt.show()"
   ]
  },
  {
   "cell_type": "markdown",
   "id": "0b725c2b-5127-4777-924e-ec534d040052",
   "metadata": {},
   "source": [
    "4. Random Forest"
   ]
  },
  {
   "cell_type": "code",
   "execution_count": 50,
   "id": "cdc53ecf-c6b0-46d7-a202-673267349e22",
   "metadata": {},
   "outputs": [],
   "source": [
    "rf = RandomForestClassifier(random_state = 60) \n",
    "rf.fit(X_train, y_train)\n",
    "rf_pred = rf.predict(X_test)"
   ]
  },
  {
   "cell_type": "code",
   "execution_count": 51,
   "id": "e37ca738-3ba0-4a13-bc7f-3cba08101450",
   "metadata": {},
   "outputs": [
    {
     "name": "stdout",
     "output_type": "stream",
     "text": [
      "accuracy: 0.8271693674856246\n",
      "precision: 0.8247124070632619\n",
      "recall: 0.8271693674856246\n",
      "f1_score: 0.8245323732224191\n"
     ]
    }
   ],
   "source": [
    "print('accuracy:',accuracy_score(y_test,rf_pred,))\n",
    "print('precision:',precision_score( y_test,rf_pred,average='weighted'))\n",
    "print('recall:',recall_score(y_test,rf_pred,average='weighted'))\n",
    "print('f1_score:',f1_score(y_test,rf_pred,average='weighted'))"
   ]
  },
  {
   "cell_type": "code",
   "execution_count": 52,
   "id": "eb3d2942-044f-4818-9f58-eba3728ff29e",
   "metadata": {},
   "outputs": [
    {
     "data": {
      "image/png": "[encoded data removed]",
      "text/plain": [
       "<Figure size 432x288 with 2 Axes>"
      ]
     },
     "metadata": {
      "needs_background": "light"
     },
     "output_type": "display_data"
    }
   ],
   "source": [
    "cm4 = confusion_matrix(y_test, rf_pred)\n",
    "ax = sns.heatmap(cm4, annot=True, cmap='Blues',fmt=\".1f\")\n",
    "\n",
    "ax.set_title('Confusion Matrix of Random Forest')\n",
    "ax.set_xlabel('Predicted Values')\n",
    "ax.set_ylabel('Actual Values')\n",
    "plt.show()"
   ]
  },
  {
   "cell_type": "markdown",
   "id": "f3fca457-93dd-4bd3-865e-d92476eefbac",
   "metadata": {},
   "source": [
    "### Insights\n",
    "- Random Forest classifier perform well with an accuracy score of 82.71%, precision of 82.47% , recall of 82.71% and f1 score of 82.45%.Thus it can be used to predict accademic status of students "
   ]
  },
  {
   "cell_type": "markdown",
   "id": "9ffe5989-05e5-41f0-a849-e71af57241d4",
   "metadata": {},
   "source": [
    "# Preprocessing on Test data"
   ]
  },
  {
   "cell_type": "code",
   "execution_count": 53,
   "id": "114d9447-9b27-40a1-a415-4870004a7d4c",
   "metadata": {},
   "outputs": [],
   "source": [
    "test_data =  pd.read_csv(\"C:\\\\Users\\\\Acer\\\\Downloads\\\\test.csv\\\\test.csv\")"
   ]
  },
  {
   "cell_type": "code",
   "execution_count": 54,
   "id": "39b1ad77-6eef-4db4-9975-9bf5ed55d178",
   "metadata": {},
   "outputs": [
    {
     "data": {
      "text/html": [
       "<div>\n",
       "<style scoped>\n",
       "    .dataframe tbody tr th:only-of-type {\n",
       "        vertical-align: middle;\n",
       "    }\n",
       "\n",
       "    .dataframe tbody tr th {\n",
       "        vertical-align: top;\n",
       "    }\n",
       "\n",
       "    .dataframe thead th {\n",
       "        text-align: right;\n",
       "    }\n",
       "</style>\n",
       "<table border=\"1\" class=\"dataframe\">\n",
       "  <thead>\n",
       "    <tr style=\"text-align: right;\">\n",
       "      <th></th>\n",
       "      <th>id</th>\n",
       "      <th>Marital status</th>\n",
       "      <th>Application mode</th>\n",
       "      <th>Application order</th>\n",
       "      <th>Course</th>\n",
       "      <th>Daytime/evening attendance</th>\n",
       "      <th>Previous qualification</th>\n",
       "      <th>Previous qualification (grade)</th>\n",
       "      <th>Nacionality</th>\n",
       "      <th>Mother's qualification</th>\n",
       "      <th>...</th>\n",
       "      <th>Curricular units 1st sem (without evaluations)</th>\n",
       "      <th>Curricular units 2nd sem (credited)</th>\n",
       "      <th>Curricular units 2nd sem (enrolled)</th>\n",
       "      <th>Curricular units 2nd sem (evaluations)</th>\n",
       "      <th>Curricular units 2nd sem (approved)</th>\n",
       "      <th>Curricular units 2nd sem (grade)</th>\n",
       "      <th>Curricular units 2nd sem (without evaluations)</th>\n",
       "      <th>Unemployment rate</th>\n",
       "      <th>Inflation rate</th>\n",
       "      <th>GDP</th>\n",
       "    </tr>\n",
       "  </thead>\n",
       "  <tbody>\n",
       "    <tr>\n",
       "      <th>0</th>\n",
       "      <td>76518</td>\n",
       "      <td>1</td>\n",
       "      <td>1</td>\n",
       "      <td>1</td>\n",
       "      <td>9500</td>\n",
       "      <td>1</td>\n",
       "      <td>1</td>\n",
       "      <td>141.0</td>\n",
       "      <td>1</td>\n",
       "      <td>3</td>\n",
       "      <td>...</td>\n",
       "      <td>0</td>\n",
       "      <td>0</td>\n",
       "      <td>8</td>\n",
       "      <td>0</td>\n",
       "      <td>0</td>\n",
       "      <td>0.000000</td>\n",
       "      <td>0</td>\n",
       "      <td>13.9</td>\n",
       "      <td>-0.3</td>\n",
       "      <td>0.79</td>\n",
       "    </tr>\n",
       "    <tr>\n",
       "      <th>1</th>\n",
       "      <td>76519</td>\n",
       "      <td>1</td>\n",
       "      <td>1</td>\n",
       "      <td>1</td>\n",
       "      <td>9238</td>\n",
       "      <td>1</td>\n",
       "      <td>1</td>\n",
       "      <td>128.0</td>\n",
       "      <td>1</td>\n",
       "      <td>1</td>\n",
       "      <td>...</td>\n",
       "      <td>0</td>\n",
       "      <td>0</td>\n",
       "      <td>6</td>\n",
       "      <td>6</td>\n",
       "      <td>6</td>\n",
       "      <td>13.500000</td>\n",
       "      <td>0</td>\n",
       "      <td>11.1</td>\n",
       "      <td>0.6</td>\n",
       "      <td>2.02</td>\n",
       "    </tr>\n",
       "    <tr>\n",
       "      <th>2</th>\n",
       "      <td>76520</td>\n",
       "      <td>1</td>\n",
       "      <td>1</td>\n",
       "      <td>1</td>\n",
       "      <td>9238</td>\n",
       "      <td>1</td>\n",
       "      <td>1</td>\n",
       "      <td>118.0</td>\n",
       "      <td>1</td>\n",
       "      <td>1</td>\n",
       "      <td>...</td>\n",
       "      <td>0</td>\n",
       "      <td>0</td>\n",
       "      <td>6</td>\n",
       "      <td>11</td>\n",
       "      <td>5</td>\n",
       "      <td>11.000000</td>\n",
       "      <td>0</td>\n",
       "      <td>15.5</td>\n",
       "      <td>2.8</td>\n",
       "      <td>-4.06</td>\n",
       "    </tr>\n",
       "    <tr>\n",
       "      <th>3</th>\n",
       "      <td>76521</td>\n",
       "      <td>1</td>\n",
       "      <td>44</td>\n",
       "      <td>1</td>\n",
       "      <td>9147</td>\n",
       "      <td>1</td>\n",
       "      <td>39</td>\n",
       "      <td>130.0</td>\n",
       "      <td>1</td>\n",
       "      <td>1</td>\n",
       "      <td>...</td>\n",
       "      <td>0</td>\n",
       "      <td>3</td>\n",
       "      <td>8</td>\n",
       "      <td>14</td>\n",
       "      <td>5</td>\n",
       "      <td>11.000000</td>\n",
       "      <td>0</td>\n",
       "      <td>8.9</td>\n",
       "      <td>1.4</td>\n",
       "      <td>3.51</td>\n",
       "    </tr>\n",
       "    <tr>\n",
       "      <th>4</th>\n",
       "      <td>76522</td>\n",
       "      <td>1</td>\n",
       "      <td>39</td>\n",
       "      <td>1</td>\n",
       "      <td>9670</td>\n",
       "      <td>1</td>\n",
       "      <td>1</td>\n",
       "      <td>110.0</td>\n",
       "      <td>1</td>\n",
       "      <td>1</td>\n",
       "      <td>...</td>\n",
       "      <td>0</td>\n",
       "      <td>0</td>\n",
       "      <td>6</td>\n",
       "      <td>9</td>\n",
       "      <td>4</td>\n",
       "      <td>10.666667</td>\n",
       "      <td>2</td>\n",
       "      <td>7.6</td>\n",
       "      <td>2.6</td>\n",
       "      <td>0.32</td>\n",
       "    </tr>\n",
       "  </tbody>\n",
       "</table>\n",
       "<p>5 rows × 37 columns</p>\n",
       "</div>"
      ],
      "text/plain": [
       "      id  Marital status  Application mode  Application order  Course  \\\n",
       "0  76518               1                 1                  1    9500   \n",
       "1  76519               1                 1                  1    9238   \n",
       "2  76520               1                 1                  1    9238   \n",
       "3  76521               1                44                  1    9147   \n",
       "4  76522               1                39                  1    9670   \n",
       "\n",
       "   Daytime/evening attendance  Previous qualification  \\\n",
       "0                           1                       1   \n",
       "1                           1                       1   \n",
       "2                           1                       1   \n",
       "3                           1                      39   \n",
       "4                           1                       1   \n",
       "\n",
       "   Previous qualification (grade)  Nacionality  Mother's qualification  ...  \\\n",
       "0                           141.0            1                       3  ...   \n",
       "1                           128.0            1                       1  ...   \n",
       "2                           118.0            1                       1  ...   \n",
       "3                           130.0            1                       1  ...   \n",
       "4                           110.0            1                       1  ...   \n",
       "\n",
       "   Curricular units 1st sem (without evaluations)  \\\n",
       "0                                               0   \n",
       "1                                               0   \n",
       "2                                               0   \n",
       "3                                               0   \n",
       "4                                               0   \n",
       "\n",
       "   Curricular units 2nd sem (credited)  Curricular units 2nd sem (enrolled)  \\\n",
       "0                                    0                                    8   \n",
       "1                                    0                                    6   \n",
       "2                                    0                                    6   \n",
       "3                                    3                                    8   \n",
       "4                                    0                                    6   \n",
       "\n",
       "   Curricular units 2nd sem (evaluations)  \\\n",
       "0                                       0   \n",
       "1                                       6   \n",
       "2                                      11   \n",
       "3                                      14   \n",
       "4                                       9   \n",
       "\n",
       "   Curricular units 2nd sem (approved)  Curricular units 2nd sem (grade)  \\\n",
       "0                                    0                          0.000000   \n",
       "1                                    6                         13.500000   \n",
       "2                                    5                         11.000000   \n",
       "3                                    5                         11.000000   \n",
       "4                                    4                         10.666667   \n",
       "\n",
       "   Curricular units 2nd sem (without evaluations)  Unemployment rate  \\\n",
       "0                                               0               13.9   \n",
       "1                                               0               11.1   \n",
       "2                                               0               15.5   \n",
       "3                                               0                8.9   \n",
       "4                                               2                7.6   \n",
       "\n",
       "   Inflation rate   GDP  \n",
       "0            -0.3  0.79  \n",
       "1             0.6  2.02  \n",
       "2             2.8 -4.06  \n",
       "3             1.4  3.51  \n",
       "4             2.6  0.32  \n",
       "\n",
       "[5 rows x 37 columns]"
      ]
     },
     "execution_count": 54,
     "metadata": {},
     "output_type": "execute_result"
    }
   ],
   "source": [
    "test_data.head()"
   ]
  },
  {
   "cell_type": "code",
   "execution_count": 55,
   "id": "a3d83e88-bd10-4444-9b4c-365833f97930",
   "metadata": {},
   "outputs": [
    {
     "name": "stdout",
     "output_type": "stream",
     "text": [
      "<class 'pandas.core.frame.DataFrame'>\n",
      "RangeIndex: 51012 entries, 0 to 51011\n",
      "Data columns (total 37 columns):\n",
      " #   Column                                          Non-Null Count  Dtype  \n",
      "---  ------                                          --------------  -----  \n",
      " 0   id                                              51012 non-null  int64  \n",
      " 1   Marital status                                  51012 non-null  int64  \n",
      " 2   Application mode                                51012 non-null  int64  \n",
      " 3   Application order                               51012 non-null  int64  \n",
      " 4   Course                                          51012 non-null  int64  \n",
      " 5   Daytime/evening attendance                      51012 non-null  int64  \n",
      " 6   Previous qualification                          51012 non-null  int64  \n",
      " 7   Previous qualification (grade)                  51012 non-null  float64\n",
      " 8   Nacionality                                     51012 non-null  int64  \n",
      " 9   Mother's qualification                          51012 non-null  int64  \n",
      " 10  Father's qualification                          51012 non-null  int64  \n",
      " 11  Mother's occupation                             51012 non-null  int64  \n",
      " 12  Father's occupation                             51012 non-null  int64  \n",
      " 13  Admission grade                                 51012 non-null  float64\n",
      " 14  Displaced                                       51012 non-null  int64  \n",
      " 15  Educational special needs                       51012 non-null  int64  \n",
      " 16  Debtor                                          51012 non-null  int64  \n",
      " 17  Tuition fees up to date                         51012 non-null  int64  \n",
      " 18  Gender                                          51012 non-null  int64  \n",
      " 19  Scholarship holder                              51012 non-null  int64  \n",
      " 20  Age at enrollment                               51012 non-null  int64  \n",
      " 21  International                                   51012 non-null  int64  \n",
      " 22  Curricular units 1st sem (credited)             51012 non-null  int64  \n",
      " 23  Curricular units 1st sem (enrolled)             51012 non-null  int64  \n",
      " 24  Curricular units 1st sem (evaluations)          51012 non-null  int64  \n",
      " 25  Curricular units 1st sem (approved)             51012 non-null  int64  \n",
      " 26  Curricular units 1st sem (grade)                51012 non-null  float64\n",
      " 27  Curricular units 1st sem (without evaluations)  51012 non-null  int64  \n",
      " 28  Curricular units 2nd sem (credited)             51012 non-null  int64  \n",
      " 29  Curricular units 2nd sem (enrolled)             51012 non-null  int64  \n",
      " 30  Curricular units 2nd sem (evaluations)          51012 non-null  int64  \n",
      " 31  Curricular units 2nd sem (approved)             51012 non-null  int64  \n",
      " 32  Curricular units 2nd sem (grade)                51012 non-null  float64\n",
      " 33  Curricular units 2nd sem (without evaluations)  51012 non-null  int64  \n",
      " 34  Unemployment rate                               51012 non-null  float64\n",
      " 35  Inflation rate                                  51012 non-null  float64\n",
      " 36  GDP                                             51012 non-null  float64\n",
      "dtypes: float64(7), int64(30)\n",
      "memory usage: 14.4 MB\n"
     ]
    }
   ],
   "source": [
    "test_data.info()"
   ]
  },
  {
   "cell_type": "code",
   "execution_count": 56,
   "id": "121a7a76-5170-47d0-b8be-fdc452088216",
   "metadata": {},
   "outputs": [
    {
     "data": {
      "text/plain": [
       "(51012, 37)"
      ]
     },
     "execution_count": 56,
     "metadata": {},
     "output_type": "execute_result"
    }
   ],
   "source": [
    "test_data.shape"
   ]
  },
  {
   "cell_type": "markdown",
   "id": "8a0b340e-b7de-45a9-b305-95e19aa2fd84",
   "metadata": {},
   "source": [
    "#### Checking Duplicates "
   ]
  },
  {
   "cell_type": "code",
   "execution_count": 57,
   "id": "b666e7f0-8207-41e8-9757-6ff6bed6dbfd",
   "metadata": {},
   "outputs": [
    {
     "data": {
      "text/plain": [
       "0"
      ]
     },
     "execution_count": 57,
     "metadata": {},
     "output_type": "execute_result"
    }
   ],
   "source": [
    "# checking duplicate rows\n",
    "test_data.duplicated().sum()"
   ]
  },
  {
   "cell_type": "code",
   "execution_count": 58,
   "id": "9c9304bb-e731-4126-94cb-fc691cff6679",
   "metadata": {},
   "outputs": [
    {
     "data": {
      "text/plain": [
       "0"
      ]
     },
     "execution_count": 58,
     "metadata": {},
     "output_type": "execute_result"
    }
   ],
   "source": [
    "# checking duplicate columns\n",
    "test_data.columns.duplicated().sum()"
   ]
  },
  {
   "cell_type": "markdown",
   "id": "950e700e-ff8d-43ca-8e37-908a55daa540",
   "metadata": {},
   "source": [
    "#### Checking Missing values"
   ]
  },
  {
   "cell_type": "code",
   "execution_count": 59,
   "id": "5ac5d458-177a-4250-a599-350246fb8c73",
   "metadata": {},
   "outputs": [
    {
     "data": {
      "text/plain": [
       "id                                                0\n",
       "Marital status                                    0\n",
       "Application mode                                  0\n",
       "Application order                                 0\n",
       "Course                                            0\n",
       "Daytime/evening attendance                        0\n",
       "Previous qualification                            0\n",
       "Previous qualification (grade)                    0\n",
       "Nacionality                                       0\n",
       "Mother's qualification                            0\n",
       "Father's qualification                            0\n",
       "Mother's occupation                               0\n",
       "Father's occupation                               0\n",
       "Admission grade                                   0\n",
       "Displaced                                         0\n",
       "Educational special needs                         0\n",
       "Debtor                                            0\n",
       "Tuition fees up to date                           0\n",
       "Gender                                            0\n",
       "Scholarship holder                                0\n",
       "Age at enrollment                                 0\n",
       "International                                     0\n",
       "Curricular units 1st sem (credited)               0\n",
       "Curricular units 1st sem (enrolled)               0\n",
       "Curricular units 1st sem (evaluations)            0\n",
       "Curricular units 1st sem (approved)               0\n",
       "Curricular units 1st sem (grade)                  0\n",
       "Curricular units 1st sem (without evaluations)    0\n",
       "Curricular units 2nd sem (credited)               0\n",
       "Curricular units 2nd sem (enrolled)               0\n",
       "Curricular units 2nd sem (evaluations)            0\n",
       "Curricular units 2nd sem (approved)               0\n",
       "Curricular units 2nd sem (grade)                  0\n",
       "Curricular units 2nd sem (without evaluations)    0\n",
       "Unemployment rate                                 0\n",
       "Inflation rate                                    0\n",
       "GDP                                               0\n",
       "dtype: int64"
      ]
     },
     "execution_count": 59,
     "metadata": {},
     "output_type": "execute_result"
    }
   ],
   "source": [
    "test_data.isna().sum()"
   ]
  },
  {
   "cell_type": "code",
   "execution_count": 60,
   "id": "7a8cd332-8ed1-46a8-b629-1ce08accb75b",
   "metadata": {},
   "outputs": [],
   "source": [
    "##Dropping id coulmn\n",
    "test_data.drop(\"id\", axis = 1, inplace = True)"
   ]
  },
  {
   "cell_type": "code",
   "execution_count": 61,
   "id": "92c93089-59b2-4319-be8d-6307d2c22091",
   "metadata": {},
   "outputs": [],
   "source": [
    "### splitting Numerical and Categorical Columns\n",
    "test_num_df =test_data[[\"Admission grade\", \"Previous qualification (grade)\",\"Curricular units 1st sem (credited)\",\n",
    "                          \"Curricular units 1st sem (enrolled)\", \"Curricular units 1st sem (evaluations)\",\n",
    "                          \"Curricular units 1st sem (approved)\", \"Curricular units 1st sem (grade)\",\n",
    "                          \"Curricular units 1st sem (without evaluations)\", \"Curricular units 2nd sem (credited)\",\n",
    "                          \"Curricular units 2nd sem (enrolled)\", \"Curricular units 2nd sem (evaluations)\",\n",
    "                          \"Curricular units 2nd sem (approved)\", \"Curricular units 2nd sem (grade)\",\n",
    "                          \"Curricular units 2nd sem (without evaluations)\", \"Unemployment rate\", \n",
    "                          \"Inflation rate\", \"GDP\", \"Age at enrollment\"]]\n",
    "test_cat_df = test_data[[\"Marital status\", \"Application mode\", \"Application order\", \"Course\", \n",
    "                           \"Daytime/evening attendance\", \"Previous qualification\", \"Nacionality\", \n",
    "                           \"Mother's qualification\", \"Father's qualification\", \"Mother's occupation\", \n",
    "                           \"Father's occupation\", \"Displaced\",\"Educational special needs\", \"Debtor\", \n",
    "                           \"Tuition fees up to date\", \"Gender\", \"Scholarship holder\",\"International\"]]"
   ]
  },
  {
   "cell_type": "markdown",
   "id": "73c8157c-e9fc-4c04-abea-14a3435af4f0",
   "metadata": {},
   "source": [
    "#### Outlier Handling"
   ]
  },
  {
   "cell_type": "code",
   "execution_count": 62,
   "id": "c129f335-7136-4beb-9cd0-683e96637ba7",
   "metadata": {},
   "outputs": [
    {
     "data": {
      "image/png": "[encoded data removed]",
      "text/plain": [
       "<Figure size 720x720 with 1 Axes>"
      ]
     },
     "metadata": {
      "needs_background": "light"
     },
     "output_type": "display_data"
    }
   ],
   "source": [
    "test_num_df.boxplot(figsize=(10,10))\n",
    "plt.xticks(rotation = 90)\n",
    "plt.show()"
   ]
  },
  {
   "cell_type": "code",
   "execution_count": 63,
   "id": "474fdcc0-097e-4f50-b62d-db3a1377df74",
   "metadata": {},
   "outputs": [],
   "source": [
    "def remove_outliers(test_num_df, column_name):\n",
    "    q1 = test_num_df[column_name].quantile(0.25)\n",
    "    q3 = test_num_df[column_name].quantile(0.75)\n",
    "    iqr = q3- q1\n",
    "    upper_bound =q3+1.5*iqr\n",
    "    lower_bound =q1-1.5*iqr\n",
    "    test_num_df[column_name] = test_num_df [column_name].clip(upper = upper_bound)\n",
    "    test_num_df[column_name] = test_num_df [column_name].clip(lower = lower_bound)\n",
    "    return test_num_df[column_name]\n",
    "for col in num_cols:\n",
    "    test_num_df[col] = remove_outliers(test_num_df, col)"
   ]
  },
  {
   "cell_type": "code",
   "execution_count": 64,
   "id": "df14b0e4-d65f-49cd-8e2a-c660ec5958ed",
   "metadata": {},
   "outputs": [
    {
     "data": {
      "image/png": "[encoded data removed]",
      "text/plain": [
       "<Figure size 720x576 with 1 Axes>"
      ]
     },
     "metadata": {
      "needs_background": "light"
     },
     "output_type": "display_data"
    }
   ],
   "source": [
    "test_num_df.boxplot(figsize=(10,8))\n",
    "plt.xticks(rotation = 90)\n",
    "plt.show()"
   ]
  },
  {
   "cell_type": "markdown",
   "id": "da338b36-3ab3-4e90-80cb-aa5d39f41091",
   "metadata": {},
   "source": [
    "#### Scaling Numerical Variables"
   ]
  },
  {
   "cell_type": "code",
   "execution_count": 65,
   "id": "033725cb-ccec-4d11-8ab5-87f507d3a15f",
   "metadata": {},
   "outputs": [],
   "source": [
    "#test_num_df.hist(bins=20, figsize= (15,15))\n",
    "#plt.show()"
   ]
  },
  {
   "cell_type": "code",
   "execution_count": 66,
   "id": "d0eed633-6435-4358-ab12-9b90377ea5ef",
   "metadata": {},
   "outputs": [
    {
     "name": "stdout",
     "output_type": "stream",
     "text": [
      "Scaling complete. Scaled data:\n"
     ]
    },
    {
     "data": {
      "text/html": [
       "<div>\n",
       "<style scoped>\n",
       "    .dataframe tbody tr th:only-of-type {\n",
       "        vertical-align: middle;\n",
       "    }\n",
       "\n",
       "    .dataframe tbody tr th {\n",
       "        vertical-align: top;\n",
       "    }\n",
       "\n",
       "    .dataframe thead th {\n",
       "        text-align: right;\n",
       "    }\n",
       "</style>\n",
       "<table border=\"1\" class=\"dataframe\">\n",
       "  <thead>\n",
       "    <tr style=\"text-align: right;\">\n",
       "      <th></th>\n",
       "      <th>Admission grade</th>\n",
       "      <th>Previous qualification (grade)</th>\n",
       "      <th>Curricular units 1st sem (credited)</th>\n",
       "      <th>Curricular units 1st sem (enrolled)</th>\n",
       "      <th>Curricular units 1st sem (evaluations)</th>\n",
       "      <th>Curricular units 1st sem (approved)</th>\n",
       "      <th>Curricular units 1st sem (grade)</th>\n",
       "      <th>Curricular units 1st sem (without evaluations)</th>\n",
       "      <th>Curricular units 2nd sem (credited)</th>\n",
       "      <th>Curricular units 2nd sem (enrolled)</th>\n",
       "      <th>Curricular units 2nd sem (evaluations)</th>\n",
       "      <th>Curricular units 2nd sem (approved)</th>\n",
       "      <th>Curricular units 2nd sem (grade)</th>\n",
       "      <th>Curricular units 2nd sem (without evaluations)</th>\n",
       "      <th>Unemployment rate</th>\n",
       "      <th>Inflation rate</th>\n",
       "      <th>GDP</th>\n",
       "      <th>Age at enrollment</th>\n",
       "    </tr>\n",
       "  </thead>\n",
       "  <tbody>\n",
       "    <tr>\n",
       "      <th>0</th>\n",
       "      <td>2.227726</td>\n",
       "      <td>0.824995</td>\n",
       "      <td>0.0</td>\n",
       "      <td>0.904677</td>\n",
       "      <td>0.000000</td>\n",
       "      <td>0.000000</td>\n",
       "      <td>-1.786920</td>\n",
       "      <td>0.0</td>\n",
       "      <td>0.0</td>\n",
       "      <td>1.000000</td>\n",
       "      <td>0.000000</td>\n",
       "      <td>0.000000</td>\n",
       "      <td>-1.702969</td>\n",
       "      <td>0.0</td>\n",
       "      <td>13.9</td>\n",
       "      <td>-0.3</td>\n",
       "      <td>0.79</td>\n",
       "      <td>0.096615</td>\n",
       "    </tr>\n",
       "    <tr>\n",
       "      <th>1</th>\n",
       "      <td>-0.725444</td>\n",
       "      <td>-0.407292</td>\n",
       "      <td>0.0</td>\n",
       "      <td>0.694718</td>\n",
       "      <td>0.661686</td>\n",
       "      <td>0.758654</td>\n",
       "      <td>1.306719</td>\n",
       "      <td>0.0</td>\n",
       "      <td>0.0</td>\n",
       "      <td>0.694718</td>\n",
       "      <td>0.585724</td>\n",
       "      <td>0.727675</td>\n",
       "      <td>0.761030</td>\n",
       "      <td>0.0</td>\n",
       "      <td>11.1</td>\n",
       "      <td>0.6</td>\n",
       "      <td>2.02</td>\n",
       "      <td>0.188273</td>\n",
       "    </tr>\n",
       "    <tr>\n",
       "      <th>2</th>\n",
       "      <td>-0.916239</td>\n",
       "      <td>-1.355205</td>\n",
       "      <td>0.0</td>\n",
       "      <td>0.694718</td>\n",
       "      <td>0.892345</td>\n",
       "      <td>0.758654</td>\n",
       "      <td>0.199376</td>\n",
       "      <td>0.0</td>\n",
       "      <td>0.0</td>\n",
       "      <td>0.694718</td>\n",
       "      <td>0.892345</td>\n",
       "      <td>0.670030</td>\n",
       "      <td>0.025508</td>\n",
       "      <td>0.0</td>\n",
       "      <td>15.5</td>\n",
       "      <td>2.8</td>\n",
       "      <td>-4.06</td>\n",
       "      <td>0.096615</td>\n",
       "    </tr>\n",
       "  </tbody>\n",
       "</table>\n",
       "</div>"
      ],
      "text/plain": [
       "   Admission grade  Previous qualification (grade)  \\\n",
       "0         2.227726                        0.824995   \n",
       "1        -0.725444                       -0.407292   \n",
       "2        -0.916239                       -1.355205   \n",
       "\n",
       "   Curricular units 1st sem (credited)  Curricular units 1st sem (enrolled)  \\\n",
       "0                                  0.0                             0.904677   \n",
       "1                                  0.0                             0.694718   \n",
       "2                                  0.0                             0.694718   \n",
       "\n",
       "   Curricular units 1st sem (evaluations)  \\\n",
       "0                                0.000000   \n",
       "1                                0.661686   \n",
       "2                                0.892345   \n",
       "\n",
       "   Curricular units 1st sem (approved)  Curricular units 1st sem (grade)  \\\n",
       "0                             0.000000                         -1.786920   \n",
       "1                             0.758654                          1.306719   \n",
       "2                             0.758654                          0.199376   \n",
       "\n",
       "   Curricular units 1st sem (without evaluations)  \\\n",
       "0                                             0.0   \n",
       "1                                             0.0   \n",
       "2                                             0.0   \n",
       "\n",
       "   Curricular units 2nd sem (credited)  Curricular units 2nd sem (enrolled)  \\\n",
       "0                                  0.0                             1.000000   \n",
       "1                                  0.0                             0.694718   \n",
       "2                                  0.0                             0.694718   \n",
       "\n",
       "   Curricular units 2nd sem (evaluations)  \\\n",
       "0                                0.000000   \n",
       "1                                0.585724   \n",
       "2                                0.892345   \n",
       "\n",
       "   Curricular units 2nd sem (approved)  Curricular units 2nd sem (grade)  \\\n",
       "0                             0.000000                         -1.702969   \n",
       "1                             0.727675                          0.761030   \n",
       "2                             0.670030                          0.025508   \n",
       "\n",
       "   Curricular units 2nd sem (without evaluations)  Unemployment rate  \\\n",
       "0                                             0.0               13.9   \n",
       "1                                             0.0               11.1   \n",
       "2                                             0.0               15.5   \n",
       "\n",
       "   Inflation rate   GDP  Age at enrollment  \n",
       "0            -0.3  0.79           0.096615  \n",
       "1             0.6  2.02           0.188273  \n",
       "2             2.8 -4.06           0.096615  "
      ]
     },
     "execution_count": 66,
     "metadata": {},
     "output_type": "execute_result"
    }
   ],
   "source": [
    "# Identify columns to scale\n",
    "right_skewed_cols = ['Curricular units 1st sem (enrolled)', 'Curricular units 1st sem (evaluations)','Curricular units 1st sem (approved)',\n",
    "                     'Curricular units 2nd sem (enrolled)', 'Curricular units 2nd sem (evaluations)', 'Curricular units 2nd sem (approved)',\n",
    "                    'Age at enrollment',]\n",
    "symmetric_cols = ['Admission grade', 'Previous qualification (grade)','Curricular units 1st sem (grade)','Curricular units 2nd sem (grade)']\n",
    "\n",
    "min_max_scaler = MinMaxScaler()\n",
    "standard_scaler = StandardScaler()\n",
    "\n",
    "# Apply log transformation for skewed columns to reduce skewness\n",
    "for col in right_skewed_cols:\n",
    "    test_num_df[col] = np.log1p(test_num_df[col])\n",
    "\n",
    "# Apply MinMaxScaler for skewed columns\n",
    "test_num_df[right_skewed_cols] = min_max_scaler.fit_transform(test_num_df[right_skewed_cols])\n",
    "\n",
    "# Apply StandardScaler for symmetric columns\n",
    "test_num_df[symmetric_cols] = standard_scaler.fit_transform(test_num_df[symmetric_cols])\n",
    "\n",
    "print(\"Scaling complete. Scaled data:\")\n",
    "test_num_df.head(3)"
   ]
  },
  {
   "cell_type": "code",
   "execution_count": 67,
   "id": "2156320b-8914-4d30-8162-184866d24525",
   "metadata": {},
   "outputs": [],
   "source": [
    "test_cleaned = pd.concat([test_cat_df, test_num_df], axis=1) # combining scaled and encoded data frames"
   ]
  },
  {
   "cell_type": "markdown",
   "id": "e36dfa60-d8ca-4466-9e26-42d02eaef181",
   "metadata": {},
   "source": [
    "# Prediction"
   ]
  },
  {
   "cell_type": "code",
   "execution_count": 68,
   "id": "7b7db26b-68e4-4049-bfe3-ccd478b9bf26",
   "metadata": {},
   "outputs": [
    {
     "data": {
      "text/html": [
       "<div>\n",
       "<style scoped>\n",
       "    .dataframe tbody tr th:only-of-type {\n",
       "        vertical-align: middle;\n",
       "    }\n",
       "\n",
       "    .dataframe tbody tr th {\n",
       "        vertical-align: top;\n",
       "    }\n",
       "\n",
       "    .dataframe thead th {\n",
       "        text-align: right;\n",
       "    }\n",
       "</style>\n",
       "<table border=\"1\" class=\"dataframe\">\n",
       "  <thead>\n",
       "    <tr style=\"text-align: right;\">\n",
       "      <th></th>\n",
       "      <th>Marital status</th>\n",
       "      <th>Application mode</th>\n",
       "      <th>Application order</th>\n",
       "      <th>Course</th>\n",
       "      <th>Daytime/evening attendance</th>\n",
       "      <th>Previous qualification</th>\n",
       "      <th>Nacionality</th>\n",
       "      <th>Mother's qualification</th>\n",
       "      <th>Father's qualification</th>\n",
       "      <th>Mother's occupation</th>\n",
       "      <th>...</th>\n",
       "      <th>Curricular units 2nd sem (credited)</th>\n",
       "      <th>Curricular units 2nd sem (enrolled)</th>\n",
       "      <th>Curricular units 2nd sem (evaluations)</th>\n",
       "      <th>Curricular units 2nd sem (approved)</th>\n",
       "      <th>Curricular units 2nd sem (grade)</th>\n",
       "      <th>Curricular units 2nd sem (without evaluations)</th>\n",
       "      <th>Unemployment rate</th>\n",
       "      <th>Inflation rate</th>\n",
       "      <th>GDP</th>\n",
       "      <th>Age at enrollment</th>\n",
       "    </tr>\n",
       "  </thead>\n",
       "  <tbody>\n",
       "    <tr>\n",
       "      <th>0</th>\n",
       "      <td>1</td>\n",
       "      <td>1</td>\n",
       "      <td>1</td>\n",
       "      <td>9500</td>\n",
       "      <td>1</td>\n",
       "      <td>1</td>\n",
       "      <td>1</td>\n",
       "      <td>3</td>\n",
       "      <td>1</td>\n",
       "      <td>2</td>\n",
       "      <td>...</td>\n",
       "      <td>0.0</td>\n",
       "      <td>1.000000</td>\n",
       "      <td>0.000000</td>\n",
       "      <td>0.000000</td>\n",
       "      <td>-1.702969</td>\n",
       "      <td>0.0</td>\n",
       "      <td>13.9</td>\n",
       "      <td>-0.3</td>\n",
       "      <td>0.79</td>\n",
       "      <td>0.096615</td>\n",
       "    </tr>\n",
       "    <tr>\n",
       "      <th>1</th>\n",
       "      <td>1</td>\n",
       "      <td>1</td>\n",
       "      <td>1</td>\n",
       "      <td>9238</td>\n",
       "      <td>1</td>\n",
       "      <td>1</td>\n",
       "      <td>1</td>\n",
       "      <td>1</td>\n",
       "      <td>19</td>\n",
       "      <td>4</td>\n",
       "      <td>...</td>\n",
       "      <td>0.0</td>\n",
       "      <td>0.694718</td>\n",
       "      <td>0.585724</td>\n",
       "      <td>0.727675</td>\n",
       "      <td>0.761030</td>\n",
       "      <td>0.0</td>\n",
       "      <td>11.1</td>\n",
       "      <td>0.6</td>\n",
       "      <td>2.02</td>\n",
       "      <td>0.188273</td>\n",
       "    </tr>\n",
       "    <tr>\n",
       "      <th>2</th>\n",
       "      <td>1</td>\n",
       "      <td>1</td>\n",
       "      <td>1</td>\n",
       "      <td>9238</td>\n",
       "      <td>1</td>\n",
       "      <td>1</td>\n",
       "      <td>1</td>\n",
       "      <td>1</td>\n",
       "      <td>19</td>\n",
       "      <td>4</td>\n",
       "      <td>...</td>\n",
       "      <td>0.0</td>\n",
       "      <td>0.694718</td>\n",
       "      <td>0.892345</td>\n",
       "      <td>0.670030</td>\n",
       "      <td>0.025508</td>\n",
       "      <td>0.0</td>\n",
       "      <td>15.5</td>\n",
       "      <td>2.8</td>\n",
       "      <td>-4.06</td>\n",
       "      <td>0.096615</td>\n",
       "    </tr>\n",
       "    <tr>\n",
       "      <th>3</th>\n",
       "      <td>1</td>\n",
       "      <td>44</td>\n",
       "      <td>1</td>\n",
       "      <td>9147</td>\n",
       "      <td>1</td>\n",
       "      <td>39</td>\n",
       "      <td>1</td>\n",
       "      <td>1</td>\n",
       "      <td>19</td>\n",
       "      <td>3</td>\n",
       "      <td>...</td>\n",
       "      <td>0.0</td>\n",
       "      <td>1.000000</td>\n",
       "      <td>1.000000</td>\n",
       "      <td>0.670030</td>\n",
       "      <td>0.025508</td>\n",
       "      <td>0.0</td>\n",
       "      <td>8.9</td>\n",
       "      <td>1.4</td>\n",
       "      <td>3.51</td>\n",
       "      <td>0.514071</td>\n",
       "    </tr>\n",
       "    <tr>\n",
       "      <th>4</th>\n",
       "      <td>1</td>\n",
       "      <td>39</td>\n",
       "      <td>1</td>\n",
       "      <td>9670</td>\n",
       "      <td>1</td>\n",
       "      <td>1</td>\n",
       "      <td>1</td>\n",
       "      <td>1</td>\n",
       "      <td>37</td>\n",
       "      <td>5</td>\n",
       "      <td>...</td>\n",
       "      <td>0.0</td>\n",
       "      <td>0.694718</td>\n",
       "      <td>0.788627</td>\n",
       "      <td>0.601851</td>\n",
       "      <td>-0.072562</td>\n",
       "      <td>0.0</td>\n",
       "      <td>7.6</td>\n",
       "      <td>2.6</td>\n",
       "      <td>0.32</td>\n",
       "      <td>0.724542</td>\n",
       "    </tr>\n",
       "  </tbody>\n",
       "</table>\n",
       "<p>5 rows × 36 columns</p>\n",
       "</div>"
      ],
      "text/plain": [
       "   Marital status  Application mode  Application order  Course  \\\n",
       "0               1                 1                  1    9500   \n",
       "1               1                 1                  1    9238   \n",
       "2               1                 1                  1    9238   \n",
       "3               1                44                  1    9147   \n",
       "4               1                39                  1    9670   \n",
       "\n",
       "   Daytime/evening attendance  Previous qualification  Nacionality  \\\n",
       "0                           1                       1            1   \n",
       "1                           1                       1            1   \n",
       "2                           1                       1            1   \n",
       "3                           1                      39            1   \n",
       "4                           1                       1            1   \n",
       "\n",
       "   Mother's qualification  Father's qualification  Mother's occupation  ...  \\\n",
       "0                       3                       1                    2  ...   \n",
       "1                       1                      19                    4  ...   \n",
       "2                       1                      19                    4  ...   \n",
       "3                       1                      19                    3  ...   \n",
       "4                       1                      37                    5  ...   \n",
       "\n",
       "   Curricular units 2nd sem (credited)  Curricular units 2nd sem (enrolled)  \\\n",
       "0                                  0.0                             1.000000   \n",
       "1                                  0.0                             0.694718   \n",
       "2                                  0.0                             0.694718   \n",
       "3                                  0.0                             1.000000   \n",
       "4                                  0.0                             0.694718   \n",
       "\n",
       "   Curricular units 2nd sem (evaluations)  \\\n",
       "0                                0.000000   \n",
       "1                                0.585724   \n",
       "2                                0.892345   \n",
       "3                                1.000000   \n",
       "4                                0.788627   \n",
       "\n",
       "   Curricular units 2nd sem (approved)  Curricular units 2nd sem (grade)  \\\n",
       "0                             0.000000                         -1.702969   \n",
       "1                             0.727675                          0.761030   \n",
       "2                             0.670030                          0.025508   \n",
       "3                             0.670030                          0.025508   \n",
       "4                             0.601851                         -0.072562   \n",
       "\n",
       "   Curricular units 2nd sem (without evaluations)  Unemployment rate  \\\n",
       "0                                             0.0               13.9   \n",
       "1                                             0.0               11.1   \n",
       "2                                             0.0               15.5   \n",
       "3                                             0.0                8.9   \n",
       "4                                             0.0                7.6   \n",
       "\n",
       "   Inflation rate   GDP  Age at enrollment  \n",
       "0            -0.3  0.79           0.096615  \n",
       "1             0.6  2.02           0.188273  \n",
       "2             2.8 -4.06           0.096615  \n",
       "3             1.4  3.51           0.514071  \n",
       "4             2.6  0.32           0.724542  \n",
       "\n",
       "[5 rows x 36 columns]"
      ]
     },
     "execution_count": 68,
     "metadata": {},
     "output_type": "execute_result"
    }
   ],
   "source": [
    "test_cleaned.head()"
   ]
  },
  {
   "cell_type": "code",
   "execution_count": 69,
   "id": "a6c01cbc-8052-491b-8583-2e26235a0079",
   "metadata": {},
   "outputs": [],
   "source": [
    "test_cleaned[\"Target\"] = rf.predict(test_cleaned)"
   ]
  },
  {
   "cell_type": "code",
   "execution_count": 70,
   "id": "386bfedb-62ea-4cf1-9826-ad5610f2aece",
   "metadata": {},
   "outputs": [
    {
     "data": {
      "text/plain": [
       "Graduate    26609\n",
       "Dropout     15221\n",
       "Enrolled     9182\n",
       "Name: Target, dtype: int64"
      ]
     },
     "execution_count": 70,
     "metadata": {},
     "output_type": "execute_result"
    }
   ],
   "source": [
    "test_cleaned[\"Target\"].value_counts()"
   ]
  },
  {
   "cell_type": "code",
   "execution_count": 71,
   "id": "b00cdde7-d2f8-4fde-98e7-8b0deef4fec6",
   "metadata": {},
   "outputs": [
    {
     "data": {
      "image/png": "[encoded data removed]",
      "text/plain": [
       "<Figure size 360x360 with 1 Axes>"
      ]
     },
     "metadata": {
      "needs_background": "light"
     },
     "output_type": "display_data"
    }
   ],
   "source": [
    "plt.figure(figsize=(5,5))\n",
    "ax = sns.countplot(data=test_cleaned, x='Target', order=test_cleaned['Target'].value_counts().index, palette='Set1')\n",
    "ax.set_xticklabels(['Graduate','Dropout','Enrolled'], rotation=0)\n",
    "plt.title(\"Academic Status Distribution\")\n",
    "plt.show()\n",
    "#0 - Dropout\n",
    "#1 - Enrolled\n",
    "#2 - Graduate"
   ]
  },
  {
   "cell_type": "code",
   "execution_count": 72,
   "id": "dae830a2-af25-472a-8609-fcbeacbb2304",
   "metadata": {},
   "outputs": [],
   "source": [
    "test_acad_status= test_cleaned[\"Target\"]"
   ]
  },
  {
   "cell_type": "code",
   "execution_count": 73,
   "id": "ae25d7c7-c575-4536-be9b-cb5dc2c78bb1",
   "metadata": {},
   "outputs": [],
   "source": [
    "df = pd.read_csv(\"C:\\\\Users\\\\Acer\\\\Downloads\\\\test.csv\\\\test.csv\")\n",
    "Id_df = df[\"id\"]"
   ]
  },
  {
   "cell_type": "code",
   "execution_count": 74,
   "id": "277085ee-e43e-41e8-8e64-ac890631195e",
   "metadata": {},
   "outputs": [],
   "source": [
    "test_pred= pd.concat([Id_df, test_acad_status], axis=1)"
   ]
  },
  {
   "cell_type": "code",
   "execution_count": 75,
   "id": "44710d63-dac2-40b6-b529-d7b7be66706b",
   "metadata": {},
   "outputs": [],
   "source": [
    "test_pred['Target'] = test_pred['Target'].replace({0: 'Dropout', 1: 'Enrolled', 2: 'Graduate'}) #converting target into previous form"
   ]
  },
  {
   "cell_type": "code",
   "execution_count": 76,
   "id": "e809367a-c4cf-4bc5-803f-ebfebf065703",
   "metadata": {},
   "outputs": [
    {
     "data": {
      "text/html": [
       "<div>\n",
       "<style scoped>\n",
       "    .dataframe tbody tr th:only-of-type {\n",
       "        vertical-align: middle;\n",
       "    }\n",
       "\n",
       "    .dataframe tbody tr th {\n",
       "        vertical-align: top;\n",
       "    }\n",
       "\n",
       "    .dataframe thead th {\n",
       "        text-align: right;\n",
       "    }\n",
       "</style>\n",
       "<table border=\"1\" class=\"dataframe\">\n",
       "  <thead>\n",
       "    <tr style=\"text-align: right;\">\n",
       "      <th></th>\n",
       "      <th>id</th>\n",
       "      <th>Target</th>\n",
       "    </tr>\n",
       "  </thead>\n",
       "  <tbody>\n",
       "    <tr>\n",
       "      <th>0</th>\n",
       "      <td>76518</td>\n",
       "      <td>Dropout</td>\n",
       "    </tr>\n",
       "    <tr>\n",
       "      <th>1</th>\n",
       "      <td>76519</td>\n",
       "      <td>Graduate</td>\n",
       "    </tr>\n",
       "    <tr>\n",
       "      <th>2</th>\n",
       "      <td>76520</td>\n",
       "      <td>Graduate</td>\n",
       "    </tr>\n",
       "  </tbody>\n",
       "</table>\n",
       "</div>"
      ],
      "text/plain": [
       "      id    Target\n",
       "0  76518   Dropout\n",
       "1  76519  Graduate\n",
       "2  76520  Graduate"
      ]
     },
     "execution_count": 76,
     "metadata": {},
     "output_type": "execute_result"
    }
   ],
   "source": [
    "test_pred.head(3) "
   ]
  },
  {
   "cell_type": "code",
   "execution_count": 77,
   "id": "8503859d-42d8-4aea-914c-54c6b80f402b",
   "metadata": {},
   "outputs": [
    {
     "data": {
      "text/plain": [
       "(51012, 2)"
      ]
     },
     "execution_count": 77,
     "metadata": {},
     "output_type": "execute_result"
    }
   ],
   "source": [
    "test_pred.shape"
   ]
  },
  {
   "cell_type": "code",
   "execution_count": 79,
   "id": "0a5c049f-53c4-46d2-b3e5-fe503214ee0a",
   "metadata": {},
   "outputs": [],
   "source": [
    "test_pred.to_csv(\"C:\\\\Users\\\\Acer\\\\Downloads\\\\test_pred_academic_status.csv\", index=False) #saving predicted dataset"
   ]
  },
  {
   "cell_type": "markdown",
   "id": "b5e01c42-6842-4fae-9f1c-d23a91382019",
   "metadata": {},
   "source": [
    "## Conclusion"
   ]
  },
  {
   "cell_type": "markdown",
   "id": "caf35aaf-fd15-4e6c-a9c5-4f7c67ac9e99",
   "metadata": {},
   "source": [
    "- The academic status classification task is performed on test data using Random Forest Classifier.\n",
    "- According to the prediction, 26609 students are graduated,15221 and 9182 are enrolled."
   ]
  }
 ],
 "metadata": {
  "kernelspec": {
   "display_name": "Python 3 (ipykernel)",
   "language": "python",
   "name": "python3"
  },
  "language_info": {
   "codemirror_mode": {
    "name": "ipython",
    "version": 3
   },
   "file_extension": ".py",
   "mimetype": "text/x-python",
   "name": "python",
   "nbconvert_exporter": "python",
   "pygments_lexer": "ipython3",
   "version": "3.9.12"
  }
 },
 "nbformat": 4,
 "nbformat_minor": 5
}
